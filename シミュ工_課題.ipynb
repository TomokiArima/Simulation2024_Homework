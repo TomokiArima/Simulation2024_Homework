{
  "nbformat": 4,
  "nbformat_minor": 0,
  "metadata": {
    "colab": {
      "provenance": [],
      "authorship_tag": "ABX9TyOVPGsHJQcRT+VLa3nxFEwR",
      "include_colab_link": true
    },
    "kernelspec": {
      "name": "python3",
      "display_name": "Python 3"
    },
    "language_info": {
      "name": "python"
    },
    "widgets": {
      "application/vnd.jupyter.widget-state+json": {
        "7959ca0accff430192754efc2c8fa88b": {
          "model_module": "@jupyter-widgets/controls",
          "model_name": "FloatSliderModel",
          "model_module_version": "1.5.0",
          "state": {
            "_dom_classes": [],
            "_model_module": "@jupyter-widgets/controls",
            "_model_module_version": "1.5.0",
            "_model_name": "FloatSliderModel",
            "_view_count": null,
            "_view_module": "@jupyter-widgets/controls",
            "_view_module_version": "1.5.0",
            "_view_name": "FloatSliderView",
            "continuous_update": true,
            "description": "ω₀:",
            "description_tooltip": null,
            "disabled": false,
            "layout": "IPY_MODEL_16e77847fd2c460d92cea56a26926f62",
            "max": 10,
            "min": 0.1,
            "orientation": "horizontal",
            "readout": true,
            "readout_format": ".2f",
            "step": 0.1,
            "style": "IPY_MODEL_a2b760ddb4ba4439ace55c874c6fad92",
            "value": 5
          }
        },
        "16e77847fd2c460d92cea56a26926f62": {
          "model_module": "@jupyter-widgets/base",
          "model_name": "LayoutModel",
          "model_module_version": "1.2.0",
          "state": {
            "_model_module": "@jupyter-widgets/base",
            "_model_module_version": "1.2.0",
            "_model_name": "LayoutModel",
            "_view_count": null,
            "_view_module": "@jupyter-widgets/base",
            "_view_module_version": "1.2.0",
            "_view_name": "LayoutView",
            "align_content": null,
            "align_items": null,
            "align_self": null,
            "border": null,
            "bottom": null,
            "display": null,
            "flex": null,
            "flex_flow": null,
            "grid_area": null,
            "grid_auto_columns": null,
            "grid_auto_flow": null,
            "grid_auto_rows": null,
            "grid_column": null,
            "grid_gap": null,
            "grid_row": null,
            "grid_template_areas": null,
            "grid_template_columns": null,
            "grid_template_rows": null,
            "height": null,
            "justify_content": null,
            "justify_items": null,
            "left": null,
            "margin": null,
            "max_height": null,
            "max_width": null,
            "min_height": null,
            "min_width": null,
            "object_fit": null,
            "object_position": null,
            "order": null,
            "overflow": null,
            "overflow_x": null,
            "overflow_y": null,
            "padding": null,
            "right": null,
            "top": null,
            "visibility": null,
            "width": null
          }
        },
        "a2b760ddb4ba4439ace55c874c6fad92": {
          "model_module": "@jupyter-widgets/controls",
          "model_name": "SliderStyleModel",
          "model_module_version": "1.5.0",
          "state": {
            "_model_module": "@jupyter-widgets/controls",
            "_model_module_version": "1.5.0",
            "_model_name": "SliderStyleModel",
            "_view_count": null,
            "_view_module": "@jupyter-widgets/base",
            "_view_module_version": "1.2.0",
            "_view_name": "StyleView",
            "description_width": "",
            "handle_color": null
          }
        },
        "8ba23764f9e64736a0cbb59d678be0c9": {
          "model_module": "@jupyter-widgets/controls",
          "model_name": "FloatSliderModel",
          "model_module_version": "1.5.0",
          "state": {
            "_dom_classes": [],
            "_model_module": "@jupyter-widgets/controls",
            "_model_module_version": "1.5.0",
            "_model_name": "FloatSliderModel",
            "_view_count": null,
            "_view_module": "@jupyter-widgets/controls",
            "_view_module_version": "1.5.0",
            "_view_name": "FloatSliderView",
            "continuous_update": true,
            "description": "k:",
            "description_tooltip": null,
            "disabled": false,
            "layout": "IPY_MODEL_3db4dccd32d74bc39d505f6dce44263d",
            "max": 1,
            "min": 0.01,
            "orientation": "horizontal",
            "readout": true,
            "readout_format": ".2f",
            "step": 0.01,
            "style": "IPY_MODEL_33e682473e9c42d0bdf5c1285457b7e5",
            "value": 0.31
          }
        },
        "3db4dccd32d74bc39d505f6dce44263d": {
          "model_module": "@jupyter-widgets/base",
          "model_name": "LayoutModel",
          "model_module_version": "1.2.0",
          "state": {
            "_model_module": "@jupyter-widgets/base",
            "_model_module_version": "1.2.0",
            "_model_name": "LayoutModel",
            "_view_count": null,
            "_view_module": "@jupyter-widgets/base",
            "_view_module_version": "1.2.0",
            "_view_name": "LayoutView",
            "align_content": null,
            "align_items": null,
            "align_self": null,
            "border": null,
            "bottom": null,
            "display": null,
            "flex": null,
            "flex_flow": null,
            "grid_area": null,
            "grid_auto_columns": null,
            "grid_auto_flow": null,
            "grid_auto_rows": null,
            "grid_column": null,
            "grid_gap": null,
            "grid_row": null,
            "grid_template_areas": null,
            "grid_template_columns": null,
            "grid_template_rows": null,
            "height": null,
            "justify_content": null,
            "justify_items": null,
            "left": null,
            "margin": null,
            "max_height": null,
            "max_width": null,
            "min_height": null,
            "min_width": null,
            "object_fit": null,
            "object_position": null,
            "order": null,
            "overflow": null,
            "overflow_x": null,
            "overflow_y": null,
            "padding": null,
            "right": null,
            "top": null,
            "visibility": null,
            "width": null
          }
        },
        "33e682473e9c42d0bdf5c1285457b7e5": {
          "model_module": "@jupyter-widgets/controls",
          "model_name": "SliderStyleModel",
          "model_module_version": "1.5.0",
          "state": {
            "_model_module": "@jupyter-widgets/controls",
            "_model_module_version": "1.5.0",
            "_model_name": "SliderStyleModel",
            "_view_count": null,
            "_view_module": "@jupyter-widgets/base",
            "_view_module_version": "1.2.0",
            "_view_name": "StyleView",
            "description_width": "",
            "handle_color": null
          }
        },
        "9630f0f92a7a4d05bc44765be957b722": {
          "model_module": "@jupyter-widgets/output",
          "model_name": "OutputModel",
          "model_module_version": "1.0.0",
          "state": {
            "_dom_classes": [],
            "_model_module": "@jupyter-widgets/output",
            "_model_module_version": "1.0.0",
            "_model_name": "OutputModel",
            "_view_count": null,
            "_view_module": "@jupyter-widgets/output",
            "_view_module_version": "1.0.0",
            "_view_name": "OutputView",
            "layout": "IPY_MODEL_8961eae18dc943a49a5f44470ea4b605",
            "msg_id": "",
            "outputs": [
              {
                "output_type": "display_data",
                "data": {
                  "text/plain": "<Figure size 640x480 with 1 Axes>",
                  "image/png": "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\n"
                },
                "metadata": {}
              }
            ]
          }
        },
        "8961eae18dc943a49a5f44470ea4b605": {
          "model_module": "@jupyter-widgets/base",
          "model_name": "LayoutModel",
          "model_module_version": "1.2.0",
          "state": {
            "_model_module": "@jupyter-widgets/base",
            "_model_module_version": "1.2.0",
            "_model_name": "LayoutModel",
            "_view_count": null,
            "_view_module": "@jupyter-widgets/base",
            "_view_module_version": "1.2.0",
            "_view_name": "LayoutView",
            "align_content": null,
            "align_items": null,
            "align_self": null,
            "border": null,
            "bottom": null,
            "display": null,
            "flex": null,
            "flex_flow": null,
            "grid_area": null,
            "grid_auto_columns": null,
            "grid_auto_flow": null,
            "grid_auto_rows": null,
            "grid_column": null,
            "grid_gap": null,
            "grid_row": null,
            "grid_template_areas": null,
            "grid_template_columns": null,
            "grid_template_rows": null,
            "height": null,
            "justify_content": null,
            "justify_items": null,
            "left": null,
            "margin": null,
            "max_height": null,
            "max_width": null,
            "min_height": null,
            "min_width": null,
            "object_fit": null,
            "object_position": null,
            "order": null,
            "overflow": null,
            "overflow_x": null,
            "overflow_y": null,
            "padding": null,
            "right": null,
            "top": null,
            "visibility": null,
            "width": null
          }
        }
      }
    }
  },
  "cells": [
    {
      "cell_type": "markdown",
      "metadata": {
        "id": "view-in-github",
        "colab_type": "text"
      },
      "source": [
        "<a href=\"https://colab.research.google.com/github/TomokiArima/Simulation2024_Homework/blob/main/%E3%82%B7%E3%83%9F%E3%83%A5%E5%B7%A5_%E8%AA%B2%E9%A1%8C.ipynb\" target=\"_parent\"><img src=\"https://colab.research.google.com/assets/colab-badge.svg\" alt=\"Open In Colab\"/></a>"
      ]
    },
    {
      "cell_type": "code",
      "execution_count": 13,
      "metadata": {
        "id": "-ur3G2vHqpHK",
        "colab": {
          "base_uri": "https://localhost:8080/",
          "height": 534,
          "referenced_widgets": [
            "7959ca0accff430192754efc2c8fa88b",
            "16e77847fd2c460d92cea56a26926f62",
            "a2b760ddb4ba4439ace55c874c6fad92",
            "8ba23764f9e64736a0cbb59d678be0c9",
            "3db4dccd32d74bc39d505f6dce44263d",
            "33e682473e9c42d0bdf5c1285457b7e5",
            "9630f0f92a7a4d05bc44765be957b722",
            "8961eae18dc943a49a5f44470ea4b605"
          ]
        },
        "outputId": "9f3dabe7-0f17-4574-88a1-98b5a337bfd2"
      },
      "outputs": [
        {
          "output_type": "display_data",
          "data": {
            "text/plain": [
              "FloatSlider(value=5.0, description='ω₀:', max=10.0, min=0.1)"
            ],
            "application/vnd.jupyter.widget-view+json": {
              "version_major": 2,
              "version_minor": 0,
              "model_id": "7959ca0accff430192754efc2c8fa88b"
            }
          },
          "metadata": {}
        },
        {
          "output_type": "display_data",
          "data": {
            "text/plain": [
              "FloatSlider(value=0.1, description='k:', max=1.0, min=0.01, step=0.01)"
            ],
            "application/vnd.jupyter.widget-view+json": {
              "version_major": 2,
              "version_minor": 0,
              "model_id": "8ba23764f9e64736a0cbb59d678be0c9"
            }
          },
          "metadata": {}
        },
        {
          "output_type": "display_data",
          "data": {
            "text/plain": [
              "Output()"
            ],
            "application/vnd.jupyter.widget-view+json": {
              "version_major": 2,
              "version_minor": 0,
              "model_id": "9630f0f92a7a4d05bc44765be957b722"
            }
          },
          "metadata": {}
        }
      ],
      "source": [
        "import matplotlib.pyplot as plt\n",
        "import numpy as np\n",
        "import math\n",
        "import ipywidgets as widgets    #スライダー用のライブラリ\n",
        "from IPython.display import display\n",
        "\n",
        "\n",
        "#減衰の式\n",
        "def DampedOscillation (w0,k,x0,wd, t):\n",
        "  x = [] #結果を格納するリストを初期化\n",
        "  for ti in t: #tの各要素に対してループ、tiはi番目の配列の中身\n",
        "    xi = x0 * (math.exp(-k * ti)) *(math.cos(wd * ti) + ((k/wd) * math.sin(wd * ti)))\n",
        "    x.append(xi) # 結果をリストに追加\n",
        "  return np.array(x) #リストをNumPy配列に変換して返す\n",
        "\n",
        "\n",
        "#条件\n",
        "t = np.arange(0, 10, 0.01)  #時間範囲\n",
        "x0=7  #初期変位x0\n",
        "\n",
        "#スライダーの設定\n",
        "w0_slider = widgets.FloatSlider(value=5, min=0.1, max=10, step=0.1, description='ω₀:')  #w0：固有角振動数　(value=初期値、min,max=スライダー範囲、step=刻み幅、description=スライダータイトル)\n",
        "k_slider = widgets.FloatSlider(value=0.1, min=0.01, max=1, step=0.01, description='k:') #k：減衰係数\n",
        "\n",
        "#グラフを出力する所を作成\n",
        "output = widgets.Output()\n",
        "\n",
        "#関数：スライダーの値が変更されたときの更新処理\n",
        "def update_plot(change):\n",
        "  with output:  #グラフを出力する所のoutputに対する処理という指定\n",
        "    clear_output(wait=True)   #以前の出力を削除する\n",
        "    #スライダーの値をw0,kに代入する\n",
        "    w0 = w0_slider.value  #\".value\"でスライダーの値を取得する\n",
        "    k = k_slider.value\n",
        "\n",
        "    try:\n",
        "      wd = math.sqrt((w0**2) - (k**2))  #wd：角振動数(減衰有)\n",
        "      V = DampedOscillation(w0,k,x0,wd,t) #V：変位　減衰の式(DampedOscillation)に各値を代入して計算\n",
        "      plt.plot(t, V)\n",
        "      plt.xlabel('t')\n",
        "      plt.ylabel('V')\n",
        "      plt.title(f'w0 = {w0:.2f}, k = {k:.2f}, x₀ = {x0:.2f}')\n",
        "      plt.grid(True) # グリッド表示\n",
        "      plt.show()\n",
        "\n",
        "    except ValueError:\n",
        "            print(\"Error: wd=√(ω₀² - k²)が負になった可能性\")\n",
        "\n",
        "#スライダーの値の変化を検知する\n",
        "w0_slider.observe(update_plot, names='value')  #names='value'でスライダーの値を検知する指定。　検知された際に呼び出す関数はupdate_plot\n",
        "k_slider.observe(update_plot, names='value')\n",
        "\n",
        "display(w0_slider, k_slider, output) #スライダーと出力エリアをNotebook上に表示\n",
        "update_plot(None)\n"
      ]
    }
  ]
}