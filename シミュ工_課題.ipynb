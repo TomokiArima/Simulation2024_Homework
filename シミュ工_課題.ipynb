{
  "nbformat": 4,
  "nbformat_minor": 0,
  "metadata": {
    "colab": {
      "provenance": [],
      "authorship_tag": "ABX9TyNWk6ap1sKsERHy1oty2pAS",
      "include_colab_link": true
    },
    "kernelspec": {
      "name": "python3",
      "display_name": "Python 3"
    },
    "language_info": {
      "name": "python"
    },
    "widgets": {
      "application/vnd.jupyter.widget-state+json": {
        "ec6e9adb94314599bfa74173a13cdcfb": {
          "model_module": "@jupyter-widgets/controls",
          "model_name": "FloatSliderModel",
          "model_module_version": "1.5.0",
          "state": {
            "_dom_classes": [],
            "_model_module": "@jupyter-widgets/controls",
            "_model_module_version": "1.5.0",
            "_model_name": "FloatSliderModel",
            "_view_count": null,
            "_view_module": "@jupyter-widgets/controls",
            "_view_module_version": "1.5.0",
            "_view_name": "FloatSliderView",
            "continuous_update": true,
            "description": "ω₀a:",
            "description_tooltip": null,
            "disabled": false,
            "layout": "IPY_MODEL_5e771c57b59f493ba5a6c9b698a79ab4",
            "max": 10,
            "min": 0.1,
            "orientation": "horizontal",
            "readout": true,
            "readout_format": ".2f",
            "step": 0.1,
            "style": "IPY_MODEL_ad6f3beb41d34a369e6e8e3cf8e41d39",
            "value": 10
          }
        },
        "5e771c57b59f493ba5a6c9b698a79ab4": {
          "model_module": "@jupyter-widgets/base",
          "model_name": "LayoutModel",
          "model_module_version": "1.2.0",
          "state": {
            "_model_module": "@jupyter-widgets/base",
            "_model_module_version": "1.2.0",
            "_model_name": "LayoutModel",
            "_view_count": null,
            "_view_module": "@jupyter-widgets/base",
            "_view_module_version": "1.2.0",
            "_view_name": "LayoutView",
            "align_content": null,
            "align_items": null,
            "align_self": null,
            "border": null,
            "bottom": null,
            "display": null,
            "flex": null,
            "flex_flow": null,
            "grid_area": null,
            "grid_auto_columns": null,
            "grid_auto_flow": null,
            "grid_auto_rows": null,
            "grid_column": null,
            "grid_gap": null,
            "grid_row": null,
            "grid_template_areas": null,
            "grid_template_columns": null,
            "grid_template_rows": null,
            "height": null,
            "justify_content": null,
            "justify_items": null,
            "left": null,
            "margin": null,
            "max_height": null,
            "max_width": null,
            "min_height": null,
            "min_width": null,
            "object_fit": null,
            "object_position": null,
            "order": null,
            "overflow": null,
            "overflow_x": null,
            "overflow_y": null,
            "padding": null,
            "right": null,
            "top": null,
            "visibility": null,
            "width": null
          }
        },
        "ad6f3beb41d34a369e6e8e3cf8e41d39": {
          "model_module": "@jupyter-widgets/controls",
          "model_name": "SliderStyleModel",
          "model_module_version": "1.5.0",
          "state": {
            "_model_module": "@jupyter-widgets/controls",
            "_model_module_version": "1.5.0",
            "_model_name": "SliderStyleModel",
            "_view_count": null,
            "_view_module": "@jupyter-widgets/base",
            "_view_module_version": "1.2.0",
            "_view_name": "StyleView",
            "description_width": "",
            "handle_color": null
          }
        },
        "4d7d39e4653e4013805b005abe9ad523": {
          "model_module": "@jupyter-widgets/controls",
          "model_name": "FloatSliderModel",
          "model_module_version": "1.5.0",
          "state": {
            "_dom_classes": [],
            "_model_module": "@jupyter-widgets/controls",
            "_model_module_version": "1.5.0",
            "_model_name": "FloatSliderModel",
            "_view_count": null,
            "_view_module": "@jupyter-widgets/controls",
            "_view_module_version": "1.5.0",
            "_view_name": "FloatSliderView",
            "continuous_update": true,
            "description": "ka:",
            "description_tooltip": null,
            "disabled": false,
            "layout": "IPY_MODEL_1446c6c249c347cb8b36602e00302791",
            "max": 1,
            "min": 0.01,
            "orientation": "horizontal",
            "readout": true,
            "readout_format": ".2f",
            "step": 0.01,
            "style": "IPY_MODEL_9e04a57b79f74cc691e0fd5e1dbbd4ae",
            "value": 0.49
          }
        },
        "1446c6c249c347cb8b36602e00302791": {
          "model_module": "@jupyter-widgets/base",
          "model_name": "LayoutModel",
          "model_module_version": "1.2.0",
          "state": {
            "_model_module": "@jupyter-widgets/base",
            "_model_module_version": "1.2.0",
            "_model_name": "LayoutModel",
            "_view_count": null,
            "_view_module": "@jupyter-widgets/base",
            "_view_module_version": "1.2.0",
            "_view_name": "LayoutView",
            "align_content": null,
            "align_items": null,
            "align_self": null,
            "border": null,
            "bottom": null,
            "display": null,
            "flex": null,
            "flex_flow": null,
            "grid_area": null,
            "grid_auto_columns": null,
            "grid_auto_flow": null,
            "grid_auto_rows": null,
            "grid_column": null,
            "grid_gap": null,
            "grid_row": null,
            "grid_template_areas": null,
            "grid_template_columns": null,
            "grid_template_rows": null,
            "height": null,
            "justify_content": null,
            "justify_items": null,
            "left": null,
            "margin": null,
            "max_height": null,
            "max_width": null,
            "min_height": null,
            "min_width": null,
            "object_fit": null,
            "object_position": null,
            "order": null,
            "overflow": null,
            "overflow_x": null,
            "overflow_y": null,
            "padding": null,
            "right": null,
            "top": null,
            "visibility": null,
            "width": null
          }
        },
        "9e04a57b79f74cc691e0fd5e1dbbd4ae": {
          "model_module": "@jupyter-widgets/controls",
          "model_name": "SliderStyleModel",
          "model_module_version": "1.5.0",
          "state": {
            "_model_module": "@jupyter-widgets/controls",
            "_model_module_version": "1.5.0",
            "_model_name": "SliderStyleModel",
            "_view_count": null,
            "_view_module": "@jupyter-widgets/base",
            "_view_module_version": "1.2.0",
            "_view_name": "StyleView",
            "description_width": "",
            "handle_color": null
          }
        },
        "8679cd19cb044b6a95404c6be8220f3a": {
          "model_module": "@jupyter-widgets/output",
          "model_name": "OutputModel",
          "model_module_version": "1.0.0",
          "state": {
            "_dom_classes": [],
            "_model_module": "@jupyter-widgets/output",
            "_model_module_version": "1.0.0",
            "_model_name": "OutputModel",
            "_view_count": null,
            "_view_module": "@jupyter-widgets/output",
            "_view_module_version": "1.0.0",
            "_view_name": "OutputView",
            "layout": "IPY_MODEL_a88499a2c92743d5a298e10239ef31f7",
            "msg_id": "",
            "outputs": [
              {
                "output_type": "display_data",
                "data": {
                  "text/plain": "<Figure size 640x480 with 1 Axes>",
                  "image/png": "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\n"
                },
                "metadata": {}
              }
            ]
          }
        },
        "a88499a2c92743d5a298e10239ef31f7": {
          "model_module": "@jupyter-widgets/base",
          "model_name": "LayoutModel",
          "model_module_version": "1.2.0",
          "state": {
            "_model_module": "@jupyter-widgets/base",
            "_model_module_version": "1.2.0",
            "_model_name": "LayoutModel",
            "_view_count": null,
            "_view_module": "@jupyter-widgets/base",
            "_view_module_version": "1.2.0",
            "_view_name": "LayoutView",
            "align_content": null,
            "align_items": null,
            "align_self": null,
            "border": null,
            "bottom": null,
            "display": null,
            "flex": null,
            "flex_flow": null,
            "grid_area": null,
            "grid_auto_columns": null,
            "grid_auto_flow": null,
            "grid_auto_rows": null,
            "grid_column": null,
            "grid_gap": null,
            "grid_row": null,
            "grid_template_areas": null,
            "grid_template_columns": null,
            "grid_template_rows": null,
            "height": null,
            "justify_content": null,
            "justify_items": null,
            "left": null,
            "margin": null,
            "max_height": null,
            "max_width": null,
            "min_height": null,
            "min_width": null,
            "object_fit": null,
            "object_position": null,
            "order": null,
            "overflow": null,
            "overflow_x": null,
            "overflow_y": null,
            "padding": null,
            "right": null,
            "top": null,
            "visibility": null,
            "width": null
          }
        },
        "4f7fa87d6fde42939f42256b180f730c": {
          "model_module": "@jupyter-widgets/controls",
          "model_name": "FloatSliderModel",
          "model_module_version": "1.5.0",
          "state": {
            "_dom_classes": [],
            "_model_module": "@jupyter-widgets/controls",
            "_model_module_version": "1.5.0",
            "_model_name": "FloatSliderModel",
            "_view_count": null,
            "_view_module": "@jupyter-widgets/controls",
            "_view_module_version": "1.5.0",
            "_view_name": "FloatSliderView",
            "continuous_update": true,
            "description": "ω₀b:",
            "description_tooltip": null,
            "disabled": false,
            "layout": "IPY_MODEL_d249d75d15d84e6a9d95a3e8f04cb16b",
            "max": 10,
            "min": 0.1,
            "orientation": "horizontal",
            "readout": true,
            "readout_format": ".2f",
            "step": 0.1,
            "style": "IPY_MODEL_40e2bdae7b7d49ddb29c22930c5d4db4",
            "value": 2
          }
        },
        "d249d75d15d84e6a9d95a3e8f04cb16b": {
          "model_module": "@jupyter-widgets/base",
          "model_name": "LayoutModel",
          "model_module_version": "1.2.0",
          "state": {
            "_model_module": "@jupyter-widgets/base",
            "_model_module_version": "1.2.0",
            "_model_name": "LayoutModel",
            "_view_count": null,
            "_view_module": "@jupyter-widgets/base",
            "_view_module_version": "1.2.0",
            "_view_name": "LayoutView",
            "align_content": null,
            "align_items": null,
            "align_self": null,
            "border": null,
            "bottom": null,
            "display": null,
            "flex": null,
            "flex_flow": null,
            "grid_area": null,
            "grid_auto_columns": null,
            "grid_auto_flow": null,
            "grid_auto_rows": null,
            "grid_column": null,
            "grid_gap": null,
            "grid_row": null,
            "grid_template_areas": null,
            "grid_template_columns": null,
            "grid_template_rows": null,
            "height": null,
            "justify_content": null,
            "justify_items": null,
            "left": null,
            "margin": null,
            "max_height": null,
            "max_width": null,
            "min_height": null,
            "min_width": null,
            "object_fit": null,
            "object_position": null,
            "order": null,
            "overflow": null,
            "overflow_x": null,
            "overflow_y": null,
            "padding": null,
            "right": null,
            "top": null,
            "visibility": null,
            "width": null
          }
        },
        "40e2bdae7b7d49ddb29c22930c5d4db4": {
          "model_module": "@jupyter-widgets/controls",
          "model_name": "SliderStyleModel",
          "model_module_version": "1.5.0",
          "state": {
            "_model_module": "@jupyter-widgets/controls",
            "_model_module_version": "1.5.0",
            "_model_name": "SliderStyleModel",
            "_view_count": null,
            "_view_module": "@jupyter-widgets/base",
            "_view_module_version": "1.2.0",
            "_view_name": "StyleView",
            "description_width": "",
            "handle_color": null
          }
        },
        "212cc36bb53a43c9bb786f6b3f957a62": {
          "model_module": "@jupyter-widgets/controls",
          "model_name": "FloatSliderModel",
          "model_module_version": "1.5.0",
          "state": {
            "_dom_classes": [],
            "_model_module": "@jupyter-widgets/controls",
            "_model_module_version": "1.5.0",
            "_model_name": "FloatSliderModel",
            "_view_count": null,
            "_view_module": "@jupyter-widgets/controls",
            "_view_module_version": "1.5.0",
            "_view_name": "FloatSliderView",
            "continuous_update": true,
            "description": "kb:",
            "description_tooltip": null,
            "disabled": false,
            "layout": "IPY_MODEL_fab64c1fbd9b440e95a6a9bd5dd72212",
            "max": 1,
            "min": 0.01,
            "orientation": "horizontal",
            "readout": true,
            "readout_format": ".2f",
            "step": 0.01,
            "style": "IPY_MODEL_ba3bae3ffad14e39b3e70da75b31b9c1",
            "value": 0.27
          }
        },
        "fab64c1fbd9b440e95a6a9bd5dd72212": {
          "model_module": "@jupyter-widgets/base",
          "model_name": "LayoutModel",
          "model_module_version": "1.2.0",
          "state": {
            "_model_module": "@jupyter-widgets/base",
            "_model_module_version": "1.2.0",
            "_model_name": "LayoutModel",
            "_view_count": null,
            "_view_module": "@jupyter-widgets/base",
            "_view_module_version": "1.2.0",
            "_view_name": "LayoutView",
            "align_content": null,
            "align_items": null,
            "align_self": null,
            "border": null,
            "bottom": null,
            "display": null,
            "flex": null,
            "flex_flow": null,
            "grid_area": null,
            "grid_auto_columns": null,
            "grid_auto_flow": null,
            "grid_auto_rows": null,
            "grid_column": null,
            "grid_gap": null,
            "grid_row": null,
            "grid_template_areas": null,
            "grid_template_columns": null,
            "grid_template_rows": null,
            "height": null,
            "justify_content": null,
            "justify_items": null,
            "left": null,
            "margin": null,
            "max_height": null,
            "max_width": null,
            "min_height": null,
            "min_width": null,
            "object_fit": null,
            "object_position": null,
            "order": null,
            "overflow": null,
            "overflow_x": null,
            "overflow_y": null,
            "padding": null,
            "right": null,
            "top": null,
            "visibility": null,
            "width": null
          }
        },
        "ba3bae3ffad14e39b3e70da75b31b9c1": {
          "model_module": "@jupyter-widgets/controls",
          "model_name": "SliderStyleModel",
          "model_module_version": "1.5.0",
          "state": {
            "_model_module": "@jupyter-widgets/controls",
            "_model_module_version": "1.5.0",
            "_model_name": "SliderStyleModel",
            "_view_count": null,
            "_view_module": "@jupyter-widgets/base",
            "_view_module_version": "1.2.0",
            "_view_name": "StyleView",
            "description_width": "",
            "handle_color": null
          }
        },
        "909a60f6049f4ffa99abfc38d74dcd3a": {
          "model_module": "@jupyter-widgets/output",
          "model_name": "OutputModel",
          "model_module_version": "1.0.0",
          "state": {
            "_dom_classes": [],
            "_model_module": "@jupyter-widgets/output",
            "_model_module_version": "1.0.0",
            "_model_name": "OutputModel",
            "_view_count": null,
            "_view_module": "@jupyter-widgets/output",
            "_view_module_version": "1.0.0",
            "_view_name": "OutputView",
            "layout": "IPY_MODEL_054d7906ef0e4cad9c27c87935b39859",
            "msg_id": "",
            "outputs": [
              {
                "output_type": "display_data",
                "data": {
                  "text/plain": "<Figure size 640x480 with 1 Axes>",
                  "image/png": "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\n"
                },
                "metadata": {}
              }
            ]
          }
        },
        "054d7906ef0e4cad9c27c87935b39859": {
          "model_module": "@jupyter-widgets/base",
          "model_name": "LayoutModel",
          "model_module_version": "1.2.0",
          "state": {
            "_model_module": "@jupyter-widgets/base",
            "_model_module_version": "1.2.0",
            "_model_name": "LayoutModel",
            "_view_count": null,
            "_view_module": "@jupyter-widgets/base",
            "_view_module_version": "1.2.0",
            "_view_name": "LayoutView",
            "align_content": null,
            "align_items": null,
            "align_self": null,
            "border": null,
            "bottom": null,
            "display": null,
            "flex": null,
            "flex_flow": null,
            "grid_area": null,
            "grid_auto_columns": null,
            "grid_auto_flow": null,
            "grid_auto_rows": null,
            "grid_column": null,
            "grid_gap": null,
            "grid_row": null,
            "grid_template_areas": null,
            "grid_template_columns": null,
            "grid_template_rows": null,
            "height": null,
            "justify_content": null,
            "justify_items": null,
            "left": null,
            "margin": null,
            "max_height": null,
            "max_width": null,
            "min_height": null,
            "min_width": null,
            "object_fit": null,
            "object_position": null,
            "order": null,
            "overflow": null,
            "overflow_x": null,
            "overflow_y": null,
            "padding": null,
            "right": null,
            "top": null,
            "visibility": null,
            "width": null
          }
        },
        "3a8896146aa24d808e4cf48c8a153a4e": {
          "model_module": "@jupyter-widgets/output",
          "model_name": "OutputModel",
          "model_module_version": "1.0.0",
          "state": {
            "_dom_classes": [],
            "_model_module": "@jupyter-widgets/output",
            "_model_module_version": "1.0.0",
            "_model_name": "OutputModel",
            "_view_count": null,
            "_view_module": "@jupyter-widgets/output",
            "_view_module_version": "1.0.0",
            "_view_name": "OutputView",
            "layout": "IPY_MODEL_702946c0932e4e9e9e6f2d9e60f9e440",
            "msg_id": "",
            "outputs": [
              {
                "output_type": "display_data",
                "data": {
                  "text/plain": "<Figure size 640x480 with 1 Axes>",
                  "image/png": "iVBORw0KGgoAAAANSUhEUgAAAjUAAAHHCAYAAABHp6kXAAAAOXRFWHRTb2Z0d2FyZQBNYXRwbG90bGliIHZlcnNpb24zLjguMCwgaHR0cHM6Ly9tYXRwbG90bGliLm9yZy81sbWrAAAACXBIWXMAAA9hAAAPYQGoP6dpAABn1UlEQVR4nO3deXhU1f0/8PedJbNk3xfIBmFfBQQRVwQUFbe6AlVp7apfRVqtWrVgVVxa6lJbrb+6tUW0VsXWBRERVPZNQFkSkpCQfZ9kksx6f3/M3Akx2yx3ZjI379fz8GhmJjeHS8i8+ZzPOUcQRVEEERERUYRThXsARERERHJgqCEiIiJFYKghIiIiRWCoISIiIkVgqCEiIiJFYKghIiIiRWCoISIiIkVgqCEiIiJFYKghIiIiRWCoISKKQF988QUEQcA777wT7qEQDRoMNUQR6oorroDRaERra2ufr1myZAmioqLQ0NAQwpGF35o1ayAIAj777LM+X/Pyyy9DEAR88MEHIRxZ3yZPnoycnBz0d3LNnDlzkJ6eDrvdHsKREUUOhhqiCLVkyRJ0dHTgvffe6/X59vZ2rF+/HpdccgmSk5NDPLrwuvHGG6FSqbB27do+X7N27VokJydj4cKFIRxZ35YsWYLy8nJ8+eWXvT5fWlqK7du344YbboBGownx6IgiA0MNUYS64oorEBsb2+cb9/r162E2m7FkyZIQjyz8srKycOGFF+Ldd9+FxWLp8XxFRQW2bt2K6667DlqtVvavLwgCXnvtNZ8+Z/HixRAEoc8/zzfffBOiKA7JP08ibzHUEEUog8GAa665Bps2bUJtbW2P59euXYvY2FhcccUVnsfWrVuH6dOnIzY2FnFxcZg0aRKeffZZz/MrV66EIAg9rvXaa69BEASUlpZ6HsvLy8Pll1+OL774AjNmzIDBYMCkSZPwxRdfAADeffddTJo0CXq9HtOnT8f+/fvl+817YenSpWhpacGHH37Y47l169bB6XR6AsIf/vAHnH322UhOTobBYMD06dND3quSnZ2N8847D++88w5sNluP59euXYuRI0di1qxZ3R53OBx44IEHkJGRgejoaFxxxRUoLy8P1bCJBhWGGqIItmTJEtjtdrz99tvdHm9sbMSGDRtw9dVXw2AwAAA2btyIm266CYmJiXjyySfxxBNP4IILLsDXX3/t99cvKirC4sWLsWjRIqxevRpNTU1YtGgR/vWvf+Huu+/G0qVLsWrVKpw4cQLXX389nE5nv9dzOp2or6/36ldvb/ynu+aaa6DX63utfKxduxa5ubmYM2cOAODZZ5/FGWecgUceeQSPP/44NBoNrrvuul4DUTAtWbIEDQ0N2LBhQ7fHDx06hMOHD/dapXnsscfw4Ycf4je/+Q3uvPNObNy4EfPmzUNHR0eohk00eIhEFLHsdruYmZkpzp49u9vjL774oghA3LBhg+exu+66S4yLixPtdnuf1/vd734n9vZj4dVXXxUBiCUlJZ7HcnNzRQDitm3bPI9t2LBBBCAaDAbx5MmTnsdfeuklEYC4efPmfn8/JSUlIgCvfg10LVEUxeuuu07U6/ViS0uL57GjR4+KAMT777/f81h7e3u3z7NareLEiRPFuXPnDvg1egNAfPXVV33+vMbGRlGn04k33XRTt8fvu+8+EYB47Ngxz2ObN28WAYjDhg0TTSaT5/G3335bBCA+++yzfo2dKJKx24wogqnVatx4443405/+hNLSUuTl5QFwVSLS09Nx0UUXeV6bkJAAs9mMjRs34pJLLpHl648fPx6zZ8/2fCxNjcydOxc5OTk9Hi8uLsYFF1zQ5/UyMjKwceNGr772lClTBnzN0qVL8e9//xvvvvsubr31VgDwVG5Or3pI1SwAaGpqgsPhwLnnnos333xzwK/R3t6O9vb2Ho+3tbWhvr7e87FarUZiYmK/10pMTMSll16KDz74AGazGdHR0RBFEevWrcOMGTMwevToHp9z8803IzY21vPxtddei8zMTHz00Ue48847Bxw/kaKEO1URUWD27NkjAhAfe+wxURRFsby8XBQEQbzrrru6va6mpkYcN26c51/3y5YtEz/++ONur/G1UnPJJZf0eC0A8ec//3m3x6QKzB/+8Ac/f5f+sVqtYlJSkjh//nzPY6NGjRKnTJnS7XX//e9/xVmzZok6na5bNUgQhAG/hnTPBvqVm5vr1ZjfeecdEYD4r3/9SxRFUfzqq69EAOKf/vSnbq+TKjWvvPJKj2uce+654pgxY7z6ekRKwkoNUYSbPn06xo4dizfffBMPPPBAn6tk0tLScODAAWzYsAEff/wxPv74Y7z66qu4+eab8frrrwNAr03CgKsZtTdqtdqnx8V+9mCRvk5dXV2/r5EkJSUhKiqq39dotVpcf/31ePnll1FTU4OysjIUFhbiqaee8rzmyy+/xBVXXIHzzjsPf/nLX5CZmQmtVotXX3213yXhkptvvhnnnHNOt8fmz5+Pe+65BwsWLPA8dno1qD+XX3454uPjsXbtWixevBhr1671VOSIqH8MNUQKsGTJEjz00EM4ePAg1q5di1GjRuHMM8/s8bqoqCgsWrQIixYtgtPpxC9/+Uu89NJLeOihh1BQUOCZHmlubkZCQoLn806ePBmS30d5eTny8/O9eu3mzZv7ncqSLFmyBC+++CLeeustlJSUQBAE3HTTTZ7n//Of/0Cv12PDhg3Q6XSex1999VWvxjFixAiMGDGix+Pjx4/HvHnzvLrG6XQ6Ha699lq88cYbqKmpwb///W/MnTsXGRkZvb6+sLCw28eiKKKoqAiTJ0/2+WsTRTqGGiIFkELNww8/jAMHDmDlypU9XtPQ0NBtEz6VSuV545P2chk5ciQAYOvWrZ6l4Gaz2VPJCTa5e2oA1y68eXl5+Oc//4lTp07h/PPPx/Dhwz3Pq9VqCILQrRpVWlqK999/36exy2nJkiX4+9//jp/97Geoq6vrd2+aN954A/fff7+nr+add95BVVUVfvOb34RquESDBkMNkQLk5+fj7LPPxvr16wGg1zfB2267DY2NjZg7dy6GDx+OkydP4vnnn8fUqVMxbtw4AMCCBQuQk5ODH//4x7jnnnugVqvxyiuvIDU1FWVlZUH/fej1er+qG/0RBAGLFy/G448/DgB45JFHuj1/2WWXYc2aNbjkkkuwePFi1NbW4oUXXkBBQQEOHjwo61i8JQWv9evXe/Yj6ktSUhLOOeccLFu2DDU1NXjmmWdQUFCAn/zkJyEcMdHgwH1qiBRCCjIzZ85EQUFBj+eXLl0KvV6Pv/zlL/jlL3+J119/HTfccAM+/vhjqFSuHwVarRbvvfceRo4ciYceegjPPfccbrvtNtxxxx0h/b3ITbo30tTO6ebOnYu///3vqK6uxvLly/Hmm2/iySefxNVXXx2OoQJwVdGkKbJFixZ1W930fQ888AAuu+wyrF69Gs8++ywuuugibNq0CUajMVTDJRo0BHGgzj0iIiKiCMBKDRERESkCQw0REREpAkMNERERKQJDDRERESnCoAk1W7duxaJFi5CVlQVBEHrsEXHrrbdCEIRuv+Q6v4aIiIgi36AJNWazGVOmTMELL7zQ52suueQSVFVVeX55c9gcERERDQ2DZvO9hQsXYuHChf2+RqfT9blVuDecTicqKysRGxvb5xk3RERENLiIoojW1lZkZWV59tXqzaAJNd744osvkJaWhsTERMydOxePPvpot23fB1JZWYns7OwgjpCIiIiCpby8vNsxJ98XMaHmkksuwTXXXIP8/HycOHECDzzwABYuXIjt27f3eSKwxWLxnGkDdJ0QXFJS0u8Onb6y2WzYvHkzLrzwQmi1WtmuS93xPocO73Vo8D6HBu9z6ATrXre2tiI/P3/A9+5BuaOwIAh47733cNVVV/X5muLiYowcORKfffYZLrrool5fs3LlSqxatarH42vXruUW4kRERBGivb0dixcvRktLC+Li4vp8XcRUar5vxIgRSElJQVFRUZ+h5v7778eKFSs8H5tMJmRnZ2PBggX93hRf2Ww2bNy4EfPnz+e/AoKI9zl0eK9Dg/c5NHifQydY99pkMnn1uogNNadOnUJDQwMyMzP7fI1Op4NOp+vxuFarDco3drCuS93xPocO73Vo8D6HBu9z6Mh9r7291qAJNW1tbSgqKvJ8XFJSggMHDiApKQlJSUlYtWoVfvCDHyAjIwMnTpzAvffei4KCAlx88cVhHDURERENFoMm1OzZswcXXnih52Np2uiWW27BX//6Vxw8eBCvv/46mpubkZWVhQULFuD3v/99r5UYIiIiGnoGTai54IIL0F/P8oYNG0I4GiIiIoo0g2ZHYSIiIqJAMNQQERGRIjDUEBERkSIw1BAREZEiMNQQERGRIjDUEBERkSIw1BAREZEiMNTIoN1qx7EWIdzDICIiGtIYagLU3G7FDX/bhZeOqLC/rDncwyEiIhqyGGoCFG/QIjvJCIco4JnPiwb+BCIiIgoKhpoACYKAFfMKAAB7Tjajw+oI84iIiIiGJoYaGYxMjUasVoTV7sSxmtZwD4eIiGhIYqiRgSAIyDS6DuMsZKghIiIKC4YamWQYXP8trG0L70CIiIiGKIYamaToXZWa8sb2MI+EiIhoaGKokUmSzvXfiuaO8A6EiIhoiGKokUmizlWpqWSoISIiCguGGplIlZr6Nis6bVzWTUREFGoMNTIxqAGt2nVUQoPZGubREBERDT0MNTIRBCA5OgoA0NBmCfNoiIiIhh6GGhklx0ihhpUaIiKiUGOokZFUqalnpYaIiCjkGGpk5Jl+Yk8NERFRyDHUyCiJPTVERERhw1AjI/bUEBERhQ9DjYw8PTWcfiIiIgo5hhoZcUk3ERFR+DDUyCg52rWtMKefiIiIQo+hRkaJ0VoAQCOnn4iIiEKOoUZGcXpXqLE6nDz/iYiIKMQYamQUHaWGynX8E0wdtvAOhoiIaIhhqJGRSiUgzuCq1rQw1BAREYUUQ43MpCkoUydDDRERUSgx1MgsnpUaIiKisGCokVmcQQMAMHXYwzwSIiKioYWhRmas1BAREYUHQ43MPD01DDVEREQhxVAjM1ZqiIiIwoOhRmbSkm6ufiIiIgothhqZcZ8aIiKi8GCokZk0/cTVT0RERKHFUCOzOL1rSTcrNURERKHFUCMzafqp1cJQQ0REFEoMNTKL0bkqNWYLT+kmIiIKJYYamUW7Q02bhT01REREocRQI7OYKFeosdqdsNqdYR4NERHR0MFQI7Nondrz/2ZWa4iIiEKGoUZmGrUKeq3rtnIKioiIKHQYaoLA0yxsZaghIiIKFYaaIPA0C3cy1BAREYUKQ00QREdxBRQREVGoMdQEAfeqISIiCj2GmiCI0UuhhpUaIiKiUGGoCQJuwEdERBR6DDVBEOPeq4ahhoiIKHQYaoJAahTm9BMREVHoMNQEAaefiIiIQo+hJghi2ShMREQUcgw1QcBKDRERUegx1AQBQw0REVHoMdQEgbT6iZvvERERhQ5DTRBw9RMREVHoMdQEAaefiIiIQo+hJgik1U8MNURERKHDUBMEUqWm3eqA0ymGeTRERERDA0NNEEindAOA2cpqDRERUSgMmlCzdetWLFq0CFlZWRAEAe+//36350VRxMMPP4zMzEwYDAbMmzcPhYWF4RnsAHQaFdQqAQBXQBEREYXKoAk1ZrMZU6ZMwQsvvNDr80899RSee+45vPjii9i5cyeio6Nx8cUXo7OzM8QjHZggCIiOkg61tIV5NEREREODZuCXhMbChQuxcOHCXp8TRRHPPPMMHnzwQVx55ZUAgDfeeAPp6el4//33ceONN4ZyqF6J1Wth6rSjjZUaIiKikBg0lZr+lJSUoLq6GvPmzfM8Fh8fj1mzZmH79u1hHFnfDO5KTTt7aoiIiEJi0FRq+lNdXQ0ASE9P7/Z4enq657neWCwWWCwWz8cmkwkAYLPZYLPJNy0kXev0axq0rrzY2mGV9WsNZb3dZwoO3uvQ4H0ODd7n0AnWvfb2ehERavy1evVqrFq1qsfjn376KYxGo+xfb+PGjZ7/72hVAVBh28496DzBZd1yOv0+U3DxXocG73No8D6Hjtz3ur293avXRUSoycjIAADU1NQgMzPT83hNTQ2mTp3a5+fdf//9WLFihedjk8mE7OxsLFiwAHFxcbKNz2azYePGjZg/fz60Wi0A4L2GfSgy1WPMhEm4dPpw2b7WUNbbfabg4L0ODd7n0OB9Dp1g3WtppmUgERFq8vPzkZGRgU2bNnlCjMlkws6dO/GLX/yiz8/T6XTQ6XQ9HtdqtUH5xj79utF6138tDvAvkcyC9edHPfFehwbvc2jwPoeO3Pfa22sNmlDT1taGoqIiz8clJSU4cOAAkpKSkJOTg+XLl+PRRx/FqFGjkJ+fj4ceeghZWVm46qqrwjfofkR7GoW5+omIiCgUBk2o2bNnDy688ELPx9K00S233ILXXnsN9957L8xmM37605+iubkZ55xzDj755BPo9fpwDblfRvdJ3R0MNURERCExaELNBRdcAFHsu6FWEAQ88sgjeOSRR0I4Kv9JS7p5TAIREVFoRMQ+NZHIqHWFGlZqiIiIQoOhJkiMp53UTURERMHHUBMkRu4oTEREFFIMNUFi5OonIiKikGKoCRJp9RNDDRERUWgw1ASJVKlhozAREVFoMNQECZd0ExERhRZDTZBEc/M9IiKikGKoCRI2ChMREYUWQ02QSNNPHTYHnM6+d0omIiIieTDUBIk0/QS4gg0REREFF0NNkOi1KgiC6/85BUVERBR8DDVBIggCDDz/iYiIKGQYaoJI2oCPy7qJiIiCj6EmiLgCioiIKHQYaoKIuwoTERGFDkNNEHFXYSIiotBhqAki7ipMREQUOgw1QWRgTw0REVHIMNQEUVejMKefiIiIgo2hJoikJd2s1BAREQUfQ00QcUk3ERFR6DDUBFHXkm5OPxEREQUbQ00Qde0ozEoNERFRsDHUBFGwNt8ra2iHxc6gREREdDqGmiAyBGH10+qPjuC8pzfjh/9vF+wOp2zXJSIiinQMNUEULfP0U42pEy9/WQwA2FXaiC3H62S5LhERkRIw1ASR3NNPW47XwSl2fbzxuxpZrktERKQEDDVBJPf0047iBgDAuMw4AMC+siZZrktERKQEDDVBJPfZT99VmgAAN8/OBQAU1bbBbOFycSIiIoChJqi6TukOPNRY7A4U1bYBAM4bnYqUGB2cInCiri3gaxMRESkBQ00QydlTU9bQDrtTRIxOg6x4PUakRgMAiuvMAV+biIhICRhqgkgKNVaHE7YAl1+fauoAAAxPNEAQBIxIkUINKzVEREQAQ01QSTsKA4Gf/1Te1A4AyE4yAgByk12hRgo7REREQx1DTRBFaVTQqAQAgU9BSeElO9EVajLj9QCAqpbOgK5LRESkFAw1QSbXsu7yRlelZniiAQCQ4Q41NSaGGiIiIoChJuikZd2BTj95KjVJPSs1oij2+XlERERDBUNNkBk9lRq5empclZr0OFeo6bA5YOrgXjVEREQMNUEmx/RTu9WO5nYbACArwRVq9Fo1kqKjAABVJjYLExERMdQEmRy7Cte1WgAABq0asbquFVUZcWwWJiIikjDUBJkcuwpLoSY1VgdBEDyPS3011Qw1REREDDXB1rWrsP/TT6eHmtOlxTHUEBERSRhqgswgQ6NwXZsr1KR9L9SkxLh6ahrNVr+vTUREpBQMNUEm9dQEMv1Ua+q9UiM1CjPUEBERMdQEnazTTzEMNURERH1hqAkyOaefWKkhIiLqG0NNkMmxo3BfjcJSqGlgqCEiImKoCTY5Nt+TQk3K96afkqNdHze1W+F08qgEIiIa2hhqgizQYxJEUURju6sSk+xe7SRJjNYCABxOEaZOWwCjJCIiinwMNUFmDHD6qdPmhNXuBADEG7TdntNpunYY5hQUERENdQw1QRZopaalw1WBUasExJx2RIIkiXvVEBERAWCoCbpAl3Q3d7jCSrxB2+2IBImnWbiNoYaIiIY2hpogC/Tspxb36dwJ35t6kiS7Q01TO0MNERENbQw1QRboKd3S9FNcH6FGelx6HRER0VDFUBNkxtOWdIui78uum91hJcHYe6iJZ6ghIiICwFATdNL0k1MELO5VTL4wucPK91c+SaTHm9sZaoiIaGhjqAkyaUk34N8KqOYBemqkUGNipYaIiIY4hpogU6sE6DSu2+zPrsItXlZqOP1ERERDHUNNCHQt6/ajUiOFGmNUr88z1BAREbkw1ISANAXlz7LugSo1UgMxQw0REQ11DDUhYAzgUMsW9/4zA/XUMNQQEdFQx1ATAoFMP3kqNX0s6Zb2qTF12nhSNxERDWkMNSEQyK7Cnn1qBqjUiCLQavHvKAYiIiIlYKgJga5dhX0LHU6nOOA+NTqNGnqt64+Ry7qJiGgoY6gJAYOfJ3W3WuyQZpT6OiYBYF8NERERwFATEkY/Q41UedFrVdBr1X2+jrsKExERRVCoWblyJQRB6PZr7Nix4R6WV6Ql3b6ufpJCSl9TT5I4vev51k6GGiIiGro0A79k8JgwYQI+++wzz8caTWQM399KTYunSbj3jfcksXrXfWCjMBERDWWRkQrcNBoNMjIywj0Mn3lCjcW3UNPc4dqjZqBKTYynUsNQQ0REQ1fETD8BQGFhIbKysjBixAgsWbIEZWVl4R6SVzzTTzb/KjV97VEjkSo1bQw1REQ0hEVMpWbWrFl47bXXMGbMGFRVVWHVqlU499xzcfjwYcTGxvb6ORaLBRaLxfOxyWQCANhsNths8vWfSNfq65o6d4+vudO3r9vY2gkAiNWp+/08o3tJd0u7Rdbf12Az0H0m+fBehwbvc2jwPodOsO61t9cTRFGMyG1om5ubkZubizVr1uDHP/5xr69ZuXIlVq1a1ePxtWvXwmg0BnuIHnvrBbxRqMaoOCfumOD0+vPWn1Th80oVLsh04uq8vj/v01MCPixXY3aaEzeO9P76REREkaC9vR2LFy9GS0sL4uLi+nxdxFRqvi8hIQGjR49GUVFRn6+5//77sWLFCs/HJpMJ2dnZWLBgQb83xVc2mw0bN27E/PnzodX2nCrSHanFG4UHYIhLwKWXnuX1db96/1ugsgJTx4/GpReM6PN19TvK8GH5USSkZuLSS6f49XuIBAPdZ5IP73Vo8D6HBu9z6ATrXkszLQOJ2FDT1taGEydO4Ic//GGfr9HpdNDpdD0e12q1QfnG7uu6cUbXGDptTp++bmunqwcnOUbX7+cluK/fZnUMib+wwfrzo554r0OD9zk0eJ9DR+577e21IqZR+Ne//jW2bNmC0tJSbNu2DVdffTXUajVuuummcA9tQJ6zn/xc/dTfbsIAECM1CnNJNxERDWERU6k5deoUbrrpJjQ0NCA1NRXnnHMOduzYgdTU1HAPbUDS6qcOn1c/uUJKgtHLfWq4+omIiIawiAk169atC/cQ/Na1+Z5voaOl3bt9amJ1rue5pJuIiIayiJl+imRSqOm0OeFwer/YrGtHYe/2qeExCZHF1GlDSb0ZEboAkYho0ImYSk0kk6afANcUVIxu4Ntuczhhdh+rMPCOwq7rma0OOJwi1CohgNFSKGw+Wos71u6D2erA+aNT8dIPp/d7aCkREQ2MlZoQ0GtVENw5w9spKKlKAwzcKCxVagA2C0eClnYb7ly33xNatxyvw5qNx8M8KiKiyMdQEwKCIMDo/ld4h5eHWkondMfqNQNWXnQaNaI0rj9KhprB75WvS9DaacfYjFi8uHQaAOCN7aVoMlvDPDIiosjGUBMiBvcUlLfLuj39NAOc+ySJ1bGvJhLYHE68sb0UAPB/c0fh4gkZmJAVh06bE//aeTK8gyMiinAMNSEiNQt32LydfvJu5ZOEy7ojw87iRjS125AUHYWLJ6RDEAQsm5MPAFh/oDLMoyMiimwMNSHStazbx0qNof89aiQxPKk7InzybRUAYMH4dGjUrr9+CyakQ6sWUFjbhqLatnAOj4goovm8+kkURbzzzjvYvHkzamtr4XR2P0Dx3XfflW1wSmL0cVdhqafG60qNe68aE6efBi1RFPH5kVoAwMUTMzyPx+m1OHtkCrYcr8OGb6tRkFYQriESEUU0nys1y5cvxw9/+EOUlJQgJiYG8fHx3X5R77p2FfZt9VO8lz01PCph8DvV1IHKlk5oVAJm5Sd1e27euDQAwFeF9eEYGhGRIvhcqfnHP/6Bd999F5deemkwxqNYvk4/+VypYU/NoLejuAEAMHl4fLe9iwBg9sgUAMDesiZ02hzcs4aIyA8+V2ri4+MxYsSIYIxF0TyhxsvpJ5OXuwlLpNVP7KkZvHYUNwIAZo1I7vHcyNRopMXqYLU7sa+sKdRDIyJSBJ9DzcqVK7Fq1Sp0dHQEYzyKJS3p9rpS0+Frpcb1Oi7pHrwOlLvCypl5iT2eEwQBs0e6ws5Od/ghIiLf+Dz9dP311+PNN99EWloa8vLyoNV2f9Pdt2+fbINTkmipUuNjT423+9TEcPppUGuz2FFcbwYATBqW0OtrpucmYv2BShwobw7dwIiIFMTnUHPLLbdg7969WLp0KdLTXfts0MB8nX5qdp/QPdARCZJoHRuFB7MjVSaIIpARp0dqrK7X10zNTgAAHChvhiiK/LtFROQjn0PNhx9+iA0bNuCcc84JxngUy9fpp5YOVzjxep8anXvJuJdnS1FoHTrVAgCYOCyuz9eMzYhDlEaFlg7X6d0jUmNCNTwiIkXwuacmOzsbcXF9/2Cm3vmyo7Aoip5GYW+XdEf7eAwDhdbhCinU9L3tQZRGhUnu5zkFRUTkO59DzR//+Efce++9KC0tDcJwlMuXzfc6bA5YHa5NDb1d/RSjk0INKzWD0SF3qJnUT6gBuk9BERGRb3yeflq6dCna29sxcuRIGI3GHo3CjY1cudEbX0KH1CSsUQmeMDSQaIaaQavD6sCJOtfxBww1RETB43OoeeaZZ4IwDOXzZcdfaeO9BKPW62ZRNgoPXkW1bXCKQHJ0FNLi9P2+Vgo1R6pMsNgd0Gm4CR8Rkbf8Wv1EvovxIXRIlRpvVz6dfn2z1cGVM4PM8ZpWAMCo9IEbf4cnGpBg1KK53Ybj1W2YNJxHjxARecvnUFNWVtbv8zk5OX4PRsli/anU+BBqot2rnxxOERa7k9vsDyKF7pO3R6XFDvhaQRAwaVg8viysx8GKZoYaIiIf+Bxq8vLy+q0COBxcfdOb6NOOMRiokmLycTdhAN3OEmqz2BlqBpGiWu8rNQA8oUZaMUVERN7xOdTs37+/28c2mw379+/HmjVr8Nhjj8k2MKWRpofsXlRSmjtcG+8lGL3bowYA1CoBBq0aHTYHzBY7UmJ63+CNQu94jfeVGsB14CUAHDzFUENE5AufQ82UKVN6PDZjxgxkZWXh6aefxjXXXCPLwJQm2odKSosflRrAVQ3qsDnYLDyIdFgdKG9qB+BDpWZ4AgDgWHUrT+wmIvKBz/vU9GXMmDHYvXu3XJdTHJVK6GoWHuB8JqmnxtdQI+0q7O2uxRR8J+raIIpAolGL5GjvKm9Z8XokRUfB7hRxtLo1yCMkIlIOn0ONyWTq9qulpQVHjx7Fgw8+iFGjRgVjjIohNfMOVEkJpFLjzfUpdIqkJuH0WK9XpEnNwgBw6FRzsIZGRKQ4Pk8/JSQk9PjhLIoisrOzsW7dOtkGpkQxOg1qYPE61Hh7QreEG/ANPp7l3Gm+neM0eXg8thyv8+xETEREA/M51GzevLnbxyqVCqmpqSgoKIBG4/PlhpQYvSukDDT95G+lhkclDD5dy7l9CzVSpYbNwkRE3vM5hZx//vnBGMeQEOvl9NDpOwr7omv6iT01/rLYHWg0W5ERp5dlA0Np+ml0uncrnyTS/jSFtW3osDpg8PK4DCKiocznnprXX38dH374oefje++9FwkJCTj77LNx8uRJWQenNFJPTWuQemqkRmFWavxztNqEc5/cjNmrP8fP/rEXVrszoOt12hw42WAGABR4ufJJkhGnR0qMDg6niO+qTAGNg4hoqPA51Dz++OMwGAwAgO3bt+PPf/4znnrqKaSkpODuu++WfYBKEqNzhZT+QofTKcLUKYUa7/epAbo24GOo8Z3TKWLFW9+gttUCAPj0uxr8beuJgK5ZXGeGU3SF01Qf9w0SBMGzXw034SMi8o7Poaa8vBwFBQUAgPfffx/XXnstfvrTn2L16tX48ssvZR+gkniOSuinp6a10w5RdP0/Vz+Fzs6SRnxXZUKMToMHLxsHAPj7VyXotPk/lVdY29Uk7M9UFvtqiIh843OoiYmJQUNDAwDg008/xfz58wEAer0eHR0d8o5OYbw51FLaTdgYpUaUxrc/Hu5T47/1ByoAAJdNysStZ+dhWIIBTe02fHCg0u9rdi3n9m3qSeJZ1l3R7PcYWtptuGPtPoz+7cdY+OyXOFDu/7WIiAY7n0PN/Pnzcdttt+G2227D8ePHcemllwIAvv32W+Tl5ck9PkWRKimt/VRq/O2nOf36rNT4xu5w4qNDVQCAq84YBo1ahSVnuQ5mXf9Nhd/XlUJNgZfHI3yf1CxcVNvm15Sixe7Akr/vwP8OVsHqcOJIlQk3/30nqls6/RoPEdFg53WoOXz4MADghRdewOzZs1FXV4f//Oc/SE5OBgDs3bsXN910U3BGqRAx+oF7XvzdTRjgkm5/HalqhanTjli9BjPzkwAAl07MBADsKG5Ei/vPxFeFnlDjX6UmPU6P9DgdnCL8ahZ+5rNCHK4wIdGoxRs/monJw+Nh6rTjt+8d8ms8RESDnddLuidPnowzzzwTt912G1avXo3Y2O7/+ly1apXsg1Mab5Z0B1SpYaOwX3aVNgIAZuQmQq1y9b7kpURjdHoMjte0YfOxWlx1xjCfrmlzOFFa71r55OseNaebNCwBNaYaHDrVgjPzkrz+vMrmDvz9qxIAwBM/mIzzRqciK8GABX/agk1Ha/FdpQnjs+L8HhcR0WDkdaVmy5YtmDBhAn71q18hMzMTt956KxuDfSRVUvpb0t3s527CAKef/LVHCjXfCw1zx6YDAL4srPf5micbzLA7RURHqZEZr/d7bF19Nb41C7+45QSsdidm5SdhwXjX76MgLQaXTnJVoKTAQ0SkJF6HmnPPPRevvPIKqqqq8Pzzz6OkpATnn38+Ro8ejSeffBLV1dXBHKcieEJHZ9/TGS3trkbhBB+XcwOnTz+xUdgXe082AUCPSsjZI11TqzuKG3y+ZtFpU0+BbOInLes+6MMZUO1WO97d5+oFuvOiUd2+/rI5eQCATw5XoYMN5USkMD43CkdHR2PZsmXYsmULjh8/juuuuw4vvPACcnJycMUVVwRjjIoRqx84dDSa3ZWaaN8rNUZuvuez+jaLZ2+aCd+bjpmemwiNSkBFcwfKG9t9um5hjSvUjAxg6gkAJrorNcX1Zq8rcB8erEKbxY7cZCNmj0ju9ty0nEQMSzDAbHVg87HagMZGRDTY+BxqTldQUIAHHngADz74IGJjY7vtNEw9ebWk212pSTIGUKmx2iFKm91Qv45Vu/aSyU02eippkmidxlMp2VnS6NN1i+qkM5/8W/kkSY3VISteD1EEvvVyCmrd7nIAwPUzsqFSda8SCYKAy6e4pqCkFV9ERErhd6jZunUrbr31VmRkZOCee+7BNddcg6+//lrOsSmOtPqpzWKH09l76Ghyh5pEP0KN9KbsFIGOADaNG0qOukPN2Izew8dZI/ybgpIqNf6ufDrdRB/6agprWrH3ZBPUKgHXTR/e62vmj+vqFXL08X1IRBSJfAo1lZWVePzxxzF69GhccMEFKCoqwnPPPYfKykq8/PLLOOuss4I1TkWIOa0SYLb2Xq1p9PMwSwAwarsOPWRfjXeOupdKj8nofSWQP6HG4RRxwlOpCTzUdPXVDBxqpCrN3LFpSIvrvUF5anYCYvUatHTY8I0PvTpERIOd16Fm4cKFyM3NxfPPP4+rr74aR44cwVdffYVly5YhOjo6mGNUDJ1GhSi165ab+tiAzzP9FO17pUalEhAdxb4aXxyv6b9SMy03ESoBONXUgaoW73bMrmjqgMXuRJRGhewkY8BjnDw8AYCrobm/aUWL3YF3950CANw0M7vP12nUKpw7KgUAsPV4XcDjIyIaLLwONVqtFu+88w5OnTqFJ598EmPGjAnmuBRJEATEufef6WtDtyaze/WTH9NPAJd1+0IURRTXuU/R7qOiEqPTePZz2VPa5NV1i+pcQWlESrRn35tAzMhLRJRahYrmDpQ29N2w/Om3NWhqtyEjTo/zR6f1e82zR7pCze5S33qFiIgGM69DzQcffIArr7wSarV64BdTn+INrtAhbbJ3OrvD6angJPox/QRwV2FfNJitaLXYIQhATj8VlRm5rqXee7wMAHL20wCu09en5SYAAL4q7Luysm53GQDg+hnDBwxT0vL1/WXNsDmcsoyTiCjcAlr9RL6TKjAt7oMrTydtvCcI/u0oDHRVavrq2aEu0o6/WfEG6LV9h3UpAOz2slJzvEaelU+nO3dUKgBgSx/TRScbzPi6qAGCAFw3o++pJ8motBjE6TVotzpwxI8jGCg89pc1YfXHR7DirQP4w4Zj+LaSJ7gTnc7rYxJIHlJY6a1SI/XTxOm10Kj9y5vR7r1q2tgoPKASd6jJS+m/7+XMvEQAwNFqE0ydNsTp+w+c0jlN4zLlCzVzx6bh6Q3HsLWwHm0We7emcwB4Y/tJAMB5o1K96uNRqQTMyEvC50drsbu0ydO3Q4NTa6cN9/3nED783jL8P28uwhVTsvD7qyb6/Q8hIiVhpSbE+gs1Te4+G3+nngCe/+SL0gZ3qEnuv9E9LU6P3GQjnCKw72T/1Rqr3YmiWldPjZxnK43NiMWIlGhY7U58frT7pnltFjvedq96utW9Y7A3ZrjDmrfTahQeda0W3PDSDnx4qApqlYCrpmbh3kvG4LJJmVAJwAffVOKav3yNsn76rYiGCoaaEOsv1DS6m4QT/Vj5JIlmT43XSutdbwL5KQOv3uvqq+k/1BTWtsLmEBFv0GJYgiHwQboJguA5t+nfe8q7PffvPeVotdgxIiUa57unqbxx+rQaN2scnDqsDvz49d34rsqElJgo/OcXZ+OZG8/ALy8owAtLpuHdX85BRpweJ+rMuOnlHV6v0CNSKoaaEJNWPzX3svqpOYCN9yTRPP/Ja+VNrlDTX5OwRJqCGmi10HeVrqmn8ZlxAZ351JsbzsyGSnBtmne02vV1WjtteGFzEQBg2Tn5PXYQ7s/ErHioVQLq2yyoNnXKOlaSx33vHsTBUy1INGrx75+fjanZCd2en5qdgPV3zMGIlGhUNHdg6f/b6fnHEdFQxFATYgleTD/5s/GeJEY6/4mNwgOqaHL9q3ZY4sAVFekE7wPlzbDa+14tJPXTyDn1JMlOMmLhRFe1ZtUH38HpFPHo/46gvs2K/JRo3OBFg/DpDFFqjE539f14s7EfhdaHB6uw/kAlNCoBLy6d3mdFMT1Oj3/cNgtZ8a6KzY9f383DSmnIYqgJsX57asz+n/sk4T413umwOtDgvt/DEwau1IxMjUaiUQuL3YnD/aw4Ob1SEwz3XDwGBq0a24sbcNGaLXhrTzlUAvDIlRMQpfH9r/PkYb6fAk7B19BmwUPrDwMAfnlhAWZ972DS7xuWYMAbP56FeIMW+8uasfyt/TwCg4YkhpoQk0KNqddKTeA9NdynxjsVza4qTYxOgzjDwIsABUHwVGt293G4pdMpnrbyKTihJi8lGk/8YBI0KgEl9WYIArDyigmeJd++muTDEQwUOr/74Fs0mq0YmxGLOy4s8OpzCtJi8PLNMxClUWHDtzX4/f++Y68UDTkMNSEW755aag7S9BMbhb1zyt1PMyzB4HXvS1dfTe/NwkV1bWjttMOgVWN0ujwb7/XmyqnDsHHF+fjjdVPw6fLzcPPsPL+vJZ0rdaiihW+Ag8Qnh6vwv4OulU5PXzvFpwrczPwkrLl+CgDgtW2l+PtXJcEaJtGgxH1qQsyb6Sc5GoU5/dQ/qVLjTT+NRFottPdkI5xOsUdTrrQyamp2gt/7DHkrPyXaq1VbAxmTEYsotQrN7TaUN3YgJznws6rIf01mKx583zXt9PPzR3gqab64fHIWKps78PhHR/Hoh0eQGW/AZZMz5R4q0aDESk2ISVWYlg5bjzlvqccjOZAl3Z4DLdko2B9Pk7APy64nZMVDr1Whqd2G4vq2Hs/vde9hI+3/Egl0GjXGujcJPFjRHN7BEFb991vUt1kxKi0Gd140yu/r/OTcEbhldi4A4K51+/GW+wgNb7Rb7ahq6YCps/fz6YgGM1ZqQizJGAVBAETR1UOTEqPzPFfrXlabFqf3+/qcfvKOP5WaKI0KU7MTsKO4ETtLGlFw2jEIoihiV2kDAGBaTuSEGgCYNCweB0+14NCpFlw+OSvcwxmyPj5UhfcPVEIlAE9fNwU6jf/n7AmCgIcXTUBrpx3v7q/Ab/5zCNtONOD+heOQEd/950u71Y5dJY3YdqIBXxfV49vKrmMzMuP1WDQlC8vm5CEzXr59l4iChaEmxDRqFRKNUWg0W1HfZvGEGrPFDrN7GWZqrK6/S/QrhtNPXvGnUgMAc0amYEdxIz4/Uosls3I9j5fUm1He2AGtWsCZ+UmyjjXYpgxPwL92luEbroAKm7pWCx547xAA4BcXjOyxH40/1CoBf7x+CrKTjHj+80KsP1CJ/x2swqz8JIxIjYbF5sTR6lYcrTbB5uheNdaoBNidIqpaOvG3rcX4146TeOCycVg8M0f2/ZeI5MRQEwYpMe5Q02oFMlyP1bdZAADGKHWPc318IVVq2rlPRb/8qdQAwIIJGfjjxuP4sqj7GUybj7kOmpyZnxTQn184THQv6/62wtRrrxAFl1MEfvPuYTS12zAuMw53XTRatmsLgoC754/GhWPT8PiHR7Cr1FWR2XaiodvrhiUYMKcgGXMKUjB7ZDJSY3QwWx3YVlSPF7ecwL6yZvz2vcMorGnDw5eP5/cIDVqR9dNXIZKjdQDa0GC2eB6rbXX9fyBVGqDrQEuz1Q5RFPmvql7YHE7UuKf6hvsYakanxyA32YiTDe3YdKQGV04dBgD47LsaAMAFo9PkHWwIjEqPQZRGhVaLHWWN7ciToQF5qGkyW/HWnnLsL2uCw+k6zPTyyVkYkzHwoab/LVPhy8oG6LUq/OkG31Y7eWtqdgLe/vlsFNW2Yk9pEyqbO6BVqzAiNQaTh8djeGLPVYAxOg0WTMjAvHHpeGlrMZ785Che21YKURSx8ooJ/NlCgxJDTRikuINLXWtXqJH+PzUmsFAjVQlE0VWtiY6wqkEo1LZa4BQBrVpASrRv91sQBFw1dRie3VSIf+44iSunDkNJvRnbixsgCMDCSRlBGnXwaNUqjMuIxTenWnCoooWhxkebj9Zi+VsHuq1o/OxIDZ7/vAgz85Jw27n5mDcuvUd1QxRFPLupCJ9XukLM09dOwdiM4OxvJClIi+3WC+YNlUrALy4YiYx4HVa8/Q1e334SGfEG/OKCkUEaJcnF4RRxpMqEo9WtKGtsh9lih1MUkWCIwrBEA8ZmxGJUekxA/VuDDd/xwiAlxrW6qb6t64yWribhwEKNQauGSnCVtM0WO0NNL6QqTVqs3q8y+uJZOXhhcxF2lzZh78km/PebSgDAhWPSMDwxMpdETxwWj29OteBwRQsWTWGzsLc2fleDn/9zLxxOEWMzYnHt9OGI0qjwVWE9Nh+rxa7SRuwqbUR+SjR+dE4+rp02HIYoNU7UteGPnx7DR4eqAQC/nj9q0N/3q88YjuZ2G1b99zs8veEoJg+Px5yClHAPi77H6RSxtbAO6w9UYsvxugHPAotSqzA9NxHnjErBuaNSMMF9Jlyk4jteGEjNwQ1tp1Vq2uSp1AiCgOgoDVotdrRZ7Ii8yZDgkwJkup8BMj1Oj6vPGIZ/7z2FW1/d5Vlp9qM5+bKNMdQmDevahI+8U1zXhrvWuY4juPqMYXjq2snQuvcnunl2HmpMnXh9Wyn+ueMkSurNeOj9w1j1wbcwRqlh6nR9z2hUAq7KteNn50XG986yOfk4WtWKt/aU48439+PDO8/tsZqKwqPJbMW/95bjnzvKUNbY7nk8VqfBhGFxGJEagzi9dKCyFaUNZhypakVLhw3bixuwvbgBT284hji9BmeNSMbska5fBakxQd93S04MNWHQVanpZfopwJ4awNUs3Gqxc6+aPtSYXPc6PYCl8/dfOg67ShtxssH1w+PGM7NxzqjI/Ver1Cx8mDsLe0UURfz2vcNotzpw1oikboFGkh6nx72XjMXtFxbg33vK8crXpShrbIep0w61SsD5o1Nx54UjcPLAV2H6Xfhn1ZUTcLCiBUeqTFj+1n7867azIvpf9pHu4KlmvL7tJP57sNJz2G6sXoMfTBuOSyZmYHpuYo/vTYkoiiiuN+Pronp8WViPHScaYOq049PvavCpu08wSqNCQWoM8lOjkRqjQ2qsDsnRUUgwahFviEK8QYt4oxYJBi2MUeGfxmKoCQNPpea0smBVS9eUSKCM7mZhLuvuXbWnUuP/vU6KjsIHt5+D9d9UICVGh0smRF4vzelGp7t2FjZ1upqFs+L83wByKHh3XwW2F7uae5++dkqfbxqA6x8Zt87Jxy1n56Ha1AmzxYGsBD2MURrYbDacPBC6cctBr1XjL0um4bLnvsSO4ka8uOUEbvfyfCqSR3O7FRu+rcbaXeX4przZ8/iErDjcPDsXi6ZkwRjl3Zl2I1NjMDI1BjfPzoPd4cThShO2najH9hMN2HuyCe1WB76rMnnOteuPRiUg3qDFT8P47cBQEwZSqJF6OwDglHvflOykwHsy5D7U8kiVCUW1bbhkYka/P7wjRY0MoQZwneMVyLlLg0mURoWxmbGuTfgqWpAV598BmUOB1e7Emo3HAQB3XTTa67+zgiAoZgO7/JRorLpiAu555yDWbDyO2SOTI27TyUjhcIqoMXWiuM6MfWVN2FXSiB3FDbC7d6SPUqtw6aQM/HB2HqblJAS0Kk2jdm0wOjU7Ab+8oABOp4hTTR04Wm1CWWM7GsxW1Lda0GC2oqXDhpYOG5rbbTB12GB1OGF3imgwWxHOgk3EhZoXXngBTz/9NKqrqzFlyhQ8//zzmDlzZriH5RPph2CNyYJOmwNatcpzwKIcZ+9EuxO62Rp4qDl4qhk/+Os22Bwirpk2DGuunxrwNcOt1jP9FPhUn5JMlHYWrmjBxeMYavryzt5TqGjuQFqsDsvm5IV7OGFz7fTh2FpYj/9+U4m71u3HR3eei1i9/4fxDmWVzR04UmXCsZpWVLd0oq7V4vrVZkFVcyesDmePzxmbEYtFU7Jww5nZ3Xaml5NKJSAn2Tjg+5IoiuiwOdDSYUO9qQOFe74Myni8EVGh5q233sKKFSvw4osvYtasWXjmmWdw8cUX49ixY0hLi5yW2ESjFjE6Ddosdpxq6oAhSg2bQ4RWLSAjwOoBAMTo5dtV+NnPCj27jb67rwJ3XFiAEanBO4E6FOSq1CjNpNP6aqh3DqeIv3xRBAD4+fkjodeGv4cgXARBwGNXT8T+siaUN3bgofcP45kbzwj3sCLGyQYz3txVjk+/q0Zxnbnf12pUAoYnGjB5eAJm5CViTkEKRg6in8OCIMAYpYExSoMUowbFYSzoR1SoWbNmDX7yk59g2bJlAIAXX3wRH374IV555RXcd999YR6d9wRBQHaSEUeqTChrNMOgdf0xDE80ytJwFyvT9JOp04atha6dcoclGFDR3IEPD1bh/wI4aG8wqAlw9ZNSdYUaE5uF+7C1sA6nmjqQYNRi8ayccA8n7OL0Wjx74xm4/qXteP9AJc4bnYprpg0P97AGtRN1bXjqk6P49LsaSH/N1CoBBakxGJMRi5wkI1JjXQ25KTE6ZCXokRlvYDO2lyIm1FitVuzduxf333+/5zGVSoV58+Zh+/btYRyZf3KlUNPQ7mno8nV3275Ie9O0dQYWanYWN8LmEJGfEo0fn5OPB98/jG0nGiI61HRYHZ7ltIEcHKpEUrNwS4cN5e4eL+ru7d3lAICrpg4b0lWa003PTcRdF43Cmo3H8dD7hzEtJ5EbOPbCanfijxuP4e9flnj6YS4Yk4prpw/HeaNTPcutKTARE2rq6+vhcDiQnp7e7fH09HQcPXq018+xWCywWLqWTZtMru5tm80Gm83W6+f4Q7qWL9ccluCqEpTWt8Hg7qoanqCXZVxGrav219JhDeh6O4vrAQAz8xIwPdu10+m+siZ0dFrCsm+BP/f5+yrc+zcYo9TQq0RZvw8inQDXMRCHK034prwJagR2r5Wmoc2Cje5lrj84I1OWeyPH9/Rg8NNzcvFlYR12lzbhzjf34c3bZgbluAd/hfs+V7V04q63vsH+ctfU7oVjUnDPgtEYldY1hRTp3wOSYN1rb68XMaHGH6tXr8aqVat6PP7pp5/CaJR/59eNGzd6/VpTtQBAjT1HS+GqKqrQUXsSH31UGvA4Tp1yXftoUSk++qjY7+ts+VYFQAVVUxmO7j6JKJUaFrsT/3j/E6SHcRGHL/f5+4pMAKBBtMqOjz/+WLYxKUWs3fVn/uG2Q7giN7B7rTSfVwqwO9XIiRZRvO9L+P83qycl3OfLkoBvy9U4WGHCsr98isUjnRhsx0OF4z4faRLwjyIVzHYBBrWIm0Y6MSWpGoV7qlEY8tGEjtz3ur29feAXIYJCTUpKCtRqNWpqaro9XlNTg4yM3vcIuf/++7FixQrPxyaTCdnZ2ViwYAHi4uQ7Y8Vms2Hjxo2YP38+tFrvSoiJxQ34d8leNItG97xqJ669aBZm5ScFPJ6GHWX4sPwoEtMycemlU/y+ziMHvwBgxbXzzsbk4fF49dQOHDxlQsaYaVg4MfT7svhzn7/vfwergG8PIT8jCZdeeqbMI4x8LbvLsf2DI2jXJQOoC+heK4koinj2uW0AzPjJRRNw6Zny9I3I8T09mGSNr8Mv1h7ArjoVxozIxYMLxw6KE73DcZ8dThHPbz6Bl44VQxSB8ZmxeP7GKciRYduOwSxY91qaaRlIxISaqKgoTJ8+HZs2bcJVV10FAHA6ndi0aRPuuOOOXj9Hp9NBp+vZDKrVaoPyje3Ldc/ITYYgAKeaXU2rggBMyk6SZVxxRtfvud3m9Pt6jWarZ3PAccMSoNVqMDYjDgdPmXCiviOsP4AD+fNraHf102TEGxTxJiK3M3KSAQDfVrXCmR68vyuRZu/JRhTXm2HQqnHVtOGy3xOl3OcFE7PwxDUO3PPOQfxjZznq2mx48geTEW8cHL+3UN3nulYLlr+1H18XNQAAlszKwUOXjx9SfVhy32tvrxUxoQYAVqxYgVtuuQUzZszAzJkz8cwzz8BsNntWQ0WSWL0WE7LicLjClT6n5SQi3iDPN0CMp1HY/znN4zWtAIDsJIOnkXl0emy35yIRVz71b2xmLAxa19lENewV9li3y9UgfNnkTO7FMoDrZmQjSqPCr//9DT75thr7yprwf3MLcNUZw4bEvdtR3IA739yP2lYLjFFqrL5mEq6cOizcwxoyIirU3HDDDairq8PDDz+M6upqTJ06FZ988kmP5uFIceOZOXiw4jAA4AcyLoOM1UtLuv0/+6nQHVxGp8V6HpNCzbEIDjXVMpz7pGRatQpTsuOxo7gRJa3hnzYYDFo7ba5pSwA3nJkd5tFEhiunDkN2khG/fvsbFNeb8dD6b7Hyv99hTHos0uJ0cDhF2BxOdNqc6LQ50GFzwKBVIyNej0nD4nHBmLSAd8cNNZvDiWc+O46/fHECogiMSovBX5dOQ8FpP0Mp+CIq1ADAHXfc0ed0U6RZPDMHTlGExebEjTL+sPQs6Q5gn5rC2jYAwKj0rr+QI92d+uWN7XA4xYjcN4Eb7w1sRm4SQ81p/newCh02B0akRmNGLo8C8Na0nER8dNe5WLerDG9sP4nierP7DKG+P+dodSu+OFaH5z8vwtiMWCyfNxoXT0gf9OFmd2kjVn7wLb6tdFXer58xHCuvmODV+UskL97xMFKphKCcHRQjQ6iRjq7PO2177PRYHTQqATaHiNrWzog8x6aWoWZA0/Ncb9zFDDUAgLfce9PcMCN70L+5DjZ6rRq3zsnHrXPycaqpHceqW9FgtkKjEqBVq2DQqmGIUkOvVaHN4kB5Yzt2ljRi43fVOFrdip//cy/OHpmMJ38wWZZz8eTkcIrYdqIer31dik1HawEAcXoNVl8zGZdNzgzz6IYuhhoFOj3UiKLo1w/icneoOf0HiUatQmaCHuWNHTjV1BFxoUYURdTw3KcBSQcT1ncKqG+zIDPR9z6IotpWNLRZMT4rLqL7KI5Vt+JAeTM0KoE75QZoeKIRwxMHDiZLz8pFS4cNL28txt++LMa2Ew249Nkv8dg1k3DFlKygjE0URRTXm3G0qhXlTe0wddjgcIqI0qgQpVZ59uUSIaKxzYrSBjN2lTR6NvIUBFfo/fXFY4J2DhN5h6FGgaSznxxOEZ02p2dzP2+Joug5Nfz7uxwPTzC6Q007zswLfPl5KLVa7OiwufqMWKnpW7xBizHpMThW04adJU24KtH7M2a+v+oj3qDFo1dNxKIgvRkFm1SluWhcGlJj+WYVKvEGLX598RhcPyMby9/aj31lzbjzzf3YXdKIBy8fB51GnlVE5Y3teOXrEmw4XI3Klk6fPz9Or8E104bj5tm5EX8mnlIw1CiQUauGIACi6KrW+Bpq6tossNidUAlAVsL3Qo075JxqjLylMTXuH1rxBu2QWlrpjzkjk3Gspg1fFtXjqmne9Xs1ma24/qXtKKk3Q6MSEGfQotFsxV3r9kOvVWP++Mhq6LfYHXh3/ykArqZ+Cr2cZCPe/tlsPPNZIf68uQj/2HES35xqxguLpwU0HVXb2okXPi/C2l1lngN7dRoVxmbGYWRKNOIMWmjVAqx2J6wOJ2wOEVK9O96gxfBEA6ZkJ2DSsPiw7K5OfWOoUSCVSkB0lOsU8DaL3ed/YZa7A0tmvAHa7/2FlcrHpyLwbCBOPXnv3FEpeGXbSXxV2ODVFKYoilj+1gGU1JsxLMGAN348E7lJRvz2vcN4a0857n3nG2z61QVIio4K0e8gcJ9+W4Pmdhsy4vQ4b3RquIczZGnUKvz64jGYnpeIu986gIOnWnD581/hTzdMwdyxvgXllg4bXtl0Aq9+Xeqp2p47KgU3z87DuaNS+I8dBWDEVKiYAE7qPtXk6qfp7YBNT6Wm2bstqwcTrnzy3pm5CdCqRNS0WnC8pm3A13/wTSW2HK9DlEaFV249EyNTY6BRq/Do1RMxNiMWTe02PL3hWAhGLp9/7DgJwLWSJRJX+inNhWPS8L//OwdThsejpcOGH722B3/YcAwO58Anyrdb7dhYIWDumi/xly9OoMPmwNTsBKz9ySz848ezMH98OgONQjDUKFS0zvUXtNWPk7q7+ml6lneHuUNNZbPv88/hVtPqGnNaLEPNQHRaNQriXG8WXxyr7fe1ze1WPPLf7wAAd84twJiMrm0AtGoVHrlyIgDgnb3lqGiOjArfsepW7CpphFol4KZZnHoaLIYnGvH2z2fj5tm5AIA/by7CdS9uw57SRohiz3DT0mHDX74owkV/+gr/K3NtKjkmPRYv3zwD7/3ybJw9MiXUvwUKMk4/KVSMe8WJP5UaqaKREd9zmibDXeWoMXX6vbLKWy0dNjSarchLNsrydWrd00+9/b6op/EJIo40A598W42fnT+yz9et/ugoGsxWjEqLwU/P6/m6mflJOHtkMradaMDfvyzBw4vGB3HU8vjHjlIAwPxx6RG3yk/pdBo1HrlyIqbnJuL+dw9hX1kzrn1xO8akx2L2yGRkxOthtthxuKIFX59ogNXuBAAk60Tcf/kkXD09h5U3BWOoUagYd6XGn71q6lpdb/69VTTS3P0o7VYH2iz2oC3XPVDejKX/byfaLHbcMjsXq9z/2g9EdQunn3wxNVnEeyeB/WXNKGtoR05yz8rdzuIGvLXHtULo8WsmIUrTe/H3J+eNwLYTDfjPvlO495IxQS31N5qt2F3aCFEEpucm+txT1tppw3v7KgDAUxGgwefKqcMwMz8Jz35WiHf3V+BYTWuvu52PzYjFj+fkQn3qABZNzWKgUTiGGoUKZAO+Wk+o6flmYIzSIFavQWunHTUmS1BCjSiKePD9Q56xv779JC6bnIUzhge23Tinn3wTFwXMHpGMr0804J295VixYEy35y12Bx547xAA4KaZ2f0u8T9vVCqGJRhQ0dyBjw9X4eoz5N/zRRRFvPxlMf60sdDTBKpVC1h6Vi5+c8lYr4PUG9tPwmx1oCAtBrNHJss+TpJPZrwBT/xgMu5fOA6fH6vB4QoTmtqt0GnUKEiLwTkFKRidHgO73Y6PKg+Ee7gUAuypUagYnStsBFKp6etfuFKlQ9qdV26HKlpwuMIEnUaFBe5lwK9vKw34urVc/eSzG2a4DuL7x46T6LB2P0vsTxsLcaLOjJQYHe67ZFy/11GrBM9RIG/uLA/KWJ/4+Cge/+io50iDsRmxsDlEvPp1Ka7+yzZPpa4/rZ02vPxlMQDgjgsLuINwhIg3anH1GcPx0OXjseb6qVh9zST8+Jx8jMmI5Z/hEMNQo1Ce6ScfG4VF0XUEAtB3RUMKBVLlQ24bv6sBAMwbn47/mzsKALD5WC0s7rlxfzidXb8vTj95b8H4dOQkGdHU3vVmDwDbTtTjpa0nAACPXjUB8caBK3bXzciGIAC7ShtRKXPD8PoDFXhpq2t8KxeNx6YV5+OT5efh1WVnIjk6CkeqTLj+pe2enbL78v++LEFzuw0jUqIjdsNAoqGMoUahpF2Ffa3UtFrs6LS5wkOflZpYqVnYEsAI+7azuBEAcG5BCiYOi0NqrA7tVgf2nmzy+5pN7VbXBlpC378v6kmtEvCrBaMBAM9/XojNR2vxVWE9fv6PvRBF19bwl0z07pybjHi9Z4rqw4P9nGroo/o2Cx5e/y0A4P/mFuDWOfmef51fOCYN6++Yg5wkI8oa23H9S9txoq73Jeol9Wb8dYsrqK1YMJq9F0QRiKFGofw9qVuaeorVafrciTjttBVQcuu0OXCgvBkAMGtEMgRBwPnujc+2Ftb7fd1q91iTo3U9NhSk/l0xJQsLJ2bA5hCx7LXdWPr3nTB12jEjNxG/u8K3lUyL3Af9/e9gpWzj+9PG42jpsGF8ZhzuumhUj+eHJ7p2pR2ZGo2qlk784K/begTkdqsdt/9rH6x2J84dlYLLJvFAQqJIxJ/uChXr5+Z7Ut9Jf9UMz/RTEELNgfJmWB1OpMXqPCeEnzvKtZfE7lL/KzXsp/GfIAh49sYzsGRWjvt0ZQFLz8rBaz+aCWOUb2sNLpmYCZUAfHOqBWUNgW/gWN7Yjrfdq69WXjGhzy3rM+L1ePtnszElOwHN7TYsfnkHXtxyAs3tVhyrbsXS/7cT31WZkBwdhaeuncw+DKIIxdVPCuV3paZt4FAj9dpIVR05Ha5oAeA6KVp6Y5FOjT5S3Qq7n4tmpEpNBvtp/BKlUeGxqyfhocvHQxDg94GCqbE6nDXCtWfN/w5V4pcXFAQ0rj9/XgSbQ8S5o1IwM7//A1aTY3R48yezcOeb+/HZkVo88fFRPPHxUc/zcXoN/nbzDO5LQxTBWKlRKH+XdEsrmtL6efNPjnGd39PQZvVzdH077t5nYvRpu9IOTzQgKToKNoeICrN/15VWvvT3+6KB6bXqgE9IvnyyqwE30L6a2tZOz4GTy+eN9upzjFEavHzzDDz1g8koSHOdqqxRCZg3Lg3v3z4H03MTAxoTEYUXKzUK5WkU9nH1k2c5d0zflZoUd6ipb5O/UnPMfc7QmPSuUCMIAqYMj8fmY3U42ebftIC08omVmvC7eEI6Hlp/GN9WmnCywYzc5Gi/rrN2p+uE5em5iT6FEUEQcP2Z2bj+zGy0WezQqoWAgxoRDQ6s1CiUvwdaenYT7qf3JMUdeEydds8W5HJwOkUUuis1YzJiuj03eXgCAKDM7F+o6dpNmD014ZYco8NZI1xTRR8dqvbrGla7E//cUQYAuPXsPL/HEqPTMNAQKQhDjUJJoabV1+knLyo1cXotNO7lro1m+aagKpo70G51IEqt6vGv93GZcQCA6nb/Qo20/Dw9npWaweBS9+qijw75NwX10aEq1LdZkB6nwyUTM+QcGhFFMIYahTq9UtPb6bV98aZSo1IJSIqWfwqqyL1/SH5KdI9l19LJz9UdgMPp/e9HUsNG4UHl4gkZUAmu3aP9WQX1xvZSAMCSWblcok9EHvxpoFBST41ThOccHG8MtJuwJNldyWmQsVIjvbnl9nJwYk6SETqNCjangFNNvu1Ga7E7POPkbsKDQ0qMDrPyXecqfXzYt2rNd5Um7CtrhkYl4KaZOcEYHhFFKIYahTJo1ZA2RPW2Wdhqd6Kp3QZg4F13UzwroOSr1JS5t7DPSeoZatQqASNTXVNShbW97wjbF6n6FKVWIdGL7fwpNC6d7N8U1NpdJwEAF0/M4O7QRNQNQ41CCYLg2avG274aaSpJqxaQYOj/zT85CNNPJ/up1ADAaPcS3OM1voWaGs8ydR03VRtELpmQAcG9Ed9AZzJJ2ix2vLevAgCwZBarNETUHUONgsXpXcGk1ctKjdQknBKjg2qAc288008y7lUjvbFl91KpAYBR6e5Q42OlprrF9ftiP83gkhqrw0z3WVDeTkGtP1ABs9WBESnRmD0iOZjDI6IIxFCjYHHuaoupw+bV6z1Nwl6U9JM9e9XIE2pEUfRMP/W1b8lod6gp9LNSw5VPg89l7ikobzbiE0XRs4x78awcVt2IqAeGGgWLczcLmzq9CzVSk7A3fQop0VKjsDzTT3VtFnTYHFAJwLCE3repH+WefippMMPm8H5/HE+oGaD5mUJv4cRMaFQCvjnVgiNVpn5fu7+8GUeqTIjSqHDtdD/PyyAiRWOoUbCuSo2X00+ewywHfvOX+6iECveKprRYPaI0vX9bZsbpEaUSYXOIXvdgAKct545nU+lgkxqrw/zx6QCAdbvK+n3ty1uLAQCLJmchwRgV9LERUeRhqFEwqafG20qNdJild9NPUk+NPJUaacffzIS+A5VKJSDNXcQp8qGvRjrMksu5BydpWfa7+yvQYe19+4HiujZ88q1r9+GfnjciZGMjosjCUKNgcQb39JOXPTVdlRovQo20+sls9Wlzv75UuUNN1gAnJKcbXF/rRJ33J1t6dhNmqBmUzilIQXaSAa2ddry1u/dqzYtbTkAUgYvGpnk2YiQi+j6GGgULZqVGOv/Janf6fBRDb6o9U0T9Bw8p1HhbqRFFkbsJD3IqlYCfnjcSAPDilmJ0fm+zyKPVJryz13Ua9y8vLAj5+IgocjDUKJivPTV1Ju8bhQ1Rahi0roMAG2Xoq5EqNZkDhhrXf0/UeRdqTJ12tLunNFipGbyunzEcmfF6VJs68fznhZ7HbQ4n7n/3EJwicOmkDJ9O4yaioYehRsF8Wf0kimJXpcbLN3/p/Cc5jkqobnE1CntbqTlR2+bVtJfUgJwUHQVDFE9jHqx0GjV+t2gCAOCvX5zAhwerYHM48eB7h7G/rBmxeg1+e9n4MI+SiAY7TbgHQMHjyz41ze022ByukCAdgTCQ5JgoVDR3oEmGUFPZ7F2lJlUPqATXLsl1rZYBA1hFsyvU9LVMnAaPiyek48Yzs7FudzluX7sPsXoNWjvtUAnA09dO5p8hEQ2IlRoF6+qpGXj6SdpNOMGohU7jXUVDqtQ0BhhqnM6uvpfMARqFNaqus6G86aupaHIt/eYb4uAnCAIevWoibj07zxVcO+1IiYnCC4un4ZKJmeEeHhFFAFZqFMyX1U++7CYskWv6qd5sgd0pQiV4188zIiUapQ3tKKprw9kFKf2+1lOpSWSoiQQatQorr5iAn58/EpUtHRifGQe9ltOGROQdVmoUzJfVT77sJixJMkqVmsD2qpH2qEmN1UGrHvhbUjqt+4QXlRppWiuLlZqIkhGvx7ScRAYaIvIJQ42CST01nTYnLPbeNzWTdFVqvF8hlBQjT6VGWvmUMcDUk2SEO9QUebEC6hR7aoiIhgyGGgWL1Wkgnfk30EndUk+NL5UaaQO+QBuFPbsJe7nqqqtSM/AGfNLqp+GcfiIiUjyGGgVTqQTE6Lzrq6n1q6fG9dpAG4W93XhPMjIl2vN5rf1MrXXaHKh3L1NnpYaISPkYahTO2xVQdf701MjUKFznY5UozqD1vLa4n+MSKt1TTwatGglGbUBjJCKiwY+hRuGkvpoWLys1/oSaQCs1voYaoGsKqr9l3VKT8LBEAwRpHo6IiBSLoUbhPLsKDxBq/GoUdoeadqujx3k9vpCmiFJjvA81BWkxAPo/LuEU96ghIhpSGGoUzrOr8AC9J1IjsS/Vkji9Blq1qwISSLXGv0qNK9T0V6kpaXBNTeUlG/0eGxERRQ6GGoXz9NT0c6hlrckVKnQalaey4w1BEJBoDGwKyuEUPT05voQabyo1pfXuUONuLCYiImVjqFG4eHelprmj79BR19bVJOxr70mgzcJN7VY4nCIEoeta3pAqNScb2mFzOHt9TWm9a/opn6GGiGhIYKhRuKRod6gx9z39JFVqfFnOLUmOCWxXYWnqKdEY5dVuwpLMeD2MUWrYnSJONrT3eN7pFFHqnn5iqCEiGhoYahQuUVqh1N5fpcb3JmHP9d3TTw1t/lVq/GkSBlxTX/311VSZOmGxO6FRCWwUJiIaIhhqFE46n6m5n1AjVWp86WmRJAe4rNufJmFJf301Je79a3KSjND4UAEiIqLIxZ/2CpfgRSNvjXtHX3+mn6RdhZv6CU39CSTUjEp3hZojVaYezx2rae32GiIiUj6GGoWTmm+b2vvuqZGOKUj38piCbtePCWz6SQo1KTHeNwlLJg2LBwAcrmjp8ZwUdMZmxPk1LiIiijwMNQqXKDUKu1cZ9Uaafsrw8kDJ0wU6/eTpqfGjUiOFmtKGdrR8L7QdrXaFmnGZDDVEREMFQ43CSY28TrHvXYV9PVCyt+v73VMTQKhJMEYhJ8m1sd7hyq5qjd3hxPEaV5/NuMxYv8ZFRESRh6FG4bRqFWLdJ3X31vfSaXN4zoVK92P1k7Sk2999ajw9NTG+f20AmDTcVa05UN7seexEnRlWuxPRUWpkJ3I3YSKioYKhZghI9PTV9AweUpOwXqtCnMH73YQlUs9OS4cN9j42wetPII3CADAzLwkAsO1EveexXSUNAICpOQlQqXiQJRHRUMFQMwR49qrpZQO+6hb31FOc3q+TrBONUZA+rb9m5N7YHE7P5/jTKAwAcwpSAAC7S5s8h2ruKG4EAJyVn+zXNYmIKDIx1AwBSUZXs3Bvu/5K/TRpfjQJA4BaJSDBIF3ftykoacWUWtV1hpSvRqZGIz1OB6vdid2ljRBFETuKXZWas0Yy1BARDSUMNUNAsnu33vpell0HsvJJ0nX+k29HJZy+nNvfaSJBEHDhmDQAwLv7KrC/vBkNZiuMUWpMdvfbEBHR0MBQMwRIm+rVuqsypwtk5ZMkyc9l3acfpBmIm2bmAAA+PFiFP208DgC4eEIGdBp1QNclIqLIwlAzBHhCTWvPSkoguwlLPBv8+Rhq6ltdr0/x8dyn75uSnYAp2QmwOpz4stDVMLxsTl5A1yQiosjDUDMEpLunlvoLNYFValyhxNdl3XV+HmbZm6d+MBlpsToIArBi/mhMHp4Q8DWJiCiy+L6GlyJOWpxUqeln+imAnhp/dxUOdDn36cZkxGLbfXPRYXMgVq8N+HpERBR5GGqGgDT3pno1JgtEUfQs3XY4Rc+S7swEg9/X72oUDl+oAQCNWoVYnshNRDRk8R1gCJBCg9XuhKnD7nm82tQJm0OEVi3Isvqp0cdDLaXpp0B7aoiIiACGmiFBr1UjTu8qyp0+BVXW0A4AGJZggDqAnXeT+tmxuD/1MldqiIhoaGOoGSLSemkWLm9yhZrspMDORxos009ERDS0MdQMEZnu1U0VTR2ex041yhNqpEMtm8xWiKLo1ed02hxotbimwhhqiIhIDhETavLy8iAIQrdfTzzxRLiHFTFyk13B5WSj2fNYuTvgBHqStXTEgd0pduvZ6Y9UpdFpuk4RJyIiCkREvZs88sgj+MlPfuL5ODY2NoyjiSx5ydEAgFJ3Hw0AlHkqNf6vfAJcPTvRUWqYrQ40mC2INw68pPr0JmF/DtIkIiL6vogKNbGxscjIyAj3MCJSjnuKSWoOFkURhTWtAIARKTEBXz8pJgrmxg6vm4XZT0NERHKLqFDzxBNP4Pe//z1ycnKwePFi3H333dBo+v4tWCwWWCxdjbEmkwkAYLPZYLPZZBuXdC05rym34fGu8FDaYIbVakW1yQJTpx0alYDcRF3AY080alHe2IHalg6vrlXV7ApXqTFRXn/tSLjPSsF7HRq8z6HB+xw6wbrX3l5PEL3t7AyzNWvWYNq0aUhKSsK2bdtw//33Y9myZVizZk2fn7Ny5UqsWrWqx+Nr166F0RhYH0mksTqAe3a5AuDjM+wobRPwt6NqZBpE3DfVEfD1XzqiwnfNKtw4woHZ6QN/S31UrsKGUyrMSXfi+hHOgL8+EREpV3t7OxYvXoyWlhbExcX1+bqwhpr77rsPTz75ZL+vOXLkCMaOHdvj8VdeeQU/+9nP0NbWBp2u9ymM3io12dnZqK+v7/em+Mpms2Hjxo2YP38+tNrBu0X/OU9vQY3Jgrd+MhO7S5vwh42FuHxSBv50/eSAr/2bdw/j3f2V+NW8Avz8/BEDvv7B9d/hrT2ncOeFI/F/c0d69TUi5T4rAe91aPA+hwbvc+gE616bTCakpKQMGGrCOv30q1/9Crfeemu/rxkxovc3yFmzZsFut6O0tBRjxozp9TU6na7XwKPVaoPyjR2s68plQlY8aky1OFpjxvFa1yqo8cPiZRlzqvsohuZOh1fXazC7SokZCUafv/5gv89KwnsdGrzPocH7HDpy32tvrxXWUJOamorU1FS/PvfAgQNQqVRIS0uTeVTKNWlYPD4/WosD5c3YVdIIAJg8LEGWaydGd+1V4406987GbBQmIiK5RESj8Pbt27Fz505ceOGFiI2Nxfbt23H33Xdj6dKlSExMDPfwIsas/CQAwHv7KwAAUWoVZuTJc/983VWYq5+IiEhuERFqdDod1q1bh5UrV8JisSA/Px933303VqxYEe6hRZQZeUmIN2jR0uGa+pk7Ng16rVqWaydLh1p6EWpEUfTsU8NQQ0REcomIUDNt2jTs2LEj3MOIeFEaFZbPG4VV//0OURoVfnmhdw263kjyIdS0dNhgc7j601PcRywQEREFKiJCDcln2Zx8TM1OQKxei4K0wDfdkyRHuyouDWbLAK/sOlQzwaiFTiNPpYiIiIihZgg6I0f+PqTEaFdneqfNiXarHcaovr+1PP00MZx6IiIi+UTMgZY0uMXoNIhSu76dBpqCYpMwEREFA0MNyUIQBK/7aqRQk8ZQQ0REMmKoIdl4u6y7lnvUEBFREDDUkGyS3SuZGts4/URERKHHUEOy8Xr6qU2aftIHfUxERDR0MNSQbBKN7lDTzkoNERGFHkMNycazq/AA00+1DDVERBQEDDUkm6SYgRuFLXYHmttdxzRwnxoiIpITQw3Jpuv8p753Fa5pcT2n06iQYJTvWHoiIiKGGpJNkvuohP4ahStbOgAAWQkGCIIQknEREdHQwFBDsklyH5XQX6ipcoeazHiufCIiInkx1JBspEqNqdMOq93Z62sqm10b72XGG0I2LiIiGhoYakg2CQat5/wnadfg72OlhoiIgoWhhmSjUglIj3dVa6pbeg810uOZCQw1REQkL4YaklVmnGtaqaqPUCNNP2Vx+omIiGTGUEOyynBPK/VVqfFMP7FSQ0REMmOoIVlJYUVaun26DqsDTe6N99goTEREcmOoIVllxvVdqZGqNMYoNeL0mpCOi4iIlI+hhmSVEd93T430WGa8nhvvERGR7BhqSFbSUu2qXqafKpq7dhMmIiKSG0MNyWpYoiuw1LZa0GlzdHvuZIMZAJCTZAz5uIiISPkYakhWydFRiNFpIIrAqab2bs+VNrg+zk+JDsfQiIhI4RhqSFaCICA32VWJKa3/Xqipd1Vq8pIZaoiISH4MNSQ7KbSUuqebAEAUxa5Qk8LpJyIikh9DDckux12pKWvsqtTUt1lhtjqgEoBs9tQQEVEQMNSQ7PKk6aeGrlAjVW2yEgzQadRhGRcRESkbQw3JTpp+OlHb5nnsSJUJADAqLSYsYyIiIuVjqCHZjc2MA+Dal6bJbAUAHK5oAQBMHBYftnEREZGyMdSQ7OINWs8KqMOVrjBzuMJVqZmQxVBDRETBwVBDQSFVZA5VtMBid+B4Tav78bhwDouIiBSMoYaCYrIUak614HCFCXaniASjFsN4RAIREQUJj0qmoJiemwgA2HaiASNTXc3BZ49M5kGWREQUNKzUUFBMzU5AolGLlg4b/ry5CAAwd2x6mEdFRERKxlBDQaFRq3DDmTmejxOMWlw2KTOMIyIiIqXj9BMFzR1zC3C4ogUl9WY8fs0kGKK46R4REQUPQw0FTYxOg3/eNivcwyAioiGC009ERESkCAw1REREpAgMNURERKQIDDVERESkCAw1REREpAgMNURERKQIDDVERESkCAw1REREpAgMNURERKQIDDVERESkCAw1REREpAgMNURERKQIDDVERESkCAw1REREpAiacA8glERRBACYTCZZr2uz2dDe3g6TyQStVivrtakL73Po8F6HBu9zaPA+h06w7rX0vi29j/dlSIWa1tZWAEB2dnaYR0JERES+am1tRXx8fJ/PC+JAsUdBnE4nKisrERsbC0EQZLuuyWRCdnY2ysvLERcXJ9t1qTve59DhvQ4N3ufQ4H0OnWDda1EU0draiqysLKhUfXfODKlKjUqlwvDhw4N2/bi4OP6FCQHe59DhvQ4N3ufQ4H0OnWDc6/4qNBI2ChMREZEiMNQQERGRIjDUyECn0+F3v/sddDpduIeiaLzPocN7HRq8z6HB+xw64b7XQ6pRmIiIiJSLlRoiIiJSBIYaIiIiUgSGGiIiIlIEhhoiIiJSBIYaGbzwwgvIy8uDXq/HrFmzsGvXrnAPSVFWr16NM888E7GxsUhLS8NVV12FY8eOhXtYivfEE09AEAQsX7483ENRpIqKCixduhTJyckwGAyYNGkS9uzZE+5hKYrD4cBDDz2E/Px8GAwGjBw5Er///e8HPD+I+rd161YsWrQIWVlZEAQB77//frfnRVHEww8/jMzMTBgMBsybNw+FhYUhGRtDTYDeeustrFixAr/73e+wb98+TJkyBRdffDFqa2vDPTTF2LJlC26//Xbs2LEDGzduhM1mw4IFC2A2m8M9NMXavXs3XnrpJUyePDncQ1GkpqYmzJkzB1qtFh9//DG+++47/PGPf0RiYmK4h6YoTz75JP7617/iz3/+M44cOYInn3wSTz31FJ5//vlwDy2imc1mTJkyBS+88EKvzz/11FN47rnn8OKLL2Lnzp2Ijo7GxRdfjM7OzuAPTqSAzJw5U7z99ts9HzscDjErK0tcvXp1GEelbLW1tSIAccuWLeEeiiK1traKo0aNEjdu3Cief/754l133RXuISnOb37zG/Gcc84J9zAU77LLLhN/9KMfdXvsmmuuEZcsWRKmESkPAPG9997zfOx0OsWMjAzx6aef9jzW3Nws6nQ68c033wz6eFipCYDVasXevXsxb948z2MqlQrz5s3D9u3bwzgyZWtpaQEAJCUlhXkkynT77bfjsssu6/Z9TfL64IMPMGPGDFx33XVIS0vDGWecgZdffjncw1Kcs88+G5s2bcLx48cBAN988w2++uorLFy4MMwjU66SkhJUV1d3+/kRHx+PWbNmheR9cUgdaCm3+vp6OBwOpKend3s8PT0dR48eDdOolM3pdGL58uWYM2cOJk6cGO7hKM66deuwb98+7N69O9xDUbTi4mL89a9/xYoVK/DAAw9g9+7duPPOOxEVFYVbbrkl3MNTjPvuuw8mkwljx46FWq2Gw+HAY489hiVLloR7aIpVXV0NAL2+L0rPBRNDDUWU22+/HYcPH8ZXX30V7qEoTnl5Oe666y5s3LgRer0+3MNRNKfTiRkzZuDxxx8HAJxxxhk4fPgwXnzxRYYaGb399tv417/+hbVr12LChAk4cOAAli9fjqysLN5nheL0UwBSUlKgVqtRU1PT7fGamhpkZGSEaVTKdccdd+B///sfNm/ejOHDh4d7OIqzd+9e1NbWYtq0adBoNNBoNNiyZQuee+45aDQaOByOcA9RMTIzMzF+/Phuj40bNw5lZWVhGpEy3XPPPbjvvvtw4403YtKkSfjhD3+Iu+++G6tXrw730BRLeu8L1/siQ00AoqKiMH36dGzatMnzmNPpxKZNmzB79uwwjkxZRFHEHXfcgffeew+ff/458vPzwz0kRbroootw6NAhHDhwwPNrxowZWLJkCQ4cOAC1Wh3uISrGnDlzemxLcPz4ceTm5oZpRMrU3t4Olar725xarYbT6QzTiJQvPz8fGRkZ3d4XTSYTdu7cGZL3RU4/BWjFihW45ZZbMGPGDMycORPPPPMMzGYzli1bFu6hKcbtt9+OtWvXYv369YiNjfXMy8bHx8NgMIR5dMoRGxvbo08pOjoaycnJ7F+S2d13342zzz4bjz/+OK6//nrs2rULf/vb3/C3v/0t3ENTlEWLFuGxxx5DTk4OJkyYgP3792PNmjX40Y9+FO6hRbS2tjYUFRV5Pi4pKcGBAweQlJSEnJwcLF++HI8++ihGjRqF/Px8PPTQQ8jKysJVV10V/MEFfX3VEPD888+LOTk5YlRUlDhz5kxxx44d4R6SogDo9derr74a7qEpHpd0B89///tfceLEiaJOpxPHjh0r/u1vfwv3kBTHZDKJd911l5iTkyPq9XpxxIgR4m9/+1vRYrGEe2gRbfPmzb3+TL7llltEUXQt637ooYfE9PR0UafTiRdddJF47NixkIxNEEVurUhERESRjz01REREpAgMNURERKQIDDVERESkCAw1REREpAgMNURERKQIDDVERESkCAw1REREpAgMNURERKQIDDVEFPEuuOACLF++PNzDIKIwY6ghIiIiReAxCUQU0W699Va8/vrr3R4rKSlBXl5eeAZERGHDUENEEa2lpQULFy7ExIkT8cgjjwAAUlNToVarwzwyIgo1TbgHQEQUiPj4eERFRcFoNCIjIyPcwyGiMGJPDRERESkCQw0REREpAkMNEUW8qKgoOByOcA+DiMKMoYaIIl5eXh527tyJ0tJS1NfXw+l0hntIRBQGDDVEFPF+/etfQ61WY/z48UhNTUVZWVm4h0REYcAl3URERKQIrNQQERGRIjDUEBERkSIw1BAREZEiMNQQERGRIjDUEBERkSIw1BAREZEiMNQQERGRIjDUEBERkSIw1BAREZEiMNQQERGRIjDUEBERkSIw1BAREZEi/H+xAUUNMZWN6gAAAABJRU5ErkJggg==\n"
                },
                "metadata": {}
              }
            ]
          }
        },
        "702946c0932e4e9e9e6f2d9e60f9e440": {
          "model_module": "@jupyter-widgets/base",
          "model_name": "LayoutModel",
          "model_module_version": "1.2.0",
          "state": {
            "_model_module": "@jupyter-widgets/base",
            "_model_module_version": "1.2.0",
            "_model_name": "LayoutModel",
            "_view_count": null,
            "_view_module": "@jupyter-widgets/base",
            "_view_module_version": "1.2.0",
            "_view_name": "LayoutView",
            "align_content": null,
            "align_items": null,
            "align_self": null,
            "border": null,
            "bottom": null,
            "display": null,
            "flex": null,
            "flex_flow": null,
            "grid_area": null,
            "grid_auto_columns": null,
            "grid_auto_flow": null,
            "grid_auto_rows": null,
            "grid_column": null,
            "grid_gap": null,
            "grid_row": null,
            "grid_template_areas": null,
            "grid_template_columns": null,
            "grid_template_rows": null,
            "height": null,
            "justify_content": null,
            "justify_items": null,
            "left": null,
            "margin": null,
            "max_height": null,
            "max_width": null,
            "min_height": null,
            "min_width": null,
            "object_fit": null,
            "object_position": null,
            "order": null,
            "overflow": null,
            "overflow_x": null,
            "overflow_y": null,
            "padding": null,
            "right": null,
            "top": null,
            "visibility": null,
            "width": null
          }
        }
      }
    }
  },
  "cells": [
    {
      "cell_type": "markdown",
      "metadata": {
        "id": "view-in-github",
        "colab_type": "text"
      },
      "source": [
        "<a href=\"https://colab.research.google.com/github/TomokiArima/Simulation2024_Homework/blob/main/%E3%82%B7%E3%83%9F%E3%83%A5%E5%B7%A5_%E8%AA%B2%E9%A1%8C.ipynb\" target=\"_parent\"><img src=\"https://colab.research.google.com/assets/colab-badge.svg\" alt=\"Open In Colab\"/></a>"
      ]
    },
    {
      "cell_type": "code",
      "execution_count": 30,
      "metadata": {
        "id": "-ur3G2vHqpHK",
        "colab": {
          "base_uri": "https://localhost:8080/",
          "height": 1000,
          "referenced_widgets": [
            "ec6e9adb94314599bfa74173a13cdcfb",
            "5e771c57b59f493ba5a6c9b698a79ab4",
            "ad6f3beb41d34a369e6e8e3cf8e41d39",
            "4d7d39e4653e4013805b005abe9ad523",
            "1446c6c249c347cb8b36602e00302791",
            "9e04a57b79f74cc691e0fd5e1dbbd4ae",
            "8679cd19cb044b6a95404c6be8220f3a",
            "a88499a2c92743d5a298e10239ef31f7",
            "4f7fa87d6fde42939f42256b180f730c",
            "d249d75d15d84e6a9d95a3e8f04cb16b",
            "40e2bdae7b7d49ddb29c22930c5d4db4",
            "212cc36bb53a43c9bb786f6b3f957a62",
            "fab64c1fbd9b440e95a6a9bd5dd72212",
            "ba3bae3ffad14e39b3e70da75b31b9c1",
            "909a60f6049f4ffa99abfc38d74dcd3a",
            "054d7906ef0e4cad9c27c87935b39859",
            "3a8896146aa24d808e4cf48c8a153a4e",
            "702946c0932e4e9e9e6f2d9e60f9e440"
          ]
        },
        "outputId": "6dd0d15b-96cc-48ad-cbe0-425fb29accae"
      },
      "outputs": [
        {
          "output_type": "display_data",
          "data": {
            "text/plain": [
              "FloatSlider(value=5.0, description='ω₀a:', max=10.0, min=0.1)"
            ],
            "application/vnd.jupyter.widget-view+json": {
              "version_major": 2,
              "version_minor": 0,
              "model_id": "ec6e9adb94314599bfa74173a13cdcfb"
            }
          },
          "metadata": {}
        },
        {
          "output_type": "display_data",
          "data": {
            "text/plain": [
              "FloatSlider(value=0.1, description='ka:', max=1.0, min=0.01, step=0.01)"
            ],
            "application/vnd.jupyter.widget-view+json": {
              "version_major": 2,
              "version_minor": 0,
              "model_id": "4d7d39e4653e4013805b005abe9ad523"
            }
          },
          "metadata": {}
        },
        {
          "output_type": "display_data",
          "data": {
            "text/plain": [
              "Output()"
            ],
            "application/vnd.jupyter.widget-view+json": {
              "version_major": 2,
              "version_minor": 0,
              "model_id": "8679cd19cb044b6a95404c6be8220f3a"
            }
          },
          "metadata": {}
        },
        {
          "output_type": "display_data",
          "data": {
            "text/plain": [
              "FloatSlider(value=5.0, description='ω₀b:', max=10.0, min=0.1)"
            ],
            "application/vnd.jupyter.widget-view+json": {
              "version_major": 2,
              "version_minor": 0,
              "model_id": "4f7fa87d6fde42939f42256b180f730c"
            }
          },
          "metadata": {}
        },
        {
          "output_type": "display_data",
          "data": {
            "text/plain": [
              "FloatSlider(value=0.1, description='kb:', max=1.0, min=0.01, step=0.01)"
            ],
            "application/vnd.jupyter.widget-view+json": {
              "version_major": 2,
              "version_minor": 0,
              "model_id": "212cc36bb53a43c9bb786f6b3f957a62"
            }
          },
          "metadata": {}
        },
        {
          "output_type": "display_data",
          "data": {
            "text/plain": [
              "Output()"
            ],
            "application/vnd.jupyter.widget-view+json": {
              "version_major": 2,
              "version_minor": 0,
              "model_id": "909a60f6049f4ffa99abfc38d74dcd3a"
            }
          },
          "metadata": {}
        },
        {
          "output_type": "display_data",
          "data": {
            "text/plain": [
              "Output()"
            ],
            "application/vnd.jupyter.widget-view+json": {
              "version_major": 2,
              "version_minor": 0,
              "model_id": "3a8896146aa24d808e4cf48c8a153a4e"
            }
          },
          "metadata": {}
        }
      ],
      "source": [
        "import matplotlib.pyplot as plt\n",
        "import numpy as np\n",
        "import math\n",
        "import ipywidgets as widgets\n",
        "from IPython.display import display,clear_output\n",
        "\n",
        "#減衰の式\n",
        "def DampedOscillation (w0,k,x0,wd, t):\n",
        "  x = [] #結果を格納するリストを初期化\n",
        "  for ti in t: #tの各要素に対してループ、tiはi番目の配列の中身\n",
        "    xi = x0 * (math.exp(-k * ti)) *(math.cos(wd * ti) + ((k/wd) * math.sin(wd * ti)))\n",
        "    x.append(xi) # 結果をリストに追加\n",
        "  return np.array(x) #リストをNumPy配列に変換して返す\n",
        "\n",
        "\n",
        "#条件\n",
        "t = np.arange(0, 10, 0.01)  #時間範囲\n",
        "x0=7  #初期変位x0\n",
        "Va = None\n",
        "Vb = None\n",
        "\n",
        "#スライダーの設定\n",
        "w0a_slider = widgets.FloatSlider(value=5, min=0.1, max=10, step=0.1, description='ω₀a:')  #w0：固有角振動数　(value=初期値、min,max=スライダー範囲、step=刻み幅、description=スライダータイトル)\n",
        "ka_slider = widgets.FloatSlider(value=0.1, min=0.01, max=1, step=0.01, description='ka:') #k：減衰係数\n",
        "w0b_slider = widgets.FloatSlider(value=5, min=0.1, max=10, step=0.1, description='ω₀b:')  #w0：固有角振動数　(value=初期値、min,max=スライダー範囲、step=刻み幅、description=スライダータイトル)\n",
        "kb_slider = widgets.FloatSlider(value=0.1, min=0.01, max=1, step=0.01, description='kb:')\n",
        "\n",
        "#グラフを出力する所を作成\n",
        "output_a = widgets.Output()\n",
        "output_b = widgets.Output()\n",
        "output_c = widgets.Output()\n",
        "\n",
        "#関数：スライダーの値が変更されたときの更新処理(a)\n",
        "def update_plot_a(change):\n",
        "  global Va  #Vをグローバル変数として扱う\n",
        "  with output_a:  #グラフを出力する所のoutputを開く\n",
        "    clear_output(True)   #以前の出力を削除する\n",
        "    #スライダーの値をw0,kに代入する\n",
        "    w0a = w0a_slider.value  #\".value\"でスライダーの値を取得する\n",
        "    ka = ka_slider.value\n",
        "\n",
        "    try:\n",
        "      wda = math.sqrt((w0a**2) - (ka**2))  #wd：角振動数(減衰有)\n",
        "      Va = DampedOscillation(w0a,ka,x0,wda,t) #V：変位　減衰の式(DampedOscillation)に各値を代入して計算\n",
        "\n",
        "      plt.plot(t, Va)\n",
        "      plt.xlabel('t')\n",
        "      plt.ylabel('Va')\n",
        "      plt.title(f'w0a = {w0a:.2f}, ka = {ka:.2f}, x₀a = {x0:.2f}')\n",
        "      plt.grid(True) # グリッド表示\n",
        "      plt.show()\n",
        "\n",
        "      update_plot_sum() #update_plot_sumを呼び出す(値が変わったのでグラフを更新する)\n",
        "\n",
        "    except ValueError:\n",
        "            print(\"Error: wd=√(ω₀a² - ka²)が負になった可能性\")\n",
        "\n",
        "#関数：スライダーの値が変更されたときの更新処理(b)\n",
        "def update_plot_b(change):\n",
        "  global Vb  #Vをグローバル変数として扱う\n",
        "  with output_b:  #グラフを出力する所のoutputを開く\n",
        "    clear_output(True)   #以前の出力を削除する\n",
        "    #スライダーの値をw0,kに代入する\n",
        "    w0b = w0b_slider.value  #\".value\"でスライダーの値を取得する\n",
        "    kb = kb_slider.value\n",
        "\n",
        "    try:\n",
        "      wdb = math.sqrt((w0b**2) - (kb**2))  #wd：角振動数(減衰有)\n",
        "      Vb = DampedOscillation(w0b,kb,x0,wdb,t) #V：変位　減衰の式(DampedOscillation)に各値を代入して計算\n",
        "\n",
        "      plt.plot(t, Vb)\n",
        "      plt.xlabel('t')\n",
        "      plt.ylabel('Vb')\n",
        "      plt.title(f'w0b = {w0b:.2f}, kb = {kb:.2f}, x₀b = {x0:.2f}')\n",
        "      plt.grid(True) # グリッド表示\n",
        "      plt.show()\n",
        "\n",
        "      update_plot_sum() #update_plot_sumを呼び出す(値が変わったのでグラフを更新する)\n",
        "\n",
        "    except ValueError:\n",
        "            print(\"Error: wd=√(ω₀b² - kb²)が負になった可能性\")\n",
        "\n",
        "#二つのグラフを足し合わせる関数\n",
        "def update_plot_sum():\n",
        "  with output_c:  #グラフを出力する所のoutputを開く\n",
        "    clear_output(True)   #以前の出力を削除する\n",
        "\n",
        "    Vsum = Va + Vb\n",
        "\n",
        "    plt.plot(t, Vsum)\n",
        "    plt.xlabel('t')\n",
        "    plt.ylabel('Vsum')\n",
        "    plt.title(f'Vsum = Va + Vb')\n",
        "    plt.grid(True)\n",
        "    plt.show()\n",
        "\n",
        "#スライダーの値の変化を検知する\n",
        "w0a_slider.observe(update_plot_a,names='value')  #names='value'でスライダーの値を検知する指定。　検知された際に呼び出す関数はupdate_plot_aもしくは_b\n",
        "ka_slider.observe(update_plot_a, names='value')\n",
        "w0b_slider.observe(update_plot_b, names='value')\n",
        "kb_slider.observe(update_plot_b, names='value')\n",
        "\n",
        "display(w0a_slider, ka_slider, output_a) #スライダーと出力エリアをNotebook上に表示\n",
        "display(w0b_slider, kb_slider, output_b)\n",
        "display(output_c,)\n",
        "\n",
        "\n",
        "update_plot_a(None)\n",
        "update_plot_b(None)\n",
        "update_plot_sum()\n",
        "\n"
      ]
    }
  ]
}