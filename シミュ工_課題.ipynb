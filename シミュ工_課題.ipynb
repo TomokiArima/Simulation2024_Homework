{
  "nbformat": 4,
  "nbformat_minor": 0,
  "metadata": {
    "colab": {
      "provenance": [],
      "authorship_tag": "ABX9TyO2sYIZCxEIDICw2C2P85pw",
      "include_colab_link": true
    },
    "kernelspec": {
      "name": "python3",
      "display_name": "Python 3"
    },
    "language_info": {
      "name": "python"
    },
    "widgets": {
      "application/vnd.jupyter.widget-state+json": {
        "b92061f634594e708d5b79351c063c8c": {
          "model_module": "@jupyter-widgets/controls",
          "model_name": "FloatSliderModel",
          "model_module_version": "1.5.0",
          "state": {
            "_dom_classes": [],
            "_model_module": "@jupyter-widgets/controls",
            "_model_module_version": "1.5.0",
            "_model_name": "FloatSliderModel",
            "_view_count": null,
            "_view_module": "@jupyter-widgets/controls",
            "_view_module_version": "1.5.0",
            "_view_name": "FloatSliderView",
            "continuous_update": true,
            "description": "Value:",
            "description_tooltip": null,
            "disabled": false,
            "layout": "IPY_MODEL_544ff0a1f53a4228aadcc3d23fbcbbcd",
            "max": 100,
            "min": 1,
            "orientation": "horizontal",
            "readout": true,
            "readout_format": ".1f",
            "step": 0.1,
            "style": "IPY_MODEL_31e974ef6f704ba983f0093253660bbb",
            "value": 32.8
          }
        },
        "544ff0a1f53a4228aadcc3d23fbcbbcd": {
          "model_module": "@jupyter-widgets/base",
          "model_name": "LayoutModel",
          "model_module_version": "1.2.0",
          "state": {
            "_model_module": "@jupyter-widgets/base",
            "_model_module_version": "1.2.0",
            "_model_name": "LayoutModel",
            "_view_count": null,
            "_view_module": "@jupyter-widgets/base",
            "_view_module_version": "1.2.0",
            "_view_name": "LayoutView",
            "align_content": null,
            "align_items": null,
            "align_self": null,
            "border": null,
            "bottom": null,
            "display": null,
            "flex": null,
            "flex_flow": null,
            "grid_area": null,
            "grid_auto_columns": null,
            "grid_auto_flow": null,
            "grid_auto_rows": null,
            "grid_column": null,
            "grid_gap": null,
            "grid_row": null,
            "grid_template_areas": null,
            "grid_template_columns": null,
            "grid_template_rows": null,
            "height": null,
            "justify_content": null,
            "justify_items": null,
            "left": null,
            "margin": null,
            "max_height": null,
            "max_width": null,
            "min_height": null,
            "min_width": null,
            "object_fit": null,
            "object_position": null,
            "order": null,
            "overflow": null,
            "overflow_x": null,
            "overflow_y": null,
            "padding": null,
            "right": null,
            "top": null,
            "visibility": null,
            "width": null
          }
        },
        "31e974ef6f704ba983f0093253660bbb": {
          "model_module": "@jupyter-widgets/controls",
          "model_name": "SliderStyleModel",
          "model_module_version": "1.5.0",
          "state": {
            "_model_module": "@jupyter-widgets/controls",
            "_model_module_version": "1.5.0",
            "_model_name": "SliderStyleModel",
            "_view_count": null,
            "_view_module": "@jupyter-widgets/base",
            "_view_module_version": "1.2.0",
            "_view_name": "StyleView",
            "description_width": "",
            "handle_color": null
          }
        },
        "10dd202a2fc14611a7eb04c9aeab10cb": {
          "model_module": "@jupyter-widgets/output",
          "model_name": "OutputModel",
          "model_module_version": "1.0.0",
          "state": {
            "_dom_classes": [],
            "_model_module": "@jupyter-widgets/output",
            "_model_module_version": "1.0.0",
            "_model_name": "OutputModel",
            "_view_count": null,
            "_view_module": "@jupyter-widgets/output",
            "_view_module_version": "1.0.0",
            "_view_name": "OutputView",
            "layout": "IPY_MODEL_de581bd9194045ebbd81cce4a09f2cfc",
            "msg_id": "",
            "outputs": [
              {
                "output_type": "stream",
                "name": "stdout",
                "text": [
                  "現在の値: 32.8\n"
                ]
              }
            ]
          }
        },
        "de581bd9194045ebbd81cce4a09f2cfc": {
          "model_module": "@jupyter-widgets/base",
          "model_name": "LayoutModel",
          "model_module_version": "1.2.0",
          "state": {
            "_model_module": "@jupyter-widgets/base",
            "_model_module_version": "1.2.0",
            "_model_name": "LayoutModel",
            "_view_count": null,
            "_view_module": "@jupyter-widgets/base",
            "_view_module_version": "1.2.0",
            "_view_name": "LayoutView",
            "align_content": null,
            "align_items": null,
            "align_self": null,
            "border": null,
            "bottom": null,
            "display": null,
            "flex": null,
            "flex_flow": null,
            "grid_area": null,
            "grid_auto_columns": null,
            "grid_auto_flow": null,
            "grid_auto_rows": null,
            "grid_column": null,
            "grid_gap": null,
            "grid_row": null,
            "grid_template_areas": null,
            "grid_template_columns": null,
            "grid_template_rows": null,
            "height": null,
            "justify_content": null,
            "justify_items": null,
            "left": null,
            "margin": null,
            "max_height": null,
            "max_width": null,
            "min_height": null,
            "min_width": null,
            "object_fit": null,
            "object_position": null,
            "order": null,
            "overflow": null,
            "overflow_x": null,
            "overflow_y": null,
            "padding": null,
            "right": null,
            "top": null,
            "visibility": null,
            "width": null
          }
        }
      }
    }
  },
  "cells": [
    {
      "cell_type": "markdown",
      "metadata": {
        "id": "view-in-github",
        "colab_type": "text"
      },
      "source": [
        "<a href=\"https://colab.research.google.com/github/TomokiArima/Simulation2024_Homework/blob/main/%E3%82%B7%E3%83%9F%E3%83%A5%E5%B7%A5_%E8%AA%B2%E9%A1%8C.ipynb\" target=\"_parent\"><img src=\"https://colab.research.google.com/assets/colab-badge.svg\" alt=\"Open In Colab\"/></a>"
      ]
    },
    {
      "cell_type": "code",
      "execution_count": null,
      "metadata": {
        "id": "-ur3G2vHqpHK",
        "colab": {
          "base_uri": "https://localhost:8080/",
          "height": 466
        },
        "outputId": "8c3c9938-76b0-43db-d3e2-914ec5512d78"
      },
      "outputs": [
        {
          "output_type": "stream",
          "name": "stdout",
          "text": [
            "4.998999899979995\n"
          ]
        },
        {
          "output_type": "display_data",
          "data": {
            "text/plain": [
              "<Figure size 640x480 with 1 Axes>"
            ],
            "image/png": "[encoded data removed]"
          },
          "metadata": {}
        }
      ],
      "source": [
        "# matplotlib.pyplotとNumPyのインポート\n",
        "import matplotlib.pyplot as plt\n",
        "import numpy as np\n",
        "import math\n",
        "import ipywidgets as widgets    #ウィジェット用のライブラリ\n",
        "from IPython.display import display\n",
        "\n",
        "\n",
        "#減衰の式\n",
        "def DampedOscillation (w0,k,x0,wd, t): # t を引数に追加\n",
        "  x = [] # 結果を格納するリストを初期化\n",
        "  for ti in t: # t の各要素に対してループ、tiはi番目の配列の中身\n",
        "    xi = x0 * (math.exp(-k * ti)) *(cos(wd * ti) + ((k/wd) * sin(wd * ti)))\n",
        "    x.append(xi) # 結果をリストに追加\n",
        "  return np.array(x) # リストをNumPy配列に変換して返す\n",
        "\n",
        "\n",
        "#条件\n",
        "t = np.arange(0, 100, 1)  #時間範囲\n",
        "w0=5  #固有角振動数(無減衰)w0\n",
        "k=0.1   #抵抗係数k\n",
        "x0=7  #初期変位x0\n",
        "wd=math.sqrt((w0**2) - (k**2))    #固有角振動数(有減衰)wd\n",
        "\n",
        "print(wd)\n",
        "V=DampedOscillation(w0,k,x0,wd,t) #変位Vを計算\n",
        "\n",
        "#プロット\n",
        "plt.plot(t,V)\n",
        "plt.xlabel('t')\n",
        "plt.ylabel('V')\n",
        "plt.show()\n",
        "\n",
        "\n"
      ]
    },
    {
      "cell_type": "code",
      "source": [
        "#スライダーのサンプルプログラム\n",
        "import ipywidgets as widgets\n",
        "from IPython.display import display\n",
        "\n",
        "# スライダーの作成\n",
        "slider = widgets.FloatSlider(\n",
        "    value=1,\n",
        "    min=1,\n",
        "    max=100,\n",
        "    step=0.1,\n",
        "    description='Value:',\n",
        "    disabled=False,\n",
        "    continuous_update=True,\n",
        "    orientation='horizontal',\n",
        "    readout=True,\n",
        "    readout_format='.1f'\n",
        ")\n",
        "\n",
        "# 現在の値を表示する出力ウィジェット\n",
        "output = widgets.Output()\n",
        "\n",
        "# スライダーの値が変更されたときの処理\n",
        "def on_value_change(change):\n",
        "    with output:\n",
        "        output.clear_output()  # 以前の出力クリア\n",
        "        print(f\"現在の値: {change['new']}\")\n",
        "\n",
        "# スライダーの値が変更されたときにon_value_change関数を実行\n",
        "slider.observe(on_value_change, names='value')\n",
        "\n",
        "# スライダーと出力ウィジェットを表示\n",
        "display(slider, output)"
      ],
      "metadata": {
        "colab": {
          "base_uri": "https://localhost:8080/",
          "height": 66,
          "referenced_widgets": [
            "b92061f634594e708d5b79351c063c8c",
            "544ff0a1f53a4228aadcc3d23fbcbbcd",
            "31e974ef6f704ba983f0093253660bbb",
            "10dd202a2fc14611a7eb04c9aeab10cb",
            "de581bd9194045ebbd81cce4a09f2cfc"
          ]
        },
        "id": "le5An_MzFvc_",
        "outputId": "847b9967-5701-447b-ce3c-2682b5c741cd"
      },
      "execution_count": null,
      "outputs": [
        {
          "output_type": "display_data",
          "data": {
            "text/plain": [
              "FloatSlider(value=1.0, description='Value:', min=1.0, readout_format='.1f')"
            ],
            "application/vnd.jupyter.widget-view+json": {
              "version_major": 2,
              "version_minor": 0,
              "model_id": "b92061f634594e708d5b79351c063c8c"
            }
          },
          "metadata": {}
        },
        {
          "output_type": "display_data",
          "data": {
            "text/plain": [
              "Output()"
            ],
            "application/vnd.jupyter.widget-view+json": {
              "version_major": 2,
              "version_minor": 0,
              "model_id": "10dd202a2fc14611a7eb04c9aeab10cb"
            }
          },
          "metadata": {}
        }
      ]
    }
  ]
}