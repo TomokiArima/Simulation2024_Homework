{
  "nbformat": 4,
  "nbformat_minor": 0,
  "metadata": {
    "colab": {
      "provenance": [],
      "authorship_tag": "ABX9TyNlLXR9ywJFO+zWwmg+cV9I",
      "include_colab_link": true
    },
    "kernelspec": {
      "name": "python3",
      "display_name": "Python 3"
    },
    "language_info": {
      "name": "python"
    },
    "widgets": {
      "application/vnd.jupyter.widget-state+json": {
        "45325bf18a04406fb08c335daabd7a41": {
          "model_module": "@jupyter-widgets/controls",
          "model_name": "FloatSliderModel",
          "model_module_version": "1.5.0",
          "state": {
            "_dom_classes": [],
            "_model_module": "@jupyter-widgets/controls",
            "_model_module_version": "1.5.0",
            "_model_name": "FloatSliderModel",
            "_view_count": null,
            "_view_module": "@jupyter-widgets/controls",
            "_view_module_version": "1.5.0",
            "_view_name": "FloatSliderView",
            "continuous_update": true,
            "description": "ω₀a:",
            "description_tooltip": null,
            "disabled": false,
            "layout": "IPY_MODEL_95c815c08638450e9ec25fa9e56fcb44",
            "max": 10,
            "min": 0.1,
            "orientation": "horizontal",
            "readout": true,
            "readout_format": ".2f",
            "step": 0.1,
            "style": "IPY_MODEL_7e8aacd5ccdd4a33b416b6d5fc942123",
            "value": 5
          }
        },
        "95c815c08638450e9ec25fa9e56fcb44": {
          "model_module": "@jupyter-widgets/base",
          "model_name": "LayoutModel",
          "model_module_version": "1.2.0",
          "state": {
            "_model_module": "@jupyter-widgets/base",
            "_model_module_version": "1.2.0",
            "_model_name": "LayoutModel",
            "_view_count": null,
            "_view_module": "@jupyter-widgets/base",
            "_view_module_version": "1.2.0",
            "_view_name": "LayoutView",
            "align_content": null,
            "align_items": null,
            "align_self": null,
            "border": null,
            "bottom": null,
            "display": null,
            "flex": null,
            "flex_flow": null,
            "grid_area": null,
            "grid_auto_columns": null,
            "grid_auto_flow": null,
            "grid_auto_rows": null,
            "grid_column": null,
            "grid_gap": null,
            "grid_row": null,
            "grid_template_areas": null,
            "grid_template_columns": null,
            "grid_template_rows": null,
            "height": null,
            "justify_content": null,
            "justify_items": null,
            "left": null,
            "margin": null,
            "max_height": null,
            "max_width": null,
            "min_height": null,
            "min_width": null,
            "object_fit": null,
            "object_position": null,
            "order": null,
            "overflow": null,
            "overflow_x": null,
            "overflow_y": null,
            "padding": null,
            "right": null,
            "top": null,
            "visibility": null,
            "width": null
          }
        },
        "7e8aacd5ccdd4a33b416b6d5fc942123": {
          "model_module": "@jupyter-widgets/controls",
          "model_name": "SliderStyleModel",
          "model_module_version": "1.5.0",
          "state": {
            "_model_module": "@jupyter-widgets/controls",
            "_model_module_version": "1.5.0",
            "_model_name": "SliderStyleModel",
            "_view_count": null,
            "_view_module": "@jupyter-widgets/base",
            "_view_module_version": "1.2.0",
            "_view_name": "StyleView",
            "description_width": "",
            "handle_color": null
          }
        },
        "9afc2354f9d44c9a92b999e01a093a51": {
          "model_module": "@jupyter-widgets/controls",
          "model_name": "FloatSliderModel",
          "model_module_version": "1.5.0",
          "state": {
            "_dom_classes": [],
            "_model_module": "@jupyter-widgets/controls",
            "_model_module_version": "1.5.0",
            "_model_name": "FloatSliderModel",
            "_view_count": null,
            "_view_module": "@jupyter-widgets/controls",
            "_view_module_version": "1.5.0",
            "_view_name": "FloatSliderView",
            "continuous_update": true,
            "description": "ka:",
            "description_tooltip": null,
            "disabled": false,
            "layout": "IPY_MODEL_75cdee28b5a548bbb86978be18cd7594",
            "max": 1,
            "min": 0.01,
            "orientation": "horizontal",
            "readout": true,
            "readout_format": ".2f",
            "step": 0.01,
            "style": "IPY_MODEL_517d120af5544638a5b9c69236d76cfc",
            "value": 0.1
          }
        },
        "75cdee28b5a548bbb86978be18cd7594": {
          "model_module": "@jupyter-widgets/base",
          "model_name": "LayoutModel",
          "model_module_version": "1.2.0",
          "state": {
            "_model_module": "@jupyter-widgets/base",
            "_model_module_version": "1.2.0",
            "_model_name": "LayoutModel",
            "_view_count": null,
            "_view_module": "@jupyter-widgets/base",
            "_view_module_version": "1.2.0",
            "_view_name": "LayoutView",
            "align_content": null,
            "align_items": null,
            "align_self": null,
            "border": null,
            "bottom": null,
            "display": null,
            "flex": null,
            "flex_flow": null,
            "grid_area": null,
            "grid_auto_columns": null,
            "grid_auto_flow": null,
            "grid_auto_rows": null,
            "grid_column": null,
            "grid_gap": null,
            "grid_row": null,
            "grid_template_areas": null,
            "grid_template_columns": null,
            "grid_template_rows": null,
            "height": null,
            "justify_content": null,
            "justify_items": null,
            "left": null,
            "margin": null,
            "max_height": null,
            "max_width": null,
            "min_height": null,
            "min_width": null,
            "object_fit": null,
            "object_position": null,
            "order": null,
            "overflow": null,
            "overflow_x": null,
            "overflow_y": null,
            "padding": null,
            "right": null,
            "top": null,
            "visibility": null,
            "width": null
          }
        },
        "517d120af5544638a5b9c69236d76cfc": {
          "model_module": "@jupyter-widgets/controls",
          "model_name": "SliderStyleModel",
          "model_module_version": "1.5.0",
          "state": {
            "_model_module": "@jupyter-widgets/controls",
            "_model_module_version": "1.5.0",
            "_model_name": "SliderStyleModel",
            "_view_count": null,
            "_view_module": "@jupyter-widgets/base",
            "_view_module_version": "1.2.0",
            "_view_name": "StyleView",
            "description_width": "",
            "handle_color": null
          }
        },
        "5bf5d786d7ac4ce799e01c364d805116": {
          "model_module": "@jupyter-widgets/output",
          "model_name": "OutputModel",
          "model_module_version": "1.0.0",
          "state": {
            "_dom_classes": [],
            "_model_module": "@jupyter-widgets/output",
            "_model_module_version": "1.0.0",
            "_model_name": "OutputModel",
            "_view_count": null,
            "_view_module": "@jupyter-widgets/output",
            "_view_module_version": "1.0.0",
            "_view_name": "OutputView",
            "layout": "IPY_MODEL_fe3f276663324cc9830c5c93b37d5830",
            "msg_id": "",
            "outputs": [
              {
                "output_type": "display_data",
                "data": {
                  "text/plain": "<Figure size 640x480 with 1 Axes>",
                  "image/png": "iVBORw0KGgoAAAANSUhEUgAAAjUAAAHHCAYAAABHp6kXAAAAOXRFWHRTb2Z0d2FyZQBNYXRwbG90bGliIHZlcnNpb24zLjguMCwgaHR0cHM6Ly9tYXRwbG90bGliLm9yZy81sbWrAAAACXBIWXMAAA9hAAAPYQGoP6dpAACdjklEQVR4nO29eZgcZbn+f1fvM9Pds6+ZmewhKwQIRAghIBAgoAcXcEEOID/0aDgKQT2gIvJFiRwQEUQEj6JHRfGAKErEDIshSIAsJGTfJ5l9n+menpneqn5/VL3VPcksvdTyVuf5XBfXRbqrq9+qrum6+342QZIkCQRBEARBEBbHZvYCCIIgCIIgtIBEDUEQBEEQOQGJGoIgCIIgcgISNQRBEARB5AQkagiCIAiCyAlI1BAEQRAEkROQqCEIgiAIIicgUUMQBEEQRE5AooYgCIIgiJyARA1BEBnz3e9+F4IgoLu72+ylEARBkKghco+9e/fiiiuugNfrRUlJCW644QZ0dXWZvaxxuemmmyAIwkn/zZ07N+V9vPTSSzjrrLPg8XhQX1+Pe++9F7FY7KTt+vv78YUvfAHl5eUoKCjAxRdfjG3btml5ONwTDofxX//1X6ipqUFeXh6WLl2KhoaGlF67f/9+3HHHHTj//PPh8XggCAIaGxvH3T7Vz+VUZKxrnv132WWXpbQPuu6JE3GYvQCC0JLm5mZceOGFKCwsxAMPPIDBwUE8/PDD2LlzJ9577z24XC6zlzgmbrcb//M//zPqscLCwpRe+/e//x3XXHMNLrroIjz++OPYuXMnvve976GzsxNPPvmkup0oirjqqquwY8cOfP3rX0dZWRl++tOf4qKLLsLWrVsxe/ZsTY+JV2666SY8//zzuP322zF79mz86le/wqpVq/DGG2/gggsumPC1mzZtwmOPPYb58+dj3rx52L59+7jbpvq5nKr85je/OemxLVu24Mc//jFWrlw56evpuifGRCKIHOJLX/qSlJeXJx07dkx9rKGhQQIgPfXUUyaubHxuvPFGqaCgIOPXz58/XzrjjDOkaDSqPvatb31LEgRB2rt3r/rYc889JwGQ/u///k99rLOzUyoqKpI+85nPZPTe9957rwRA6urqynj9RvLuu+9KAKSHHnpIfWx4eFiaOXOmdN555036+p6eHikQCEiSJEkPPfSQBEA6evTomNum+rkQCW655RZJEASpqalp0m3NvO4JfqHwE8EdH3zwAQRBwEsvvaQ+tnXrVgiCgLPOOmvUtldeeSWWLl2q/vuFF17A1Vdfjfr6evWxSy+9FHPmzMEf//hH9bHe3l587Wtfw6JFi+D1euH3+3HllVdix44dOh7ZxMTjcQQCgbRes2fPHuzZswdf+MIX4HAkjNcvf/nLkCQJzz//vPrY888/j8rKSnz84x9XHysvL8d1112Hv/zlLwiHw9kfBIBjx45h1qxZWLhwITo6OgAAzzzzDD784Q+joqICbrcb8+fPN8WteP7552G32/GFL3xBfczj8eCWW27Bpk2b0NTUNOHrS0pK4PP5Jn2fdD6XVHnmmWcgCAJ++ctfjnr8gQcegCAIWLdu3aT74PG6Z4TDYbzwwgtYsWIFamtrJ9yWx+ue4AMKPxHcsXDhQhQVFeHNN9/ERz/6UQDAxo0bYbPZsGPHDgQCAfj9foiiiLffflu9QbW0tKCzsxNLliw5aZ/nnnvuqC/9I0eO4M9//jOuvfZaTJ8+HR0dHXjqqaewYsUK7NmzBzU1NROucWBgANFodNJj8Xg88Hq9k243NDQEv9+PoaEhFBcX4zOf+QwefPDBSV/7/vvvA8BJx1xTU4Pa2lr1ebbtWWedBZtt9G+Zc889F08//TQOHDiARYsWTbrWiTh8+DA+/OEPo6SkBA0NDSgrKwMAPPnkk1iwYAE++tGPwuFw4K9//Su+/OUvQxRFrF69esJ9hsNhBIPBlN6fvd94vP/++5gzZw78fv+ox88991wAwPbt21FXV5fSe032PkBqn0uq3HzzzfjTn/6ENWvW4LLLLkNdXR127tyJ++67D7fccgtWrVo16T54u+6TWbduHfr7+3H99ddPui1v1z3BDyRqCO6w2WxYtmwZNm7cqD62ceNGXHPNNfjLX/6Ct99+G1dccYUqcJYvXw4AaGtrAwBUV1eftM/q6mr09vYiHA7D7XZj0aJFOHDgwKgvuhtuuAFz587FL37xC9xzzz0TrvHf/u3fsGHDhkmP5cYbb8SvfvWrCbeprq7GN77xDZx11lkQRRGvvPIKfvrTn2LHjh345z//OeqX6IlMdsytra2jtr3wwgvH3A4AWltbs/py37dvHy655BJMmTIF//jHP1BcXKw+t2HDBuTl5an/vu2223DFFVfgkUcemVTU/P73v8fNN9+c0hokSZrw+ba2tnHPFYBR5ysb0vlc0uHnP/85FixYgFtuuQV/+9vfcOONN6KqqgqPPPJISq/n6bo/kd/97ndwu9345Cc/Oem2PF33BF+QqCG4ZPny5fj2t7+NUCiEgoICvPXWW3jggQdw7NgxbNy4EVdccQU2btwIQRDU5M7h4WEActLtiXg8HnUbt9s9apt4PI7+/n54vV6cdtppKVVF/PCHP0RfX9+k2032yxcA1q5dO+rfn/70pzFnzhx861vfwvPPP49Pf/rT4752smNODmexYx9ru+R9ZcKuXbvwqU99CrNmzcLf//73k5yQZEHDfu2vWLEC//jHPzAwMDBhUvTll1+ecnXSZOh5Dk58HyC1zyUdqqqq8MQTT+Azn/kMli9fju3bt6OhoWHU+R4ZGcFtt92G/fv3IxaLYc2aNbj22mtPWo/Z130ygUAAL7/8MlatWoWioqJJt+fluif4g0QNwSXLly9HLBbDpk2bUFdXh87OTixfvhy7d+9WHZyNGzdi/vz5KCkpAZC4cY4VIx8ZGRm1jSiK+PGPf4yf/vSnOHr0KOLxuLptaWnppOs7++yzszvASbjjjjtwzz334NVXX51Q1Ex2zMliIi8vL6Vzkwkf+chHUFlZiX/84x9jhh3+9a9/4d5778WmTZswNDQ06rnJRE11dfWYv8gzQc9zcOL7AKl9Luny6U9/Gr/97W/x8ssv4wtf+AIuueSSUc8/+uijyMvLw8aNG9Hf34+zzz4by5YtQ01NDbfX/QsvvICRkZGUQk8AP9c9wR8kagguWbJkCTweD958803U19ejoqICc+bMwfLly/HTn/4U4XAYGzduxMc+9jH1NezGx6zpZNra2lBSUqL+YnvggQdwzz334POf/zzuv/9+lJSUwGaz4fbbb4coipOur7e3F5FIZNLt8vLyUi7NPvF1paWl6O3tnXC75GM+MRekra1NzRVh2453boD0f10n84lPfAK//vWv8bvf/Q5f/OIXRz13+PBhXHLJJZg7dy4eeeQR1NXVweVyYd26dfjRj3406fkeHh7GwMBASuuoqqqa8Pnq6mq0tLSc9LgW5+DE92H7nexzSZeenh5s2bIFgJwwK4riqHDSyy+/rIajioqKcOmll+LVV1/Fv//7v3N73f/ud79DYWEhrr766pS25+W6J/iDRA3BJS6XC+eeey42btyI+vp6NW9m+fLlCIfD+N3vfoeOjo5RsfIpU6agvLxc/cJP5r333sPixYvVfz///PO4+OKL8Ytf/GLUdv39/ZMmmwLAxz/+cd1yCwAgGAyiu7sb5eXlE27HjmnLli2jvshbW1vR3Nw8qspn8eLF2Lhx40k3wXfffRf5+fmYM2dO2utkPPTQQ3A4HPjyl78Mn8+Hz372s+pzf/3rXxEOh/HSSy+Nqkp74403Utr3c889p1lOzeLFi/HGG2+oyeaMd999V31eC9L5XNJl9erVCAaDWLt2Le6++248+uijWLNmjfp8Z2fnqGu4rKwMnZ2dAPi87tva2vDGG2/gpptuGjNMNBa8XPcEf5CoIbhl+fLleOSRR3D48GHceeedAOQv6Hnz5uHBBx9Ut0mGOQZNTU3qL7jXXnsNBw4cwB133KFuZ7fbT7oB/t///R9aWlowa9asSdemVW7ByMgIotHoSWXC999/PyRJwhVXXKE+Fo1GcfjwYRQWFqq/VBcsWIC5c+fi6aefxhe/+EXY7XYAcrWRIAijki4/+clP4vnnn8ef/vQn9fHu7m783//9Hz7ykY+kfEMZC0EQ8PTTTyMYDOLGG2+E1+tVK9fYmpLP98DAAJ555pmU9q1lTs0nP/lJPPzww3j66afxta99DYAcwnjmmWewdOnSUb/6jx8/jqGhobQ6OzPS+VzS4fnnn8dzzz2Hxx57DP/5n/+JHTt24Nvf/jauvvpq9eZcUVGBrq4uTJ8+HQDQ1dWF0047DQA/130yf/jDHyCK4rihJ56ve4JDTOuQQxCT8Morr0gAJADS1q1b1ce/+MUvSgCkadOmnfSa48ePS6WlpdLMmTOlxx57THrggQek4uJiadGiRdLIyIi63Xe+8x0JgHTTTTdJTz/9tPSf//mfUklJiTRjxgxpxYoVRhyeJEmSdPToUamoqEj60pe+JP34xz+WfvzjH0urVq2SAEhXXHGFFI/HR20LQLrxxhtH7eOvf/2rJAiC9OEPf1h6+umnpa985SuSzWaTbr311lHbxWIx6UMf+pDk9Xql++67T3riiSekBQsWSD6fT9q3b9+obW+88cYJG8sxTmy+F4lEpFWrVklut1t67bXXJEmSpH379kkul0tatGiR9JOf/ET6wQ9+IM2cOVM644wzUnoPrbn22mslh8Mhff3rX5eeeuop6fzzz5ccDoe0YcOGUdutWLFCOvErsr+/X7r//vul+++/X7riiiskANKdd94p3X///dLjjz8+attUP5fxPtcT6ejokMrKyqSLL75YEkVRkiRJ6u7uliorK6XzzjtPvVYeeOAB6ctf/rIkSZLU29srTZs2TWpubpYkiZ/rPpmzzz5bqqmpGXWtJ2PkdU9YHxI1BLcEAgHJbrdLPp9PisVi6uO//e1vJQDSDTfcMObrdu3aJa1cuVLKz8+XioqKpOuvv15qb28ftc3IyIh05513StXV1VJeXp60bNkyadOmTdKKFSsM/XLv6+uTPve5z0mzZs2S8vPzJbfbLS1YsEB64IEHpEgkMmrbiW5+L774orR48WLJ7XZLtbW10re//e2TXi9J8k3ulltukUpLS6X8/HxpxYoV0ubNm0/a7hOf+ISUl5cn9fX1Tbj+sToKDw0NSStWrJC8Xq/0zjvvSJIkSS+99JJ0+umnSx6PR5o2bZr04IMPSr/85S9NETXDw8PS1772Namqqkpyu93SOeecI73yyisnbTeWqGGfwVj/TZ069aR9pPK57Ny5UwIg3XXXXROu++Mf/7jk8/mkxsbGUY//5S9/kQBIDz74oCRJ8vm/+eabpWXLlklLly6V/vCHP6jb8nLdM/bt2ycBkNasWTPuNkZe94T1ESRpkiA0QRCnHJWVlfj3f/93PPTQQ2YvJef56U9/im984xs4fPgwKisrzV4OQVgaGpNAEMQodu/ejeHhYfzXf/2X2Us5JXjjjTfwla98hQQNQWgAOTUEQRAEQeQE5NQQBEEQBJETkKghCIIgCCInIFFDEARBEEROQKKGIAiCIIic4JTqKCyKIlpbW+Hz+SAIgtnLIQiCIAgiBSRJQjAYRE1NzahxFydySoma1tbWk4afEQRBEARhDZqamlBbWzvu86eUqGHzdZqamkYNs8uWaDSK9evXY+XKlXA6nZrtlzgZOtfGQOfZGOg8GwOdZ+PQ61wHAgHU1dWdNCfvRE4pUcNCTn6/X3NRk5+fD7/fT38wOkPn2hjoPBsDnWdjoPNsHHqf68lSRyhRmCAIgiCInIBEDUEQBEEQOQGJGoIgCIIgcgISNQRBEARB5AQkagiCIAiCyAlI1BAEQRAEkROQqCEIgiAIIicgUUMQBEEQRE5AooYgCIIgiJyARA1BEARBEDkBiRqCIAiCIHICEjUEQRAEQeQEJGo0oLlvGO1DZq+CIAiCIE5tSNRowI9fO4Qf7LDjkYaDZi+FIAiCIE5ZSNRkiShKGImJkCDgyTePYuuxXrOXRBAEQRCnJCRqssRmE/D4p8/AueUiAOA3m46ZvCKCIAiCODUhUaMR51fKoua1fZ2IxkWTV0MQBEEQpx4kajRiqhcoznciOBLDB80DZi+HIAiCIE45SNRohE0AFtcVAgB2NPWbuxiCIAiCOAUhUaMhp09RRE1zv7kLIQiCIIhTEBI1GnIGOTUEQRAEYRokajSEOTWNPUMYGI6avBqCIAiCOLUgUaMhhXlOVPk9AIAjXYMmr4YgCIIgTi1I1GjMjPICAMCRrpDJKyEIgiCIUwsSNRrDRM1hcmoIgiAIwlBI1GjMjDIvAHJqCIIgCMJoSNRojBp+6ianhiAIgiCMhESNxswsl52axu4hiKJk8moIgiAI4tSBRI3GVBd6YLcJiMRFdA+GzV4OQRAEQZwykKjRGIfdppZ1N/cPm7wagiAIgjh1IFGjA1OK8gAALX0kagiCIAjCKEjU6EBNkezUtJBTQxAEQRCGQaJGB6YUk1NDEARBEEbjMHsBuciUonwAuePUjETj+J+NRxCJibjlghkozHeavSSCIAiCOAlLOTUtLS343Oc+h9LSUuTl5WHRokXYsmWL2cs6iVxzau7+0048vP4AHnv9EL742y2QJCpVJwiCIPjDMqKmr68Py5Ytg9PpxN///nfs2bMHP/zhD1FcXGz20k5iipJT0zZgfVFzoCOIF99vUf/9zpFevHWo28QVEQRBEMTYWCb89OCDD6Kurg7PPPOM+tj06dNNXNH4lPtkURMYiWEkGofHaTd5RZnzwtZmAMBl8ytRXejB/246hj9ta8Hy2eUmr4wgCIIgRmMZp+all17CkiVLcO2116KiogJnnnkmfv7zn5u9rDHxexzwOOVT2xmwdgO+DQe6AAAfPaMGVy6sBgBsPNhF3ZIJgiAI7rCMU3PkyBE8+eSTWLNmDb75zW9i8+bN+MpXvgKXy4Ubb7xxzNeEw2GEwwlREQgEAADRaBTRaFSztbF9Je+zwufG8d5htPQNotpvzcTa3lAE+9qDAIBz6v3weZwocNnRPRjBB029WFDjN3xNY51rQnvoPBsDnWdjoPNsHHqd61T3J0gWyfp0uVxYsmQJ3n77bfWxr3zlK9i8eTM2bdo05mu++93v4r777jvp8WeffRb5+fm6rRUAHttlx+GggJtmx3FmmSVO8Uls7xHwzAE7qvIk3L04DgD4+T4bdvXZ8NH6OC6ZYs3jIgiCIKzF0NAQPvvZz2JgYAB+//g/qC3j1FRXV2P+/PmjHps3bx5eeOGFcV9z9913Y82aNeq/A4EA6urqsHLlyglPSrpEo1E0NDTgsssug9MpuzLrgx/g8K521Myaj1XnT9XsvYzk/XX7ABzHpafXY9WqeQCAJu9R7Go4iJi/BqtWnWH4msY614T20Hk2BjrPxkDn2Tj0Otcs0jIZlhE1y5Ytw/79+0c9duDAAUydOr5gcLvdcLvdJz3udDp1ubCT91uljEroCUUt+0e0vyMEAFhcX6Iew+l1crXZ3vZBU49Lr8+QGA2dZ2Og82wMdJ6NQ+tzneq+LJMofMcdd+Cdd97BAw88gEOHDuHZZ5/F008/jdWrV5u9tDGp8MliqiMwYvJKMkOSJOxrl5Xx3Cqf+jjLoznaHcJgOGbK2giCIAhiLCwjas455xy8+OKL+P3vf4+FCxfi/vvvx6OPPorrr7/e7KWNSaUyqbvDotVPncEw+oaisAnArAqv+nip143qQvnY9ralZgcSBEEQhBFYJvwEAFdffTWuvvpqs5eREuWKU9M9aE1RwwTLjHLvSX125lf70TYwgr1tAZwzrcSM5REEQRDESVjGqbEapV4XALks2ooc6JBLuU9LCj0xZirOzdHukKFrIgiCIIiJIFGjEyUFiqgZiiBuwUZ1R7uHAAAzywpOem668hiJGoIgCIInSNToREm+LGokCegbsp5bc7xXFiz1pSeLmmmlJGoIgiAI/iBRoxMOuw3F+XIJmhVDUI2KUzOt9OQmhTPKZVHT3DeMSEw0dF0EQRAEMR4kanSEhaCsliwcjsXVCeNTx3BqKnxu5LvsiIsSmvqGjF4eQRAEQYwJiRodKfXKFVA9g9Zyapr7hiFKQL7LjjIl4TkZQRDUEFQjhaAIgiAITiBRoyNlFq2AOt4juy9TSwsgCMKY29QWyx2Tm/uGDVuXnrQNDOOH6/fjj1uaYJFxaARBEMQJWKpPjdVg4acei4WfmpWQUp0iXMZiivJcS7/1RU1gJIprf7ZJFWit/cO4/dI5Jq+KIAiCSBdyanSktEBpwGcxp6ZtQB7tUFM0gahRnmvJAafmmbcaRzlOP33jMDqD1hxvQRAEcSpDokZH1AZ8FsupaVdETZUyDmEs1PCTxZ0aSZLwxy1NAIAff3oxzqwvQiQu4k/bWkxeGUEQBJEuJGp0hDk1PSFrhZ9alcqn6glFjVzqbXWnZl97EC39w/A4bVg5vwofP3MKAOD1vZ0mr4wgCIJIFxI1OsKcGqtVP6lOjX98UcPCT92DYYxE44asSw8a9nQAAC6YVY48lx0Xz60AAGw51ot+CzZNJAiCOJUhUaMjpSxR2EI5NZIkqTk11YXj59QU5TuR75IHXbZaOAT11qFuAMAl82QxU1ucjzmVXohS4jmCIAjCGpCo0RHWp2ZgOGqZzrv9Q1GElbVWFrrH3U4QBDU81R6wZlJtLC5iZ/MAAODsqcXq4x+aUQoA2H6834xlEQRBEBlCokZHivKcsCltXqwy/4nl05R5XXA77BNuW6mEpzoD1soZYhzsHMRwNA6v24GZ5V718dNriwAAO5r7zVkYQRAEkREkanTEZhNQrAy2tIqoSaXyiVHhk52cDos6NTua+gEAi6YUwm5LNBk8o7YQALCrJYBY3BoOG0EQBEGiRncKlaGWfaGoyStJjTY1SXj8fBqG6tQErenUfNAih55Orysc9fiMci/yXXYMR+M41DVoxtIIgiCIDCBRozPMqRkYtoZTwwZZ1hSl4NQoosaqTs2hDlmwzKvyj3rcbhMwv1p+bH970PB1EQRBEJlBokZnivIUp2bIYk5NGuEnK+bUSJKEA52yYJlV4T3p+dmV8mOHOsmpIQiCsAokanSmSHFq+i0iapjrUumbXNQkwk/Wc2p6QhH0D0UhCBiVJMyYVeEDABzsIFFDEARhFUjU6EyRklNjlUZu3UF5neW+8cu5GZV+ligcttxka+bA1BXnI891cpUXc28op4YgCMI6kKjRmWJV1FjDqelWJoqXeScXNRWKmzMcjWMwHNN1XVpzUBE1s8cIPSU/3tgdQpQqoAiCICwBiRqdKbRQSXcsLqJXWWeZzzXp9nkuO3weBwDZrbESjd0hAMCM8oIxn68u9KDAZUdMlHCsJ2Tk0nTjlV3tWPPH7fjbB61mL4UgCEIXSNTojOrUDPPv1PQORSBJgCAAJfmTixogOVnYWnk1x3qGAAD1pWOLGkEQMFV57njvkGHr0otXdrXhP367FX/a1oLbnn0ff9lOU8gJgsg9SNToTFEeSxTm36lh+TQl+S447KldGlbtVdOkCJX6kvxxt2HPMQFkVURRwvde3gsgkSv1/Zf3Ihyz7iBSgiCIsSBRozNFFsqpSSefhlFpwV41kiSp7suEoqZUfs7qTs2mIz1o7huG3+PAa3euQKXfjc5gWJ1QThAEkSuQqNGZZFHDe4VQT0gRNSnk0zASoxKs49R0D0YwHI3DJgBTisbvnFynCJ4mi4ua57c2AwA+ckYN/B4nPnZmLQBg/W4SNQRB5BYkanSGdRSOxEUMR/m2+1n4KR2nptQrH19vyDqi5nivnPhbXZgHl2P8PwHm4ljZqRFFCa/v6wQAXHPmFADAygWVAIA39nVaZno8QRBEKpCo0Zl8lx1OuzwskfeuwpmEn0oL5G17QvznDDGYSKkrmXi+1dQkUcO7yzYee9sDGBiOosBlx+K6IgDA4toilPvcCIZj2HKs19wFEgRBaAiJGp0RBCGpqzDfN/4uRdQw9yUV2LY9g3wfWzKt/XL+T23x+Pk0AFBTlAdBAEaionpurMamwz0AgHOml8CpJH/bbAKWTi8BAGw71mfa2giCILSGRI0BsPlPvCcLdw9mEH5SnRrr3PTZ0M7qSeZbuRw2lCvnon3AOonQybx7VHZiPjSjdNTjZ9UXAwC2He83ekkEQRC6QaLGAIotMv+pWynLLs8opyZimRBNexpDO6uVRGLm7liNXS0DABIihnH2VCZq+iCK1vjcCIIgJoNEjQEU5rNJ3XyHaDLJqSkpkEVNNC4hMGKNUQlsEnlN4cQ5NQBQrZSstyvujpXoDUXUY51X7Rv13PwaP9wOG/qHojhm4URogiCIZEjUGADrKjzAcVdhUZTUZN90Sro9Tju8bnlUQo9F8k7Sc2rkbdos1IeHsbtVdmmmlebD53GOes5pt+G0Klno7GsLGL42giAIPSBRYwCFSk5NgGNRMzAcRVwJQ7A8mVRJDkHxzkg0roq3yXJqkrdps2D4aXerLFYWTCkc8/nTKmVRs7c9aNiaCIIg9IREjQH4Pfw7NWyQpc/tmLB3y1iwEFS3BSqgWOdjj9Omis2JqFZCVFZMFGYOzPxq/5jPz1Ue399OTg1BELmBw+wFnAr4mVMzwq+oYeXmRQWT3+hPxEoVUCzHpLowD4IgTLo9c2paLZhTc1SZRD6rwjvm8/OU8NP+HHFqonERv367Ecd6hvCZc+sxv2ZsMUcQRO5CosYA/HnyaQ4M85tI2xeSBVdxitO5kylj4ScLODWplnMzWPVTR2AEoijBZptcCPGAJEk4ooiaGWVjTyJnOTXHeocwHIkjz2U3bH16cNcLO/HCNnkkxAvbmvHn1cswp9I3yasIgsglKPxkAIUWcGpYZVZRBqKGhZ+s0FW4LY0kYUCebSUIcnVXtwWcKEZPKILgSAyCkBjMeSKlXjeK8p2QJKCxJ2TwCrVlc2MvXtjWDJsATC3Nx1Akjvv/tsfsZREEYTCWFTU/+MEPIAgCbr/9drOXMiksp4bnRGHWQ6ckP4Pwk1IC3m2B6qd2NfyUmqhx2m3q0E4r5dUc6ZJFSm1xHtyO8R2Y6YqLw0JVVuV/Nx0DAFy3pA6/+fxSCAKw8WC35Y+LIIj0sKSo2bx5M5566imcfvrpZi8lJRI5NfyGn3qzcGpKC6xT/ZRwaibvUcNg21qpAd/R7kEAwPSysfNpGLkgagIjUazf3Q4A+OzSetSX5uOiOeUAgN+/d9zMpREEYTCWEzWDg4O4/vrr8fOf/xzFxcWTv4ADkqufeO26yxKFM8mpsdL8p06l+qnSl3rZek2h9RrwTZZPw2DPM2fHiry6pwPhmIhZFV4sUsrXr1tSpz5HEMSpg+UShVevXo2rrroKl156Kb73ve9NuG04HEY4nAiJBAJy6Wo0GkU0ql0oiO1rvH3mOWQhExclDIRGUODm77Szxnl+jy3tc+N3y9q4ezCs6Xkdi8nO9WR0KqMgSvIdKe+jTKkI6xgY1v34tOJIp+zUTC3xTLjm+mJZsB3tHhy1Xbbn2Uje3N8JALh0bjliMdkNXTqtEA6bgCPdIRzuGEB9ycTDS83CSufZytB5Ng69znWq++Pv7joBf/jDH7Bt2zZs3rw5pe3Xrl2L++6776TH169fj/x87b/kGhoaxnxckgC7YEdcEvCXdetRlF5vO0M40mwHIKBx/26s69mV1mv7wwDgQN9QGC+/vA4pVEpnzXjneiIkCegMyMe5c/O/0PJBaq/rbRUA2LFt72Gsix5M+33NYGejfJydhyf+PJtDAODA/tY+rFu37qTnMznPRiJJwBt75WO1dR/CunWJz2dqgR2HgwKe/PMGLK/i0yFl8H6ecwU6z8ah9bkeGkptnItlRE1TUxO++tWvoqGhAR5Pakmed999N9asWaP+OxAIoK6uDitXroTfr10Pi2g0ioaGBlx22WVwOsdOtP1/O99AbyiKJecv57LM9CeH/wUEQrh42blYNrN08hckMRyJ495tr0GUBFx4yUr4PPpdVqmc6/HoH4oi/s4bAIBrr74cbmdqJcyhrc14uWkPPEUVWLXqrLTXbDSiKOFr770KQMJ1V16E2uLx84eCIzE89MHrCMUErLhkpeoiZnOejeRodwgD7/wLTruAL31yJTxJn+nR/CN49LVDGC6YglWr+My/s8p5tjp0no1Dr3PNIi2TYRlRs3XrVnR2duKssxI3lXg8jjfffBM/+clPEA6HYbePvkm53W643SfbIk6nU5cLe6L9Fua50BuKYigGLv+o+pUeOmW+vLTX53Q64XbYEI6JCEUllPj0P75MPsOBsJxP4/c44M1PTRgDQHWRnHfSHYpw+dmdSEdgBNG4BLtNQF2pFw77+KlzJU4nCvOcGBiOojMUwxzvaAGk19+KVmxvkRsHnllXDN8Jn+k500sBHMKOlgGujwHg/zznCnSejUPrc53qviyTKHzJJZdg586d2L59u/rfkiVLcP3112P79u0nCRre8CvuxcAQfzFdSZISicIF6ScKA4kEY54nkbN8mvI0koSTt+8K8l+yDgAt/XJCc5XfM6GgYTAnp7nPetO6d7XIQztPrz15vtXptYUQBKC5b9gynx1BENlhGafG5/Nh4cKFox4rKChAaWnpSY/zCM+jEkKROKJxOeegOIM+NQBQlO9Ee2AEfRyKNga7sZV5MxM1PaEI4qLsgPBMS58saqYUpVa2Xluch92tATT3Wae6i7FTETWLxhA1Po8Tsyu8ONAxiO1N/bhsfqXRyyMIwmAs49RYHT/Hk7r7lP4ybocNeSnmmZwIc2r6OXZq2MDNdJ2akgIXBEGuXuPZiWIwp6amKLUQ25QiOWneaqImFhexR5lEvmicSeSL64oAAB809xu0Kv052BHEIaW6jSCI0VjGqRmLf/7zn2YvIWXUrsIcNuDrS+pRk8qQx7EoUhyefgs4NemKGqfdhpJ8F3pCEXQFw2k7PUbTqoiaKRMkCCfDwk8tFhM1h7oGEY6J8LodmFY6dj+euVVyQcC+HBjaKUkS7nphJ57b0gQAuOn8abj3I/Mz/psliFyEnBqDSAy15O+mz0JGRRmGnuTX8p9Tk2n4CUgIoU4L5GYwcVKTRvgJsF5OzYEO2a2YU+kdd9Do3OrcmUT+3OYmVdAAwK/ebsRLO1pNXBFB8AeJGoNI7irMG9l0E2YUW8CpYbOp0nVqkl9jhYRTFn5KNadmiipqLObUKCGYWRXjj4JgTs3x3iEMhvlzSVMlLkp44p+HAADfXDUXt186GwDw+OuHuO1SThBmQKLGIHhOFGY5NSUZVj4B1sipyTT8lPwaK4maifrTJFNbLOfU9IQiGIpY58Z/OAVRU1LgUj+7Ax3WdWsa9nSgqXcYRflO3PChafj8BdNR4LLjUOcgNh7sNnt5BMENJGoMolBNFObvptGrQfipUHkt19VPzKnJIvzEu6gJjEQRVPK2Ug0/FeY51YaJLB/HCqTi1ADA3Co5BHXAwiGol3a0AAA+dU4d8lx2+D1OfPLsWgDAn99vMXNpBMEVJGoMgvWp4dGp0Sb8xLdTExcldYp4Jk5NhU+uJGLCiFeYKCnOdyLflXodAAtVNVkkBBWLi+pk8VnlE3foZkM7j/ZYc2hnOBbHhv1dAIBVC6vVx686vQYA8Pr+TsTioilrIwjeIFFjEFyHnzRwaoo5d2r6huQeM0BmYTY1UViZ8s0r6SYJM6rVSeR8Hx+jqW8YkbgIt8M2aZXXdCZqLDqJ/J0jvQhF4qjwuUeVrp9VX4TifCf6h6LYcqzPxBUSBD+QqDEItaSbw/ATc1eyyakp4typYS5NUb4TzhS67J5ImXJuekJ8Hh+jXRFd1YXpiZoqi4kaFnqaUe6dtBniNEXUNFrUqfnXITln5uLTKkZVeTnsNlx0WgUA4C3KqyEIACRqDEMt6R6JQhT5qlbo07D6KTAS49IK71Ea75VkeIwlXvl1vZyLmo6AHB6r9KcXYqv0e5TXW0vUTJZPAwAzyuRtGnuGuPvbS4XNjb0AgHOnl5z03FLlsfeUbQjiVIdEjUEwp0aSgEHOKkz6QhokCuclXstj2Xpflm4Ue11yGItHWHiMiZRUqVK2b7eIqGlU8mlYvsxETCnOg9MuIBIT0TpgjZwhxnAkjp3N8iiIsUTNOcpj25v6EY7FDV0bQfAIiRqD8DjtcDvk081bAz62nmRhki4Ou02toOExr4Y5LNkO7JQkfkNsQMJpSdupsVj4qUlpFFhfkj/ptnaboG7HkoutwvamfsRECVV+z5gl+jPKClDmdSESE1XxY3WCI1E07OnAQQuX4BPmQaLGQPwclnXHRQlBpSlZNqIGSNz4B4b5u+kzUVOaoahx2m3q+eE5BMXCTxUZOjVWCT8xUVOXgqgBgOksBGUxUcNmVp1ZXzTmOARBEHBmfTEAYEcOiJqj3SGs/NGbuPV/t+CyH72JpzYcNntJhMUgUWMgPJZ1J7tG/qxFjVIBFeLn+BjZOjVAQhDxnCzcGVScGl9moqZvKIqRKN9hjFhcRGu/fJypODUAML1M3u6IxUTNbmVg58JxBnYCiWGeu1usLWokScIdz21H28CI6vqu/fs+7GjqN3dhhKUgUWMgTDTwlHPC1pLvsmdUFZRMIcfzn7J1aoBEXg2vTk00LqqTyNMNPxXlO+FSwqOdAb578bQNjCAuSnA5bKhIseeQVZ2aXa2yUFlQ4x93m4VT/KO2tSqv7GrH9qZ+5LvseHXNCvzbYrkPz/de3mPyyggrQaLGQLxu+dfHIEeTuplrlG3oCeB7/pMWFV6lXr6dGtbt2GET0j5OQRAskyzc1CuHnmqL8sYdZHkidSXWm28VCsfUHKAFNeM7NQuV5w51DlpqzMWJ/OKtowCA/++C6aj0e3D3lfPgstuwubEPexTHiiAmg0SNgbAKKJ4G6w1okCTMKLaAU8NKszOhpEB2BXoH+Ts+IJEPU+Fzp3yzT8YyokbJp6lNMfQEJOZbtfQPW2YA5L72ACRJ/jwn6oJd4feg3OeGKAH7LDoK4lhPCFuO9cEmAJ/70FQAcu+ky+ZXAgD+mDSdnCAmgkSNgTCnJshRTg0TNdnm0wCJkvB+jsJrDFXUZOPUqOEnPsMzmSYJM1gFVAfnFVBNvbLbUpfiwE4AqCmSj20oEueyOm8sDnbIvXhOq5p4DASQmG91SHmN1fjL9lYAwAWzy0ddv59cIs+3+tsHrZbsMUQYD4kaA2HJb0GOwk+qqPFo59TwVvIsSYm5T9l0TS7hPFFYTRJOM5+GUaW8jnen5nhv6uXcDLfDrubfNCtOD++wBoMzyydvMMiaEB7stKZT88b+TgDAVYuqRj2+bGYZvG4Hugcj2GnxRGjCGEjUGIhPEQ5BjsJPrLxci/BTEac5NUOROMIxuctxNqKmlPOuwh0ZNt5jVFos/JRqOTeD9XlpsUhezaGu1LsmJ0SN9Zya/qGIWuF04ZzyUc+5HDZcMKsMQEL4EMREkKgxEC/HTo0WoobH6i4gIUJcDhvyXfaM98N79VOnOiIhM1HDbP/uIJ/hNQZL9h2rGd1EsLwaqyQLH05D1MyukMNPBy0YfvrXoR6IEjC7wjvmzLKL58pC580DXUYvjbAgDrMXcCrBwk+DHObUaCJq2NBOjo4PGF3OPVYDs1Rhoqab00ThTkWMTJRUOhFlihPVNcivqInERHQr60t3Ejmb5m2F8NNINK6Kr9REjbxNS/8whiIx5Lus89XOZlstUxyZEzlvhvz4zpYBjETj8Dgz/2HCAyPROH7+5hHsaB7ABbNKccN50yYdykqkDjk1BuJz8+fUBNRE4ey/BJkwGuAs/NSrQTk3AJQq1U99QxEukxbZzb7cm5moYTknPDs1ncERSBLgstvSTvquLbZOWffhrkFIkhzSTaW3UnGBSxWlhzut1Yvn/eN9AOSuyWNRV5KHSr8b0biE7RZvxCdJEr78u234YcMBvLq3A9/96x58+8+7zF5WTkGixkB8HJZ0a9mnhu0jGI5xddPvY05NFuXcAFBcIB9fXJS4c6OAhKgpy1DUlHvl8FNgJIYwp12F2WyqysL0y9aTy7p5R51CXu5N2V20YrLwSDSOPW1yD5qzlHEPJyIIApZMkwd3bj5q7Wnkz21uwuv7OuF22HDr8umwCcDv3zuOjQcptKYVJGoMJPdzauTjkyS+jlEdkZClU+N22FW3jbcKKEmS0DOYnXjz5zngUrpK83Z8jDZF1FT70ws9AcCUooRTw3uvmsOKqJldOXnoiWHFZOE9bQFE4xJKC1wT5kidM1UWPNsUV8eKRGIiHmk4AAD42srT8K2r5uPfz5sGAPj+y3u5vyatAokaA0mUdPPzK19LUeN22OFxKpPIOTpGLcq5GSWcVkANDEcRU9yxTEWNIAhJeTV8HR+DOTVVheknQ7Ob5mA4xl0y+4kc7ZHzfqaXFaT8Glb6baVREO8f7wcw/sBOxqJaZb6VhTsLr9vZhs5gGBU+N248fxoA4I5L58DjtGFfexBbjllXsPEEiRoDYb/yB8MxblS5lqImeT883TQ0FTWsVw1nN32WvOzzOOB2ZJ5IWc55Xo3q1GQgajxOuzrKg/ey9UQvntRFzdRSObzW2MN/IjSD5cgsriuacLu5VX4IgpwMz/oxWY0/bD4OQO6YzOasFeY7cc3iKQCA375zzLS15RIkagyE5dSIEhCKmJ+zIElSUqJw7ouabCZ0M0o5LevONkmYwfJxujk7PkZ7QM6HycSpkV8nuzVtnHdNPt4juy1MqKQCE0DHe0Lc/GiajF1KQ70zJhE1BW4HZiiulRXdmq5gGO8p+UAfO3PKqOeuXVIHAHhtbyfCMfPvC1aHRI2BeJw2OJTkRh6GWg6GY2D5vFo5NWpZN0eihs2iymZCN4NVQPE2KiHbJGEGc2q6ctCpARJdk3keBREYiaqjHNJpMFhXkgdBkH8w8ZoTlcxwJI5GRbzNrRp/Cjlj4RQ5BGXF4Zbr97RDlIDTawtP+kzPrCtCpd+NwXAMbx/qMWmFuQOJGgMRBCEpWdj8mz5zU1wOm2a9H3h0ano0ShQGEjk1vN00sk0SZqjhJ87Ca4xETk36icLy6/jvmnxcCR+VeV3qvLhUcDvsqFHOyzELhKAOdcpl66UFrpR6Ky2okYXPLguOS3hjn1zddPmCqpOes9kE9fH1ezoMXVcuQqLGYNRkYQ7KurXOp0neF0+ipk/DnJpiTkdBaOXUqOEnDhvwxeKi2mAwc6dGvum3c+zUNPVmNgYCSMzDOtbDf7Lw/g659HxO5eQDOwFgYY01k4VjcRHvHpEdmOWzx24wePFpFQCAfx3qNmxduQqJGoPxupVeLhyEn9jcJ79Hu+6jvI1KkCQJgREt51vJwqiPs6GdzFnRKvzEo1PTPRhBXJRgtwkZH2dVIf9DO48pomZqBqKG5eBYwanZ3y6Lk1SmkAPAfMWpOd47xIXTnSoftAwgGI6hMM+JBYowO5FzppfAYRNwvHdIFbVEZpCoMZjEqATzRY0eTg0TNbyUdA+GY4griUNs4GY2FKuiho/jYzBnRavwE4+jEtoG5CThSp8747byLGzFs1OTyRRyRr0iao5b4Ma4X5lTlaqoKcpPhKkOd/HvRDE2HZZdmvNmlI573XrdDjVZ+u3D1nVrgiNR05PUSdQYTGJUgvk3xYCu4SfzRRugfd5QIvzEl5OhdfiJt5J1ILseNYwqC0wiZzk1mYSfppXKFUKNVgg/KU5NquEnIDHj6pCFGgyyMRBLpo3dMZlx3oxSAMDmRuv2q/nOX3bj0kffwp4+82ZZkagxGB9HXYVPhZwarY9RDT9xmihc7tPGqQlF4ghzVl2aqHzKLEkYSAii/qEoRjgdBcFclqmlqfeoYTB35zjn4af+oQg6lKnyczLommwVUSNJiXlV4822YrDnrTrfKjASxbqdbTjeO4x8h3luDYkag/FylCjMQkRa9agBEvk53IiaIW1FDXNqAiMxxOKiJvvUAjX8VJCdU1PgsiNPcbSCfHyEKsxdycap8Xsc6vHxGIKKixJaldlUE40NGA/m7vSEIhiKmP8dMx6Hu2RRUlPoUft3pULCqbHGfKvmvmF0D0bgsAnj5tMwWAPCw12D3ITv0+Gl7a0Ix0TMrijA1NR1quaQqDEY9gfMQ/hJT6cmyIuo0aljMgA1AdlshiIxDCnNHMtSKI2dCEEQUKa4PbyJmmx71ADy8VVzXNbdFQwjpiRDV/rTP06/x6GWgbf283d8jCNKTsyM8vTufjMt5tQw12VetX/S8Hep1426kjxIEvBBk/XK1l/a3goA+ORZU5DiDFZdIFFjMOwLJ1cThQvz+Qw/FWl0jA67TQ0h8lIBxUJPbocNBa7s84ZYV+JAxMRvpjFgDfMyudknw17Po1PDJohX+T0ZJUMLgqAO7uR5GvlRZT5VOrOtAGB2hZx/c7x3iNvwYTKpjoFgLK4rVl5nrbya/qEIthyTOyZfvqDS1LWQqDEYP0c5NeqIhDTs38lIzqkxOwuerQPQVrixCihekoW7kpKEJxoKmCosrybAhy5VYcdZkaUbxXMDPlbhVVOUuXCbooStWvr4FTUskTldUVPmdaEwzwlRSggjntmRpqg5QxncyQZ9WoUNB7ogSsBplT5VVJsFiRqDYeGnQQ5yapiw8mnZp0Y5vpgoYZiDX1IDGs+2AhJ5NX0hPu76zKnJNvTEKFWcmsEoX04NG92QSvfZiVBFDYdODcunqcnixpBwavhNFmbhp3RFjSAIal7NQc5DUKIoYW+bXOF1eu3E+TQMliy8o9la4afX93UCAC6eW2HySiwkatauXYtzzjkHPp8PFRUVuOaaa7B//36zl5U2Xo5KuhOiRrsbfr7Lrs634iEE1a+DU8NbAz61nFuDjslAYkbWoPkfn8pQJKb+EMha1HAcfmJ5MFmJGs6dGlGUMnZqkl9zjHOnprlvGKFIHC6HLeXjZNPIuwfDXHb1Hou4KGHDAXkMxIdJ1KTOhg0bsHr1arzzzjtoaGhANBrFypUrEQrxfWGfCE8l3UxYaenUCILAVVm3PuEnvkYl9GjUeI+hihrzL1EV5tLkOe1pzUMaC57DTywPpiaLZGgmiHhNFG4PjGAkKsJhEzKq8GJdkxs5L1vfq/ThmV3hhcOe2q22wO1QO0nva7NGhde+9gD6h6Lwuh04a5KydSPQ7m6mM6+88sqof//qV79CRUUFtm7digsvvNCkVaUPTyXdeoSfAFlA9IQiajm1mbC8IS26CTN4c2p6lTBYSZbl3IwSDsNPnUmhp2zzhphT08GhqEnk1GgRfuLTqWG5MPWl+Snf7JNh/XuO9/L9g5aJklQmkCczt8qPxp4h7GsP4IJxZkXxxBalWeBZU4vhsNsQFc1NO7CMU3MiAwNyzLGkpMTklaSHn5OSblGUMBjRPvwEAD51VIL5wk0Pp4YJpH4OnCggkbBcrJFw4zH8xJyabJOEAaDCnxjaKYrmJ7Mno0X4ibkf7YERrnopMdTKpwyaCwLJXZP5dmr2d8hOzdwUx0Aw5lXLImivRZyazY1y1dOSqRN3TDYKyzg1yYiiiNtvvx3Lli3DwoULx90uHA4jHE7EJQMB+SKLRqOIRrX7xmb7SmWfbrv8JToSFTE0EoYzg18qWiDP6JD/P88uaXo+/G65rLh3cFjT/QLpnWsgccMvcAqarSVxfGHNjy8TWPjJ77Frsh6/W74mB6Opn2e9aVeSXksLnFmvye+Sjy8al9AVGNJkenumJF/Pw5E4epVO1eUFjoyPs8htg9MuIBqX0Nw7aHo1yokcURrn1ZfkZXSMNX5ZvHcFw+gfHEZBCuHIdL83tGCvMk18Vnl+Wu87u1wOP+1pHeDm7288JElSRc2Ztf5R91a9vvsnw5KiZvXq1di1axfeeuutCbdbu3Yt7rvvvpMeX79+PfLz05+rMhkNDQ2TbiP/cJJP+5//9goKtDVJUqY3LK/DLkh4reEfmu471GcDYMM72z6Ap22HpvtmpHKuAaB7wA5AwI7Nm9CxW5v3buwWANhxuKkN69a1aLPTbNbTJh/j4T0fYF179uc7EAEAB0Ix4B/rG5Dh7EhN2XRcvqaGetqxbt26rPdX4LAjFBPwp7+/ihrtvwrSpqGhAR3DAOCA2ybhrdcbsmpgVuiwozsu4IVX3sCs9KIfurNlv/xZBlqPYN26wxntg31+z760HlPSMHxS/d7IlkgcaOyR/y6bd72LdQdSf233CAA4cKAjgL/+bR1M+t2bEr1hoCPggA0S2na/g3X7Es9pfa6HhlJz5iwnam677Tb87W9/w5tvvona2toJt7377ruxZs0a9d+BQAB1dXVYuXIl/H7t/tKj0SgaGhpw2WWXwemcXKV8c9urGImK+NCFF6Gu2Jxv1P3tQWDbJhTmu7Bq1cWa7vvd+B5s62lG7fTZWPXhWZruO51zLYoSbn9H/sO6+vJLNAldAIDvUDf+9+A22PP8WLXqfE32mQ0P79sIYBiXXXieJol60biIe7a+CgkCzlm2ApVFmYUJtGTji7uBlhYsWTgHqy6akfX+njj8Ng50DmLu4qW4YFapBivMjOTr+b3jAWD7VtSVenHVVcuy2u/v2zej+2gf6ucuxqrFNRqtVht+dnQTgCAuv2AJLj6tPKN9/LLpXexoHkD9/LNTavaW7nd0tuxqCUB67x2UFDjx6WtWpvVaUZTwyJ7XEQrHcdo5y9Ma+Gk0L+1oA7btxMIphfjYRz4EQL9zzSItk2EZUSNJEv7zP/8TL774Iv75z39i+vTpk77G7XbD7T75RuZ0OnW5sFPdr8/jxEg0jOEYDPkDG4thJZfL79H+XBTly+c8GBZ1O75UzrXcAFD+/1JfHpwaTOkGgHKfLET7h2OmfX7JsNyeMn+eJutxOoHCPAcGhmMIRCTUcnCMPUpYpqpIm2Os8HtwoHMQfZx8hk6nE53KXIqa4vys11RbUgAc7UNHMMLF8SXTrCQwTy/3Zby2aWUF2NE8gOaBcFr70Ou7/0SO9cm5UbMqMjvGOZU+vH+8H429YSyo5TdvdE+73CvozPrik45T63Od6r44NrZGs3r1avz2t7/Fs88+C5/Ph/b2drS3t2N4mM8M/4nwuc0v606Uc2v/B86ScgMmJ9Ky9/c4bZPOXUkHlijMQ/VTNC6q1xHrdKwFJcq+ejmZRt6pJgpnNyKBwVw7loDMA6xaaUoW3YQZvFZADQxF1et1Sgbl3AxWAXWsh88KqCPKwM6Z5Zm5nDOVmVhs8Cev7GqRC3YWTkmtuaARWEbUPPnkkxgYGMBFF12E6upq9b/nnnvO7KWlDSuhNnP+k17l3AC46VOjR+UTkBA14ZiI4Yi55YusV44gaHucrOcNL6JGq27CDLafTo5EjdpNuDD7xF4mGJo5a8DX1CfnRZR5Xch3Zf7dM431qunmswLqsFLhNaMss3HVVhA1oihhj5IMzZOosVT4KVdQJ3WHzbvpB3QUNX61pDs3RY3X7YDDJiAmSugfjiDPZV51CavuKsxzZjQAcTyKOXJq4qKkdlfVWtTw5NSoU8g1qFZiwoi3rslNvbIIqc0ylzDRq4ZPUZOYQp6pUyO/jmdRc7x3CMFwDC6HDbMqMhNvemAZpyaX4GFStxHhJ7OdGuZiaC1qBEFINOAzef4TEx0lGoaeAKhlzr0czLfqDUUgSrIbVapR+XXCqeHnps+aAVZlOYUcAKoK5ePjrWsyc2rqSrIVNfLrWweGuZvWLYoSjnbLYmRGeYZOjSISDneGuOulxNjVKoee5lX5TGtNMhb8rOQUgrkjZjano/BTdiRGJZjrZPQNad8xGQBKlF4DvRzkDTE3pbTAlVEH2rHg0alR84b82btRVYpTExyJIcRB93JGU68cDqvLIp8GkK8Fr9sBSQKa+/hya9qUMRBOu5DxcdaX5MNhEzAcjaONM2HK2NUih54WcBR6AkjUmIKXg/lPp4JTkxA12jdXSyQLm+1GsW7C2h4jc0TYBHAzYW5KuUZJwkAi4ZiXnJpwNK5er1q0HvC6HWpBAk9ujVZOjSAk5kY1cZY3xJKE60syGwMBAE67TXWjDnM6jXy34tQsrCFRc8rDhMSgiTk1TFD59cipUY5vJCoiEjOvTbueTg0v85+Yk1KscVdcNfzEkVOjVT5N8r6CIzEuwhddinh0OWyaXa+VhfxNI2c5NVr056rldBp5Ip8muzwTlqfCa17Nvna5M/S8ar766JCoMQEfFzk1+oWfvEn7NDNZ+FQIP7G8Ia3mPjESOTUciBqWJOzVTtT4PQ64HPLXHw8hKFW4ebMf2Mmo5kzUSJKkVmPVlWSfDM2SjXmr8GJOTaZJwgyeK6D6hyLqNTubs+aAJGpMgN30B02MdesZfrLbBFW4mdmrZmCYVQZpL9yKVaeGj0RhzZ2afH4ShbuD8jGW+bQ7RkEQ1DAPDyEoLfNpGJVKwjEv4aeuwTDCMRE2AajWoGxddWo468VzWHFqZmZYzs1QRU0nf714DnTIQmtKUZ5a+MILJGpMwMtF8z39nBoguazbvGNUnRqNXQwgEX7qz9GcGpYo3DcUMb36oiekvVMD8JUszNworUZ5APw5NSxJuMrvUV2ybGANBnlLFNbMqeE4/HSgQw49zankp5SbQaLGBHxcODVM1OjTMtzPQVdhJmqKdEgU5iX8pDo1Ggs3JpJEKTGGwSxYsjJrCKgVia7C5t/0te6YDCScmjZORA0TH9n2qGHwGH4aicbRqpzv6WXZiRomijqDYdVZ54WEqOEr9ASQqDEFHwfVTwE1/KSTU6OWrZsvavy6JArzMSohkVOj7Q3f5bAhzy47NL0hc50M1nivpCB3nZqEqNHBqQnwcdNnjlGNBmMggET4qSsY5iLZG0iEwgpcdjUvLVP8HqdahXishy83ioka3vJpABI1puB1s+onc0SNKErqe+sefho2MfykU/M9gJ/wU59O1U8A4FVOm9ll3WyYpVaN9xjlXvnmykI/ZtKlZ07NgPnHByQcoyoN8mkA+YdFvkue6dbKSV5NIhE6X5OEb1bWzZuoOajk1FD4iQCQlChsklMTisTU6dV+vcJPHnNHJcRFSc3n0af6SRE1JoZm4qKkvr/WTg2QJGpMrIASRQl9yvuXaZxTwwREZ8D8m36nkgytZfiJOTXdg2FTWysw2gbkGz5bV7Yk96rhJVk4MQZCG+GmDu7s5SdZuGcwrH4n8DQegUGixgRYonAkLiIcM942ZWEvp12AW4OEvbHw55lb/ZQcg9bHqUnk1JiVSBsYjqriVOuOwgDgdcg7N1PUBEaiiCnnN1s7/0RY4jFPTo2WvXhKClxwKc3feBgHwcJPWokagL+8GrYOrfKGVKeGo8GdrPKpviQ/q6GkekGixgSSS+DMcGuSk4S16olxIsypMaurMHvffJddk0qLE2FCSZSAoElhRNYYz+d26DJ7hTk1vSaGn7qV907uK6MVvDg1cSnxWWoZfhIEAZVsBhQHycLqwE6Nwk8AfxVQiWRorZwaZRp5Dz9ODc+VTwCJGlOw2wQUKLFgM/JqgjonCQPml3Tr2XgPADxOO/Kc8mc4YFJeTb+O+TRAkqgxMVG4R3FRtA49AQlXpHswbGrZejACSBJgE4BSjZOhqzjpVROJiaojVqWpU8NXV+EmzZ0a/qaRH1LGNvCYJAyQqDENM+c/6d2jBkiICbPCT3qLGiApBDVsjpPBJoRrXc7N8DrlG323ieEnFvrSOvQEJARETJRMrWILKH8iZV437DZtnVOWlGu2U9MZHIEkAS67TdOEb97CTy0aOzXTFFHTNjDCTYUXc42yLVnXCxI1JmFmAz61nNut3w3f7JJuPcu5GUUmdxXWa+4Tw6toXjPDT8yp0bpHDSCXrTNBaGZeTSAiCxktQ08MXhrwsfevLHTDpqFwm1LMwk/mi5rhSFwNl2Y7sJNRnO9Uu7Pz4tYc7SZRQ4yB12NeWbcRTo3Zzff6dSznZhTlmduAT69uwgwWfjLTxehWG+9pf8MHkkJQQfOdGi0rnxhqAz6Tw09qPo1fu3waIOGIdARHTK/wYvk0Po9Ds+8dQRAwtYyfsu5wLK6Wz7N8H94gUWMSfrWrsPE3fb27CQPJJd25mVMDJMJPZiVDs7lMelQ+AYnwk5nVT6xjcplObhTL1ek20akZUE5vpY5OTYfJTo1azq1R4z1GaYELHqcNkpR4D7PQuvKJMbVEKevmIFm4qXcYoiQ3F9R6bIlWkKgxCa+Jk7qNSRQ2t6Q7oI5IMCD8ZNLQR+bUlOjl1CiXR18oAkkyJ5GWzX3S26kxs6twICooa9HRqTFd1LDGe9oeoyAIagWU2cnCzKmp0yifhsFTAz4mrKaWFuhWOZstJGpMgokaM5wM5tT4DQg/hWOiKQlup0SisCJqinRyMZSZloiJkmmdobt1mvvE4MGpCSiXj5YjEhjMqekMjpha4aX2qPFrL9yYM9Jkclm31pVPDJYszENZN+/5NACJGtPwmjjUMuHU6HfD97ocYELejGRhPSd0M5gLZFZJN3OI9HJqnDaorQd6Tcqr6VHnPulzjFw4NSxRWAdRU+5zQxCAaFwy7TMEoA551GpEQjJT1K7C5rpRqlNTou0x1nPk1DSqTg2f+TQAiRrT8JkaftI/UdhmE9RjNONXvhGJwsVq9ZO5To1eJd1AorLKrF41PTqNSGCUcdBVWE0U1sHFcNptaum6mRVQ7Uq+i1bDLJNh4Sez5z819err1LT0DyMaNzcZmgmraeTUECdirlOjf6IwkHBJzHRq9CzpLlTDTyY5NSz8pJNTAwAlyjGaMdQyGhdVcar1MEuG2U6NKEpJ1U/6CLcqpatwh0kVUNG4qE4h1zqnBkgIJbNFjdbdhBkVPjc8ThviomR63hALPzGhxSMkakyCCQpT+9To6NQASRVQJtz0B4xIFDYx/CRJktofR6/QDJBwasxwo9h72gT9hFuZkqvTbVIvnr7hKERJUNaik6hRHKAOk8ZBdAXDkCR51lyZxh2TAWBKkeyMmDnUcjAcU/8etRY1NpuA+hLzxyUkl3NPK6PwE3ECieZ7ZpZ0GyRqzBBuBiQKm3nDD4zEEFcSP/Uq6QYSgsmMsm7mDpUUuDTvtMtgTk1vKKyeTyNhDlFxvlOXGWVAIqxl1qgEVmpd6fdo2niPwZyatn7zkqGZS1OU79TFAa9XyrqbTGzAZ4VyboBEjWnkeqIwYF5ZdywuqkMmjWi+NzAcNfzLlJVz57vs8CgzqPSAhZ/M6CrMRI3W85CSKcl3QRDkwaS9Jgg3Jmr0Cj0BSU6NSTk1bTpM506m0u+BTQAicRHdJuV+Nav5NNonQgNQnRozk4WtUM4NkKgxDTVR2GBRI0mS+p56lnTL+zcnpybZGTIip8aMSd3M6tarmzCD7d+MyhnWo0bP8JojaRaRGXk1LNek3AhREzRH1LTrWPkEyMnQ7BjNyjlJ9KjRJyzDqo3MHJWg5tNwHHoCSNSYhurUGByaCUXiYKaC/k4Ny6kx9hhZPk2Byw6nXb9L3O2wI18peTZ6VEJfiCUJ6/sZlqjVT8aLGr171DDM7FXTZYCoqTR5/lNrv75ODQDUqBVQ5hxjokeNvk6NmaJGrXziOEkYIFFjGmqisMG/8FnoyWET4HHq+/Ezp8boMQJqkrDOLgaQPP/J2GNkeTx6uhjy/pXwkyk5NfINX68EWoaZFVCdinCr0PEY2fgFs6qf2gPKiAQDRE1Lvzk3/UTlkz4uRn2SU2NWd2+WpEyihhgTligciYkIx4zruJucJKx3XFTNqTE4/GREOTejUBFORpd194b0L+cGEo39zBE1LKdG32Ms58Kp0e8YWWimbyhqSndvvXNqgEQDPrOcGjb3SevGe4za4jwIAjCUNAncaFRRw3GPGoBEjWkwUQMYG4IyKkkYSCTpGp0onBiRoG/OEJBofGd0+Ik5QyU5HH5iFVd6zX1ilJnp1BiQKFyY54Rbqawy4xj1zqkBkp0ac3JqWFWSXk6N22FXR0yYEYKKxEQ1X2kax92EARI1pmG3CWo+hpHJwgGDyrkB80q6jZj7xFDnP5kUftLdqVHCT0ORuOG/8hPDLHPXqTEiUVgQBHWwpdFl3bG4qIa9anR0ampNHGo5MBxVv+NYd2M9qFPzaozvVdPUNwRRkqst9bxWtYBEjYkketUYd9MfNFLUKKIiaLRTo9zwjRA1hXlK+MkkUaPniARAvkaddjlMaXSvGqPCT2VK6MfoUQmSJBmSKAwkQlBGJwt3DYYhSnIOn56Om5ooPGC8qGH5NKUFLhS49fteVSugeow/xsZua5RzA0BGn8CWLVvwxz/+EcePH0ckMvqL7k9/+pMmCzsV8Hkc6AyGDXVqjBqRAJifU2NEonCxSZO62TDLYp1v+IIgoDjfhc5gGH2hiK6/RE+EJQrrHX4q98o3/O6gsZ9hYCSGcEye5aNnojCQqIAyOlmY5dNU+j26NVAEEg34+oeiCIVjuoqLE2nWufKJYWYFVKNS+TSd83JuIAOn5g9/+APOP/987N27Fy+++CKi0Sh2796N119/HYWFhXqsMWfxKsLCnJwaA8NPwzFDM/ZPpfCT3n1qAHO6Cg9H4ghF5HCX7iXdJjk1XUrfGI9dQp5LvwaKAFDpM6cCqq2f5dPoF3oC5B9prO+W0TOgVFFTou8Nv16pOjIj/JTs1PBO2qLmgQcewI9+9CP89a9/hcvlwo9//GPs27cP1113Herr6/VYY87CGvAFw8bdEJlT4zfEqZHfIxIX1V+kRmBk9VORGn4y2KkxqKQ7+T2MnNTN8mlcdpv6d6IXLKembyhi6BTkTmUWk1//y1QVFe0Gz39iIxL0rHximJUsnEgSzmWnRhY103NR1Bw+fBhXXXUVAMDlciEUCkEQBNxxxx14+umnNV9gLsNyanLVqSlw2cEcZyN71Zji1Bh4fMnDLPVuvgckixrjjrFXrXxy6R7DL86XZ0tJBo9KYEnCfpf+Lmal35zwU7sB5dyMKSY14EuEn/R1aqYqoqYjEDY8ab9RHZGQg+Gn4uJiBINBAMCUKVOwa9cuAEB/fz+GhszrdmhFWFdhIxvwGTXMEpDzMfwmlHWzUJAxosb4ROGhSBwRxfkyIvxUaoZTY1A3YUCegmzGqIROJfxUqP8hqk6N4eGngP7l3AzWq8boBnyJEQn6HmNRvlN1LY0cbJlczj2d8x41QBqihomXCy+8EA0NDQCAa6+9Fl/96ldx66234jOf+QwuueQSfVaZo/hMGJUQMDBRGDBn/pMRE7oZRSb0qWGhJ5fDprYF0JNiE3rVsPLqEh2HWSbDuhYbmVdjZPip0peofjIyv61NCQXpWc7NMGNUgiRJhjk1giConYWNHGxppXJuIA1Rc/rpp2Pp0qVYtGgRrr32WgDAt771LaxZswYdHR34xCc+gV/84he6LZTxxBNPYNq0afB4PFi6dCnee+893d9TL8wYamlk+AlIbsBn3DGq1U8GihojJ3WrlU/5TkPKK0tNEDUsKbnMgJwhIFFS3W2oU2Nc+KlCGZUQjomGhoITjfdyM6dmYDiqfn/rnVMDmJNXY5Xp3IyURc2GDRuwYMECrF27FvPmzcONN96If/3rX7jrrrvw0ksv4Yc//CGKi4v1XCuee+45rFmzBvfeey+2bduGM844A5dffjk6Ozt1fV+9UMNPhubUGOzUGFzWHY2LatWMMX1qkiZ1G/Q5Gln5BCTcEkNFjVrObcwxmuLUKOEnI5waj9Outh/oMChZOC5K6FCEW7UR4ScTGvAxl6bc54bHqb9rWm/CtO6j3WyQJf/5NEAaomb58uX45S9/iba2Njz++ONobGzEihUrMGfOHDz44INob2/Xc50AgEceeQS33norbr75ZsyfPx8/+9nPkJ+fj1/+8pe6v7ceeN1KczojRU3YWKcmUdZtjKhJfh8jqp9GTeo2qFeN8aLG+JLuRE6NMXZ3wqkxPlHYiJwaAIZ3Fe4KhhEXJdhtgiFhCyZq2gMjiBvkmhpV+cQw06nhfeYTI+07W0FBAW6++WbcfPPNOHToEJ555hk88cQTuOeee3DFFVfgpZde0mOdiEQi2Lp1K+6++271MZvNhksvvRSbNm0a8zXhcBjhcOJXSSAQAABEo1FEo9rdZNm+0t0nG00UHIloup6JCCphoDx7+uvNBK9bvuH3hcKavN9k57pbmQjsdTsgxmMQDSgSKMpzyoPmAsOo8et/h+pmCaZ5Dt0+w+Tz7HfLlnPvoHHXKevhUuSxG/KeJfnyH2NHYNiwY1RzalySIe9Z4XNhXzvQ0htCNFqk+/s19QSV93Ub8rdY5LHBYRMQEyW09A6OqrjK9Dt6Mo71DAKQc4aM+AynFMrisLE7ZNh1eqRLPsa6otSOUa9zner+svq5PmvWLHzzm9/E1KlTcffdd+Pll1/OZncT0t3djXg8jsrKylGPV1ZWYt++fWO+Zu3atbjvvvtOenz9+vXIz9feSmMJ1Kmyr08AYEdLZy/WrVun+XpORJKAwLAdgIDNb7+JAwb8QuxutQGwYfueA1gXGvtzyoTxznVjEAAccCFqyDkFACEqn9OGDW+juVj/X4ibm+RzGuxuw7p1Lbq+V0NDAwIRAHBgYDiCv768DnYDwupH2+RzemTvB1jXvkP392vulv8WDxxrxbp1zbq/XyQODIblr1+/M/3vjozec0C+bt7a+gEKOvQ/p9t75HPqjg8b9rdY6LSjJyzghb+/jhn+k5/X+jz/64h8TsO9xlw33SMA4MDxnkH87eV10LFJs8reJvlvse3gDqxL47rR+lynWl2dsah588038ctf/hIvvPACbDYbrrvuOtxyyy2Z7k4X7r77bqxZs0b9dyAQQF1dHVauXAm/f4wrPkOi0SgaGhpw2WWXwelMPeRReawPT+3bDLu7AKtWXaDZesZjKBKD+M7rAIB/W7US+S79Q1BH/3kEb7QdQll1HVatWpD1/iY71xsOdAG73kdViR+rVp2X9fulwh86tqDlSC9mL1yMVWdU6/5+m/+2F2huwulzZ2LVpbN1eY/k8yzY7Lhn66uQIOD8FZcYEhJau3sDgDAuX3E+Tq/Vv1N58ZEe/O/BrRDdPqxatUz39zvWOwS89xY8Dhs8dqT93ZEJB147hHc6j6CwaipWrZqv63sBQOemY8CB/Zg3tQqrVp2h+/sBwO/aNqOnsQ9T55+JVacn/hYz/Y6ejBd/sw3o6MaKsxdi1Tm1mu13PGJxEQ/seA0xETj7gg/r3v8nEhNxxzuvAgA+fdUlKU2T1+tcs0jLZKR1V2ttbcWvfvUr/OpXv8KhQ4dw/vnn47HHHsN1112HggJ9421lZWWw2+3o6OgY9XhHRweqqqrGfI3b7YbbffKH4HQ6dfkCSXe/RcrMmcFwTPcvNAAYGZb9X7tNgD/fY0gme7GSZDoYiWt6jOOd61BUdkqK8l2GnFMgkUg7GBENec+BEflzLPPl6f5+7DwX5jnlacQRCVU6v6ckSWqjv8qifEPOaXWR/P3VE4oY8n59yt9iuc8NQYjo9p2UTI1Sctw1aMwxdir5SVOKjfkMAbms+r3GPnQEo2O+p9bnuVWp7ppa5jXkGJ1OOXfoeO8Q2gIR1Jf5dH2/pv5BtZy7pji96ietz3Wq+0o5UfjKK6/E1KlT8fjjj+NjH/sY9u7di7feegs333yz7oIGkLsXn3322XjttdfUx0RRxGuvvYbzzjPmF7nWqFO6DSrpTi7nNqo0T61+Mqik28huwoxCpaqkz6BeNX0hYyZ0J2NkWXcwHENEGVdQanCfmv6hqNrYUE9YPk0qv3y1osrgROE2A8u5GUY24JMkCU29cg5fnc5zn5JhXX2PGZAs3Gixcm4gDafG6XTi+eefx9VXXw27Xf/StbFYs2YNbrzxRixZsgTnnnsuHn30UYRCIdx8882mrCdbfEr1UyQmIhyLw+3Q97wGDOwmzFD71BhU0j1gYDdhBuuHY1RXYaOrnwC5AupId8gQUcMqnwpcdt0HPTIK85xw2gVE4xJ6QmHdS5BZObeRzcwSoxKMKelOjEgwbrK7kQ34ekMRDCvjCtiUcCNgAsqIrsKNFivnBtIQNXpVNaXDpz71KXR1deE73/kO2tvbsXjxYrzyyisnJQ9bBW+SuAiF9Rc1ao8at3E3fKNLuvtNcGqYuDCqqRkTT8UGNaZLfi8jyroTPWqMu+HLoxLcaA+MoCtohKiRj9EMUdM9GEY0LsJpT3tKTlowp6bawBt+QtTo36uG9aip9Lt1/+5OhpV1G9FVuNFi5dxABrOfzOa2227DsWPHEA6H8e6772Lp0qVmLylj7DZB7XFixKgEo7sJA4leMQGDevGo4ScDQzNGh596TQw/9RkhapKGWRqJ2qvGgAZ8avjJwGMsLXDBaZcHd+o94youSuqcKSOGWTKMbMDXpM58MtbFmGpgr5qj3YqosZBTYzlRk2uwvBojwjNGdxMGRjs1RsycMSOnxsjw00g0rlreRjo1JQbm1KiN9ww8PgAo8xo31NKM8JPNJqDCZ8xgy57BMGKiBJsAlBvouLEwUDAc0/07NTHzybjwGpAIPxkhapgbNK2UnBoiRVgIyoj5T+Y4NfJ7xURJvRnriRmihokLI8JPzA1y2AR1dpgRGNlVWA0/GZQkzEg4NfofIxNORiYKA4kZUHqLGhZ6qvB54NA5zJVMvsuhOph6uzXqdG4Dk4SBxKiE3lBE/U7Xg0hMVI+Rwk9EyqhDLQ0JPxmfKJzntMOhdIgy4qZv5IRuBnNqjAg/sWGWRQYNs2SUnALhJ3X+kwFODRMVRk89ViugBvQWNbKgMDKfhsEqoPTOq2GVT0Y7NX6PUxVuero1zcp07jyn3XDxnQ0kakyGhYKMcWqMFzWCICTyagwo6+43ofqp0MBJ3f0mVD4Bxjo13SYkCgMJgaH3UMtITESfcp0aLWrUCiidhZuaJGxgPg2jptAYUcNcjFqDc2oAoF4JB+lZAZUo5863TDk3QKLGdIzsVRNQw0/G3fABwO8xLm/InJwa+YYvGTCpu9dkUdMb0t/FYDk1ZTnq1DDR5LAJKDbwOgWSRI3OTg1zgqr8xroYQKICqllHUSNJkppTY3SiMGDMYEtWzj3dQqEngESN6bCcGj1jowwznBogqVeNzuGnSExU83aY0DACl8OGAqWKTe8QVJ9azm3szTA5UVjvhO+ekNk5NfqKms6k0JPNiOE9SVQpAxH1bsDHOu0a2b+FUVusf6+arsEwwjERNsHY5oKMqQaUdSc33rMSJGpMxmtoTo1JTo1BDfiYSyMIxgu3IsU56ddZuCW6CRvrYjCBEY1LuodKWYVVieHVT8Y4NZ0mJQkDCadGb1HTruTUmHHDN6JXDXNpqvweuBzG30YNcWp6mFNjnXJugESN6fgMrX4yx6lJlHXre4xM1PjcDsN/ARfls7JuvZ2aiPJ+xt7w81x25DllN0rPsu64KKn7Nzr8xJya4EgMIzpW6qmixm/8DZ8lCnfq3FXY1JwaA3rVsFyWWoMrnxisAkrf8BM5NUQGqKLGwOonv9GiRp3/pLdTI98MjWy8x0iIGn2Pke2/xODwk/ye+icL9w9FwHKtjezDA8h/Fy6l/FjPEFRXgJU7m+fUDIZjuv2QEkc13jM+p4Y14OsIjiAa12eOl1k9ahjMqWnpG0ZMh2NMLuemnBoiLbzKyAIjEoVNCz95jA0/GZkkzGA5PHo7NczFMNqpAYwp6+5Rj8+pexv/ExEEwZBeNYnwk/EuRoHbobaR0KusuzsURjSuNN4zQbiVFrjgctggSfodY0LUmOPUVPk9cNltiImS6oppiVXLuQESNabjNcipkSTJvPBTXqLkWU/Y/o1MEmaoTo3Ox8hEU4mJokZPp0Yt5zbYpWEY0VU4EX4y52ZRWchCUPrc8JmQKPe5DRemgNw5uUY5xhad8mrUxnsmOTU2m4DaEvm99QhBsQRkq5VzAyRqTMenlnTrezMciYqIKb6+aSXdeufUmNCjhmFU+Ekt6TYx/KRnTk23Ws5tzg3fiAooNiLBrF/AlX59K6CYc1BlQuiJoXcDPrOdGkDfCqjEzCdrhZ4AEjWmY5RTw0JPNgFq+bFRGFf9FBv1fkZiVPipX+0onKPhJ0VMmCVqjKiAUodZmhB+AvSvgGpThESNCUnCDD0b8ImipCYhm5VTA+hbAcVEzYxyEjVEmhhV/cSmZHvdDsPtRKNLuk11anQMP0Xjopp7lavhJ3WYpcGVTwy9nZq4KKn7Niv8VKVzA762AHNqTBQ1rAJKB1HTGQwjEhdhtwmmVHcxWFfh470hzfetOjUWSxIGSNSYjtpR2CCnxujQE2BcSXc/q34yRdQoLoaO4SdWzi0I5rhRRoSfzGq8x9DbqekJhSFK8mdoVt6Q2lVYp7LudhPLuRks/NSiQwM+lk9TXWjssM4TMcSpIVFDpItPqX4Kx0REYvqUHwJJ5dwm3AwL84wZk8BKxotMLOke0DH8xPJ1ivKcsBvchwcwNqcmV50aFnoqLXCbdkPUO/zEQj5mlHMzpujYgI+JCDPGIyQztTSRU6Nll++RaFx1uKxWzg2QqDGdAnciv0XPEJRZlU9AslMT1bXFvpnhp2IDwk+9JnUTZpQa4dSoOTVmVT/p69R0mdhNmMHCQh26iRrzRiQwkhvwaf2dw6Zz15vUeI/BRFVwJKZpZSlLPPZ7HIZ39dYCEjUm47Db1E6teiYLM5fE6MZ7QMIdEiUgFNGvU6uZoqZQSRQeGI4irtOk7v6hRA8XMyg2JPzEnBqzq5/0OUa18smkfBogqatwMKz5VPl4UuM9JizMgIW+hqNxzSsSmVPDuvqaRZ4r0UNGywqoo92DAIDp5V7LlXMDJGq4gLknepZ1m5lT43bY1E6tevaqMVfUyO8pT+rW5xh7Q6ybsLlOzWA4hnBMH3GqJgqb3KdmMBzDsA4CPFH5ZJ6oKfO6YBOUpGWNp653D4YREyXYbYJp1V0A4HHaVddN62ThJiWnxszKJ4YeeTVHLJxPA5Co4QIjyrrNDD8JgmDIqIR+E/vUuBw2Nelbr141Zs19Yvg9iVyevpD2xzgSjash2DKTbvpetwMep36jEljjvUoT5j4xHHabesPvGND2GFkOS6XPbUreVzJTivRpwMfmPpkdfgL0mQF1tMu6PWoAEjVcwBrw5WpODTA6r0YPRqJxhJVEazNmPwEJMaVXXo3aTdgkF8NmE9R8nh6Nf+HL+5SPz2W3qX8TRiMIgnrD79Qhr4aFZswYZpkMy6vROlmY5dNUmxh6YujRgC8ci6vnrI4HUcOcGk3DT7KomW7BHjUAiRouYE6NnmXdiZwac274iV41+hwjE0s2AfC6zLkhslyXPp0qoHpD5lV3MdggTT3yaroVEVHqdZkay9ezAqqDOTUmz9NhoSGtk4XbBljlk7miDdCnAZ+ceAzku+ymhUiTYaLmmIa9aqxczg2QqOECtVeNIU6NyaJGJxeD5dP485ywmWR7MxdjQKfwE3NqzKp+AvQt61Z71JhU+cTQswKKzVsyM/wEAFWFSvhJJ6dmCgdOjR4N+JLLuXlIomVl3awiK1sGhqOqY2rFxnsAiRouYEJD1+qnYZYobFb4Sd9eNWYmCTMK1flPOjk1HIga1hRPF6dGTRI218XQy6kRRYmLnBogUQGl9RRrnpwaPRrwNSnjEXgIPQGJdbQODGuSvN+ouDQVPrf6Y9tqkKjhAK+aU6Nn9ZPJOTWqU6OPcONB1BTlsfCTXk6NvN9iE8NPxTqGn8wekcDQy6npCUUQFyUIgnl9eBgsp6dD42NsHeAopyapV41W8JQkDADlXjfynHZIkjbHqebTWNSlAUjUcIHPiOqnsHkl3UBSorBOTo2ZlU8MNfykU4itN2T+Tb9ER6fG7GGWDL2cGhbqKfOa102Yodf8p1Z1mKX5ooaFn7oHwwhHtSnPZ6KmrsT84wPkxPZEXk32ycJHSNQQWmDE/Cd1TIJpTo38vnrd8LlwanQMP8XionqM5oaf9MypkfdptotRrry/1k6N2njP5CRhQJ/qp0hMVIVgtYndhBnF+U61sWm7RnOujnPm1ACJsu4mLURNl9J4j0QNkQ1q9ZNOicKSJJmfKKxzSTcPoqZQx/ATKxMXBJPdKB0ndbMbIj85NdoeIxsgaXY+TfIaBoajGNHIxegIjECS5J5NPFQGCYKgjmrQKlk44dTwI2qmKms50pV9BdTBDlnUzKn0Zb0vsyBRwwF6JwoPR+Nq637mmBhNoqQ7d0UNc1D06FPTF0pMIDczdMFuVn2UU5M2HWrlk/lOjd+TaDKoVQVUIvTk4aIyCEiEoFo1CLMNDEXVlhRmD7NMZnalFwBwWHFZMiUWF3FEGZEwq8Kb9brMgkQNB+jdfI+5NHaboNqxRqNWP+mUKBzgQNToOambhXtKTAw9AcaUdJudU8PefzgaR0jDv8kOdUSC+U6NIAiaV0C1sSRhDvJpGGyUQZsGFVBsPEKZ1408lznfo2Mxq0J2VZjLkimNPUOIxiXku+xclORnCokaDlDHJOgkapLLuc36BVWos1PTz5Go0SP8xBr6FZts6zNR0zcU0XQYoihK3Dg1BW4H8pWblpZuDS89ahhsHVrl1bAQDw/5NAyWsNwykH34KZFPw9cNn7kq7YGRrObOHeoMqvszq9eXFpCo4QC9E4UDJpdzA8Y13zNrLlLyewdGtJ/UzboJm5kknPz+oqRtmC0wEkVMOWdmjYFIRo8KqI4gP+EnICFqOjVKomU9anj6lZ+YjaSdqOEpnwaQf8ixa+pQZ+ZuzQHF6ZldYd18GoBEDRckRI0+N3x1QrfbPBeDJQoHwzFNf+EzWMURD4nCekzq7lPnPpl3fICcBMrEsZYhKJaU6/M44HaYb+3rkVfDU6IwoH0FFAvx8BR+mqoMZdRiNhJrTMfjoEcmRA5mIWrYa1mOjlUhUcMB7IYfjomIKEMZtcTsxnvJ7y1JwGBEe0cq4dSYd9N32hOTurUOQTEBYXb4CdCnrJuXHjWMcq+2Tk0snih3ruDMqdFK1CQa7/Eh2gBguiJAOoJhhLMs8mI9XGZwOOiRhaCycWoOdsjhpzkkaohsKXAnfplqmZjIMLucGwA8TjvcDvly03o2kiRJavM9M0VN8vtr3aumj5NEYSAhrHo1nNTNS48aRplP21413YMRSJKcrG92yTqDhSy0asDHU+M9RmG+U/2b7M7yMBs5bkzHRA0TJukSi4tqSTiFn4iscdhtalWSHsnCLBRiVjk3Q6+y7qFIXM3HKMoz96aoihqNc4d6OUkUBpKdGu2OsYeTHjWMcq/sNnRp1KuGNd4r97ph5yQJc4qGAx8DI1HVLWUVR7zAwkVdI5mf98FwTJ3bxeOgx9lM1GTo1BzrHUIkLiLPae3KJ4BEDTeoDfh0SBZOdBM218XQq6ybCQiX3ab23jALJqpy2akp0cGp6eak8omhtVOTyKfhQ7QBQK3Sa6U9MJJ12Js1pSstcKGAs0GI05Rk4WycGubSlHldpn+PjsVspVlec98whjII77NycKtXPgEkarjBp2OyMHNGzMypAfRzatQk4Xyn6U2/EuEnbY+xh6OcGj26CrMeNaU5mlPDGtxVcJIkDMg3aLfDBknKvldNszJMkTeXBkg4K9k4NbzPRCopcKkO6uHO9DsL72sPALB+kjBgEVHT2NiIW265BdOnT0deXh5mzpyJe++9F5GI9g3AzMKnY68aHhKFgaReNRqHZliOTpGJlU8MvUSN6tRwIGr06CrMetTwklPDSrq1cmpYjxoe5j4xBEFQRUhzX3bVQcypqeWs3BlIhJ+6sxA1R7v4FjVAQpDszyCvZnerLGoW1BRquiYzsISo2bdvH0RRxFNPPYXdu3fjRz/6EX72s5/hm9/8ptlL0ww9G/CpJd2mh5+YU6PtMfJQ+cTQI/w0Eo0jFJFLN/gIP8k3Zi2dGl7mPjGYo9IZHNGkBQFv5dyMKUoIijktmWIJpyaLQ2zsYaKGXydjfrUsSHa3DqT92j2qqPFruiYz4Cv4OQ5XXHEFrrjiCvXfM2bMwP79+/Hkk0/i4YcfNnFl2qFnAz4emu8BiURlrZ0aHroJM/RIFGauj90mmP4ZAoleOVqWdLMkTF7KnSt8bggCEI1L6B2KZF1qzlvjPYZWTg17PU8zkRgsp2YgKmAoEkOhM/3vCd7DT0BCkDDXJVX6QhE1WXx+DogaSzg1YzEwMICSkhKzl6EZXqUxnr7hJ16cGq1zapioMd/FYF2FtQw/qT1q8p1cJPExp0ZLUcPCPOWc5NQ47TZ1LVrMRmL74CmnBkgWNdk5NU29/Do1RfkuNTSdSWdhSZJwVBkWybWomSILkr2tgbTcxT1tsgiqL8nnMgk6Xcz/2ZcBhw4dwuOPPz6pSxMOhxEOJ2LigYD84UWjUUSj2t102L6y2We+S+nhEgprujYACA7LN598R3ZrzJYC5Rj7szjGsc5176B8w/B77KYeHwB4XbLo6NPwc+wKyL+Ci/Kchh3fRNe03y0fY28ogkgkknVydigcw5ASXivy2Ez/DBlVfjc6g2E09wzitIrsHAjWw6WyYPRnqMV3RzZUK1Vex3tDGa9BkiTVqan2ubj5/JKpK/agfziKI51BzK1Krw9LTyiCwEgMggDU+I37G0yX+iI3XA4bguEYjnQGMLU0tWv2g6Y+AMC8Kq8mx6bXNZ3q/kwVNXfddRcefPDBCbfZu3cv5s6dq/67paUFV1xxBa699lrceuutE7527dq1uO+++056fP369cjP194mbWhoyPi1HU02ADbsOnAY66IHtVsUgN6gHYCA9997G607Nd11WhzvEADYcfBYC9ata8pqX8nnetdh+dx1NB3BunWHs1tklhwNAoADrd0DWLdunSb73NYtnzdpZFCzfabKWNe03JnVgXBMxIt/+zs8WU416ByW9+e2Sdjw2vrsdqYh0pB8Xb26aSvCRzPPqwnHgcCI/FW78903cXCMb91svjuy4bhyvR5q68v42hqMAqEIO74N2Meh/++KyJ9lw7s7gObtab32SAAAHCh2SXi94R86rE47Kt12NMUE/HbdBpxZmto1++pB+dzYg21Yt65Vs7VofU0PDaUWIjVV1Nx555246aabJtxmxowZ6v+3trbi4osvxvnnn4+nn3560v3ffffdWLNmjfrvQCCAuro6rFy5En6/drHDaDSKhoYGXHbZZXBmEK8FgJa3jmJ9y0GUVU3BqlWLNFubJEm44x354rpq5SXmVl/sbMdzRz5AXmEpVq06J6NdjHWu1/1+O9DZiXPOWIBVS+s1XHD6HO4K4dFd/0LU5sSqVZdrss/ed48DB/dhZl0lVq1arMk+J2Oya/q721/DUCSOs85fkfUsnM2NfcD2zagqKsCqVRdktS8t2SLuxc53m1BeNwurLpud8X4OdQ4C770Nr9uBj3905ajntPjuyIauYBg/2rUBgaiAyy6/Ak57+orkg+YBYMu7qPC58W9Xr5z8BSZw+PWD2PrGUdiKarBq1Rlpvfa5Lc3A7j1YUFeGVavO1mmF2vB2dDee29ICT1Xq1+yPHn0LwBA+dtESXDSnPOs16HVNs0jLZJgqasrLy1FentpJbGlpwcUXX4yzzz4bzzzzDGy2yf/43G433O6Tb+JOp1OXL5Bs9luYL68zFBE1XdtgOAYWXi3x5sHpNG9YYLHSpTU4Esv6GJPPdWBEqQzyeky5MSRT5pdzCgIjMdjsDk26xw4ox1dqwvGNd02X+9w41jOEvmERs7NcU9+wfHwVfrfpn18yNcXK3KDBSFbr6grJOW01ReN/fnp9J01GVZEDLocNkZiInqE46krS/9HTHpTDAnUl+Vx9fsnMrZIrgw53D6W9xkNdskMwt9rP7fExFtUW47ktLdjdFkxprT2DYTQqwz7PmV6m6fFpfU2nui8OjcKTaWlpwUUXXYT6+no8/PDD6OrqQnt7O9rb281emmaw6ietE4VZObfDJpjebZdVJ2ld4dWvlnRzkCicNKlbqyqvRI8afr5QKzTs48JGCFT4+EqirWZTrLNMFG4bGFb2x18Src0moFZpi9+UYQUUex2PScKMWRWyQD3cFUq7RP+AOuiR/5lIZ9UXAwDeP96PeArHue14PwC5kzAP359aYIlE4YaGBhw6dAiHDh1CbW3tqOckKfseEjzg02lMQnLjPbO77fp1a74n3/R5aL7nsNvgczsQDMfQPxzVpANwr1JJVczRl06iOV32lUFq5RNHjemApCnWWYqa1n759TUcTa9OZkpxHo50hzKugGKN93gs52bUl+TDIUgYiYpo7htGfYpJtEBC1JyWZoKxGZxW5VO/f/a1ByZtprf1mJwkfLYihnIBSzg1N910EyRJGvO/XIGVW+vl1Jhdzg0kZj8Fw7GUfkWkygBHfWoAeVwDAPRp1ICPp27CDFbu3KXBGAFeRQ1zatoGRrL6ruHZqQESM6AyFjXK6+pK+Dw+QO7xVKks72Bn6h13ewbD6B6MQBASk7B5xm4TsLi+CEBCsEzENiZqppKoITRGr+Z7rPGe2RO6gdHCalCj44zERLXbLg8dhYGEozKgUa+aXo7mPjG0HCPQyamoqVJEzXA0nlUX7DbF6WEiiTeYGDnek/7MICAx7HFqlgnjelOZJwvTAx2pT7Jm29aX5CPfZf53aCosmSr3b9vcOLGoicZF7GjuBwCcRaKG0JpETo22oRkW6vG5zb/huxw25CmJylo14GMujSDw4UYByV2FNXJqhviZ0M1g+S+dGogaXp0aj9OufpbZhKBYj5qaIj6dDFa9xhJG0yESE9UeNTM4bkwHANX5sqhJx6lhoafZFfyHnhhLpskCZWtj74TbbW/qRzgmojjfyf1nlw4kajiB5dSMREVE46Jm++VlmCWDOUYDGuXVDCjCwe9xalJppAUsDNYXyv4YJUlSnRquwk96ODWcdBNOpsrPQlCZhWYkSeLeqUmImvSdmuO9QxAloMBl506UnggLP+1vT13U7Gtn+TT8h54Yi+uK4LAJaB0YUV20sdh4oAsAsGxWGRedyrWCRA0nFLgToiOkYV4NLyMSGOqoBM1EDV/5NEAi/KTF/KfhaBzhmCxyczH8FBcl9Ib4mvuUTLYVUIHhRLdkbp2aMjmnpn8omvYg1qPKTXNaWYHphQiTUVvAwk9BhGPxlF7DhkPOq7bOTKQCt0N1a/65v3Pc7d482A0AuFCD3jQ8QaKGE5z2RGhGy7yaRKIwL06NtvOf2IwlXvJpgKTwkwaJwj2D8j7cDhsKXOb1GDoRJmp6QpGskr57QmGIEmAT+JnQnUyVktzbHshM1LQqDk9JgQseE3tETUS+y6EO2jw6wS/7sWhMEjW8U+IGCvMciMYlHGifPK8mHItjrzIX6YzaIp1Xpy0Xn1YBAPin4sacSPdgGB8o+TTLZ5cZtSxDIFHDEV4dyrrZvvyciJpCtaxbm2NMDLPkR9Qwp6ZPg0ThbqW6qMzr5uqXcGmBC4IgOy3ZVHl1BuTjKylwcxM+TKYqy7LuROUTn6EnRqYhqKPK9tM5TxIG5Lw7Nsl6Z8vApNsfaB9ENC6hKN/JdQ+esbh4rixq3j7cM+YPyFd2tUOUgNNrC7mtyssUEjUc4dOhAR9PJd1AQlxp5tRw1HiPUeqV19KjQblzt+LUsH3ygsNuQ6kSDmPCJBNYSbip4zsmgImR1gxFDetRw/uNg02fPtqdXrLw0a7QqNfzzsI0RM0HLf0AgEVTCrn6QZEKsyu8mFXhRSQm4pVdJzepXbezDQCwalG10UvTHRI1HMGcGi0roIIclXQD2jfgS+TU8HF8QCKMwkJH2dCT5NTwRpkGvWp4rXxisF/ozRl222VODa+N9xgsfHQsTaeGOTtWCD8BCVGzKwVRs7NZ3ub02okb2PGIIAi4ZnENAOBP25pHPXe0O4S3D/cAAK4iUUPoiR69agLcOTUsp0abY0x0E+bHyVCdmlD2Tk2PUvlUylGSMEOLZGH+RY2cRNvSN5xRA76WPr7LuRlq+CmNnJqhSEyt7LKKU8PCT/vbg4jEJq4y/UARNYumFOm9LF245swpsNsEvHOkVxVoAPDrtxsBABefVo66En67QGcKiRqO0GNUAq8l3Vo5NYnwEx+iDUiImt4sk2iBxE2/jMObPutVk42o6QywuU/8HR8gN+CzCUA4JmbkSB1XRgjUc37zmFEui5Ij3aGUxduhTjnZtrTAxVW7gYmoK85DUb4TkbiIPW3jT30OhWPYr/SosaJTA8iC/KNnyG7Nf/9jH0RRwuGuQTz77nEAwM3Lppu5PN0gUcMRXrf2oxJ4LenWqk8Nj4nCrEmeKGVfAZXrTg2rKqriNJHW5bCpycKZjBFQRwhwPBcJkJ0ah01AcCSWcqUX67ZrhUGPDEEQsETpnvve0Z5xt9t6rA9xUcKUojzuXbaJuO3Ds+B22LDxYDe+9eddWP27bYjERVx0WnnOVT0xSNRwBHNTtBohACQcEd6qn7RrvsdforDDbkOx4hwxUZIpPOfUMFHTmcVQS1ZVxIQDj2Q6G2k4ElcFH+9OjcthU0NIqTans9Kgx2SWTi8FALx7ZPyOu+8ckQXPh2aUGrImvZhZ7sV3P7oAAPD7945jX3sQZV4XvnfNQsslP6cKiRqO8Gpc/RQXJQSVffHiZBSp5c7ajBDgsfkeAJQqIqQ7ywqobguImlx2aoDMk4XZ9j6PQx1yyjNzFHHCxMpkMPFjJacGAM6dLs9Geq+xd9zwMBM1S2eUGLYuvfjMufV48vqzcOm8CnxqSR1e/PIyVajnInz8fCcAaN+nJphUNu3n5KZfXMAa02kVfpLFEXeipsCFQ0gMo8yUHk5LuoFEHkymoiYWF9XXcu3UlGTm1Fgln4ZxWqUPL6MN+1NoTAckOzXWGSEAyMnCPo8DwZEYtjf1nzShui8UwQ4lsfY8izs1jCsXVePKHKx0GgtyajgikSisbWgm32WH087HR12c5NSIWSbRxkVJPUYmlngh0asmc1ETFyX0DvEratTGdIGRjCqDugblbsIOm6A6WzyScGrSEzVNiqjhPZ+GwRyXVJyageGoWvk022JOjcNuw0VKx91X93ac9Pw/D3QiLkqYW+XLyeqgXIePOx0BQPvwE+vay5OLwaqURCl7RyowHAXTRcUc5dQAyb1qMg/N9IYikCS5EypPE7oZLGQ0FIlnVKLP8mkqfHx2E2ZkGn463qskCZdYI9H0tKTw02RVewcV4VNT6FGT/63EpfMUUbPnZFHToDx26bxKQ9dEaAOJGo5QE4U1EjUDapIwP186bocd+coMo2zzapiL4fM4uHGiGMxZ6c4i/MT63BTnu+Dg7PgAwOO0qwnRmYwRYK+p5DifBkg4Len2qmnqs1b4qb4kHx6nDeGYqIbOxmMvy6exWJIw46I5FXDZbTjYOTiqh0tfKIJX98pDIC9fUGXW8ogs4O+b8hSGlXRrlVPDaxJtsUbJwn2KYOCxRwYLp2Tj1Kj5NBweH4MNfGSdc9OBJQnzPhepqtADu01AOCaiI42RECz8VGsRUWO3CZhdIYuUvRP0cAGAncowxIU11uzhUpjvxBULZdHy7HvH1Mdf2NaMSEzEgho/Fk6xzmRuIgGJGo5gjem0zqnhJUmYkZhind1xsiRc3kJPAFBWkH1ODc+VTwwmSDJyahRRU8lxkjAAOO021W050p1aEq0kSZZLFAaARUqjuR2KaBkPtduuRRvTAcBnl9YDAF7Y2oLG7hCCI1H8bMMRAHLFUK6WPOc6JGo4IrkxXSaJlyfCRiTwMveJoZlTM2QBpyaL8BOvwyyTYYKkLYvwE+9ODZA88DG1MQLtgREMReJw2ARLiZozFJHyQdP4s5GGI3EcVLoJn1FbZMSydGHp9BIsn12GSFzEmj9ux51/3IHuwTCmlxXg2iW1Zi+PyBASNRzBwkTRuIThaDzr/XEbfipgoiZbp0apfOLQqVFzarIKP+W4UzNgDacGSBI1XamJmsOd8nb1Jfnc5XtNxBl1RQDkKdbjVSfubh1AXJRQ4XNz3V9oMgRBwH0fXQCf24Ftx/uxfk8H7DYB379mIdwOu9nLIzLEOn9tpwD5LrtaBcIql7KBW1Gjhp+0cmr4Oj4gkQcTHIkhHMtMoCbCT/yJNga7qbWl2Fo/mY4A/92EGek6NSxMNaPcWj1cZlf4kOe0YzAcw6GusUNtmxv7AACLFQFkZWaUe/HH/zgPVyyowkWnleN/P38uzp+Vm+MDThX4ikuc4giCgMI8J3pDEQwMR7P+FRTgsPoJ0K6rsJpTw2H4ye9xwmETEBMl9IWiqCpM/5dfovGeFZya9BKFRVFCq+LUWGG2zow0Rc1hJTwzs8Ia06sZdpuAs6YW4V+HevDukZ4xuwXnyggBxrxqP352w9lmL4PQCHJqOEPL2Ui8OzXZhp/U6icOw082m6Dm+mQagmLl4FYIP6WbU9M9GEYkJsIm8D0igTFdmWJ9vHcI0bg46faHlTDVzDJrOTVAoovu24dPHvgYi4vY0ijPTMqFEQJE7kGihjPY4MmABqImwK2okW/2WoWfeHRqgOyThbuVEQI8Jwqzku7gSCyt/kpsenV1YZ4lck4qfR7kOe2IiVJKnYWPdFnTqQGA82bK4ZdNR3pOyqvZ0dyPUCQOv8eBeVVU8kzwB//fJqcYfg2dGtblldeSbpbomynM6eGx+glI5MJk0qtGkiR1LhKbscQjXrcDPqUTdjohqJZ+edspFgg9AbLzNk0NQU1c1h0Kx9TQ2gwLOjWn1xbC53agfyiK95v6Rj23frfcbXfFaRWwcdwFmjh1IVHDGadG+EkbpybRp4av42OwZOFMBj72D0URUcIc5RyLGiCRE9PSn3oIio0cYCMIrADLqznUObGoYXk3JQUubl3EiXDabbh0vjwi4G8ftKmPS5KEV3a3AwCuoG67BKeQqOEM5qoEsmzAJ0kS96Imm0ThWFxMDLPkMKcGSJQqd2YgajqCskAozndyX17KhEnTJK31k2lRQjhWEjVsNtK+9okHPrKBkLMsVvmUzCplovO6nW1qDtG24/041jMEl8OGi04rN3N5BDEuJGo4QyunZigSV4fScdd8TynBHomKGMmwHw87P4LAn2hjMIelI4Ny506lHb8VeriwScZNaQx8ZHkpUywkauYyUdM2sajZ0yqPGJhfY92ckwvnlKHM60JHIIy/bG8FAPzPRrnb7jWLa1Dg5us7hSAYJGo4g92gs+1Tw276TruAPCdfv/S9bgccSjw+U7emdyjhQvE47BHI0qlRhBDvoScgaYp1b/o5NbXF1um2O69aFimHOgcnrIDa266Immrrihq3w47/b/kMAMCjrx7Ai+83q6En9jhB8Aifd4NTmORRCdmQHHribYaJIAiJXjUZJgurjfc4DT0BiQTfTHJqmBDKRadGkiQ1p8YqicKAvFav24FIXBy3X40kSTnh1ADA5z40FVOK8tDcN4w7ntsBSQKuPbt2zN41BMELJGo4I+HUZCdqeG28x8i2qzATQzwnYlYogiSz8JP8Gp4rnxh1ituSak5NbyiCkagIQQCqi/gXbQybTVBDULtaxp6N1B4YQd9QFHabgFkV1s2pAWRH9Vc3n4O5VT7YBOCjZ9Tg/msWmr0sgpgQCoxyRqFGicK8TuhmJJKFM3Vq+E4SBhKCZCgSx2A4Bm8aeQhWcmpqS2S3pW8omtJxsnyaSp+H+yToEzmjrghbjvVhe1M/Pn7WyUMPdzT1AwBmV3jh4SzsmwmzK3145fYLERcldYQLQfAMOTWcwZJ6tQw/8UiR2lU4M6emn+O5T4wCt0O9wafr1rDtK/38OzV+j1O9zppTCEE19sihm7oS64SeGGfWFwEA3j/eP+bzW5S5SEumFRu0ImMgQUNYBRI1nKFV9ROvjfcY2faqUZ0ajsNPAFChiBJWzZQqzKkp9/Hv1AAJgdKUQrLwEWWEgBUb07EhjnvbAhiOnFy5t/W4LGrOnppbooYgrAKJGs5gOTBDkXhKM2bGI+HU8BlhZGIk067CVkgUBhIhqM5g6k6NJElJJd38OzVAenk1LMmWzVOyElOK8lDucyMmStiuhJoYI9G4mmtzdj3NRSIIMyBRwxnJzko2ycK8zn1iqCMEQpkNe+y1iFOjlnWn4dQMDFunmzCjXqmAOp6GqGEdeq2EIAhYNlMe+LjxYNeo59450oNoXEKV32PJ0BpB5AIkajjDbhPUWTrZhKB4r34qVeciZdinhuMJ3clk4tR0KALICt2EGTOV7rmTjRCQJEkd9jjDgk4NAKxQuuluODBa1Ly+rxMAcPHcCu7aKBDEqQKJGg5JjErIvAEf74nCpQXyzb47g2GP8utkUVPGuZNR4WNl3akfZ5syGNIKlU+MmRWpiZquYBihSBw2IdHfxmosny2Lmt2tAbQqTQQlSVJFzYfnVpi2NoI41bGcqAmHw1i8eDEEQcD27dvNXo4uaDGpm+WcFPE67FENP6Xv1EhSQgyxMBavsEThdKqfWpXBkFZqTMd6srQHRhCcoB3BESX0VFucbxkX6kTKvG4snS7nzPxxSxMA4O3DPWjuG0aBy45ls0rNXB5BnNJYTtR84xvfQE1NjdnL0JVCDcq6+5XXFnEaninzyjf73lAEojKjKlWG40A0Lo3aD69UF8rCpG0gHVEj//qvsZCoKcxzqqG2w11jd9sFkiqfLBp6Ynx2aT0A4LnNTQjH4njmX40AgE+eXYt8F5/J+QRxKmApUfP3v/8d69evx8MPP2z2UnSF5cFkkyjcz3lzOrauuCilLd6CyuY+t4P7BmdsYGPbwHDK4s2KogZIuDUHO8Yf+Hi0Ww5PTbdgknAyly+oQoXPjbaBEVz31Dt4dW8HBAG44bxpZi+NIE5pLPOToqOjA7feeiv+/Oc/Iz8/tVh8OBxGOJzIZQgE5Jks0WgU0Wh2fWCSYfvSap8+j3yj7hscyWifoiip/V8KnNqtS0sEyI7UwHAM7f0heF2pJVZGo1FV1JR6XVweWzIlHhtsguwstfWHUhp7wBrYVfqcph1fJtf0jLJ8vH24BwfaA+O+bm+b/Dc4vTSP+89uIuwAvnv1PHz599vVLsK3XjANU4vdaR2X1t8dxNjQeTYOvc51qvuzhKiRJAk33XQT/uM//gNLlixBY2NjSq9bu3Yt7rvvvpMeX79+fcrCKB0aGho02U9Pmw2ADe/vOYB1oX1pv34oBoiS/NG+++brcHDqx7klOwAB6157E7MKU3/dYFQWQLZICOvWrdNncRrid9rRHxHw/LrXMC2FWYCH2+TzcmzP+1jX/L7u65uIdK7pkU4BgB2bdh/BuvihMbfZcUw+tr4jO7Gua6c2izSR/5gr4P0eAfVeCfOih7Bu3djHPRlafXcQE0Pn2Ti0PtdDQ6nNljNV1Nx111148MEHJ9xm7969WL9+PYLBIO6+++609n/33XdjzZo16r8DgQDq6uqwcuVK+P3aTdCNRqNoaGjAZZddBqcz+8TcI28cxj/bDqO8pg6rVi1I+/XHeoeAzW8h32XHR69emfV69OI3re+h81g/Zi08C6sWVaX0mmg0io2/eRUAMLuuEqtWLdZxhdrwm9b3sOVYP6bNn/w446KEr733KgAJn7jyw6guNKcCKpNruuRIL54/ugUBoQCrVi0/6fmuYBjBTRtgE4CbP3Y58lx8hw5TYVWWr9f6u4MYGzrPxqHXuWaRlskwVdTceeeduOmmmybcZsaMGXj99dexadMmuN2jrfslS5bg+uuvx69//esxX+t2u096DQA4nU5dLmyt9lvilW9kgZF4RvsbjMi5G0V5+hynVrAp1v1pHmcwIjs15X4P18fHmFKcjy3H+tExGJl0vb2BEUTj8vDAmuICOOzm2mzpXNMLa+XRAMd7hzEUO7mdwMHufgByPo2/wDrl6kag13cSMRo6z8ah9blOdV+mipry8nKUl5dPut1jjz2G733ve+q/W1tbcfnll+O5557D0qVL9VyiKbAy7P6MJ1izcm4+k4QZrFdNT5q9alhODe+VTwyW8NvSN/lcpBYlSbjK7zFd0KRLcYEL9SX5ON47hJ3NA7hgdtmo53e3yiME5lVr55ISBEEkY4mcmvr6+lH/9nrlKouZM2eitrbWjCXpCqsMynaCdTHHE6yBRK+a7jR71VhN1LB+My39k5d1JyqfrOlknF5biOO9Q9jR3H+SqNl2rB8AcEZtkfELIwjilMBaPwVPEbIXNXz3qGGUejN1auTwk/VEzeROjVXLuRlsivWOE4Y9iqKErcd6AQDnTKdhjwRB6IMlnJoTmTZtGiQpvYZtVoKFn/qGopAkKe05Mn1M1HA6IoFRVpDZ/Cfm1JT7+BZtDCZQWlMQNSxEZVVRc2Z9EQBgc2Mv4qKcGwQAR7oH0TcUhcdpw4IaCj8RBKEP5NRwCJs8HYmJGI7G0369Gn6yilOT4+EnFkoaGI5iMDzxPK9jypTrqRadi3R6bRF8bgf6hqLY1TKgPr7pcA8A2clxWixXiCAI60DfLhxS4LLDaZd/4fZlkCysOjWczn1isLlNnWnMRRqKxBARrRV+8nmcaiVQU+/EvRaO9SiiptSaHXeddhvOmynPPtp4MDHFev2eDgDAijk07JEgCP0gUcMhgiAk8moyGPhoFaeGTaEOReKTOhiMrqB8bPkuOwrc1omeTlPGAjR2jz8XKRYXVdEzrcyaTg0ArDhNrmj82wdtkCS5uzVzaq5YmFo/IoIgiEwgUcMp2SQL91vEqSlwO+BThEmqU6zble0qUxg3wBPTS2WRcrRnfFHT2j+CmCjB7bCh0mfN6icAuGpRNdwOG/a1B7HteB/+/H4LYqKEuVU+y898IgiCb0jUcEpysnC6WKVPDQBU+GVxkqqo6QjIlVKVfmuJmlScmkZF8EwtzYfNll5yOE8U5bvw0TNqAADf/vNuPP66PDrg+g9NNXNZBEGcApCo4RTm1PRn4dQUc+7UAIkQVGcgtbLujuDIqNdZhemqqBk/p+aYKmqs72asvngWPE4b9rYF0BOKYGZ5Aa5bkns9pQiC4AsSNZzCGuf1hdJzaqJxUc1P4T2nBkiIk/Zcd2oUoTJR+OlQ5yAAYEYOhGimlRXgVzefi3Onl+Cy+ZX49efPhdth/VlPBEHwjXUyLU8xijLMqWHbCwLg57xPDZBN+MliTk25LFS6gmEERqLwe07+bPZ3BAEAsytTGOVtAT40oxR//OJ5Zi+DIIhTCHJqOKUkQ1HDGtmV5LvUxmc8U5Vu+MmiicJ+j1OduH2gPTjmNgc7ZKfmtBwRNQRBEEZDooZTMk0U7lVKwEsK+A89AQnHJdcThQHgtCpZrOwbQ9R0D4bRE4pAEIBZFV6jl0YQBJETkKjhlEwThbuVOUpsWCTvMHHCEoAnQhQldAatGX4CEqJm/xii5oASeqorzkeei3JPCIIgMoFEDaeoicJpihrm1JQWWMPJqPAxpyY86TyvnlAEMVGCAAnlFhFtycyrkmcejSVq9rQGAABzKPREEASRMSRqOIUlCvenWf3Ecmqs4tSwROFITFRL0ceDhah8TsBhwflBc6tlwbK3LQBRHC3gtitTrRfXFRq9LIIgiJzBeneGUwSWKBwMxxCJiSm/rsdiTo3bYVfzfyYLQbUPyM8XWkOvncSsci8KXHYEwzEc6Bzt1iRETbEJKyMIgsgNSNRwSmGeU61e6k1j/lOPklNTYhGnBkjkx7T1Tyxq2hSnpsg1cZiKVxx2G86sl0XL5sY+9fHuwTCa+4YhCMDp5NQQBEFkDIkaTrHZBNXBYMm/qcAEUJlFqp8AYEpRHgCguX94wu1aleeLrGFCjcnZU2VRs7WxV31s81H5/2eVe8fsX0MQBEGkBokajinzynfvdERNj8VKugGgtlgWNS19E4saNsG61G1NpwYAzplWAgD41+EexJW8mlf3dgIALpxTbtq6CIIgcgESNRxT5mVOTerhp0RJt3XsDCZqmvvGn4sEAE2K6CmxzqGdxLnTS1CY50RXMIzNjb2IixLe2C+LmkvnVZq8OoIgCGtDooZjmFPTk6JTE4mJCI7Ic59KLejUNE/i1LQooqfUY12nxuWw4fIFsnh5aUcrNh7sQm8ogsI8J5ZMoyRhgiCIbCBRwzEJpyY1UcPyaew2AYUWmPvEqC3OBwC0TJBTMxSJqY6VlZ0aALjmzCkAgD9ubsI3nv8AAPDxs6bAacEydYIgCJ6gb1GOKVVzalILP/WElMqnAhdsFpj7xGBOTVcwjJFofMxtmIvj9ziQb/ExrOfNKMXy2WWIKR2S/R4HvrRiptnLIgiCsDwkajgm3URhtfGehUJPgFy+7nXLSmW8EBTLt2GVUlZGEAQ8/pkz8elz6nDJ3Ar89v9bigoLjn0gCILgDYv/5s1t0k0UVkckWKhHDSDf5KeW5mN3awBHu0NjDnQ82i2LmvqSPAB9Jz1vNYryXfjBJ043exkEQRA5BTk1HJOuU6NWPlmkm3AyM8plIXO0e3DM5w93DSrbFRi2JoIgCMJakKjhGCZqekORk2YFjQWbjcQmX1uJ6WWyWDnSFRrz+SNM1JSRqCEIgiDGhkQNx7AGenFRQv/w5IMtOwKyU1NpwfyMmeWTiRr5cRI1BEEQxHiQqOEYl8OmlmanEoJqV5waKyadqk5N98miJjgSRWcwPGo7giAIgjgREjWck06vmk4WfvJZN/zUPRhG/9DoxOjDiktT7nPD56HcdoIgCGJsSNRwTlmKvWokSVLDT1WF1nNqfB4n6krkcu09rYFRz7F/z63yGb4ugiAIwjqQqOEcFkpiLsx4BMMxDCuN6yp81hM1ALCguhAAsPsEUbOzZQAAsHBKoeFrIgiCIKwDiRrOqVZcl7aBiUUNEz1+jwN5Lrvu69KDhVP8AIBdrQOjHt+liJpFJGoIgiCICSBRwzkJUTPxsEcrVz4xFiiihTkzABCOxbGvXXZuSNQQBEEQE0GihnNSdWoSPWqsK2pOV0TLka6Qmhi9q2UA0biEonynOiOKIAiCIMaCRA3nVBfKN/K2/slEjSwCKizYeI9R6nVjfrUcgnrrYDcA4J/7uwAAF8wqgyBYZ0gnQRAEYTwkajiHOTWdwRHE4uK42+WCUwMAF84pBwBsOCCLmTf2dwIALjqtwrQ1EQRBENaARA3nlHndcNgEiBLUBnRj0WHhHjXJrFBEzWt7O3CgI4hdLYFRjxMEQRDEeJCo4RybTVDdl4nyatpzxKk5d3oJ6kryEBiJYeWP3gQgC5pyi4s1giAIQn9I1FiAmqLJK6Ca++TnaovzDVmTXthtAu64dI76b5sA3H7pbBNXRBAEQVgFS4mal19+GUuXLkVeXh6Ki4txzTXXmL0kQ6hSkoXbx3FqRqJxdCmhqVyoEPrYmVOw9uOLcPmCSjx9wxKcWV9s9pIIgiAIC2CZQTovvPACbr31VjzwwAP48Ic/jFgshl27dpm9LEOoUZKFW8epgGIujdftQFG+07B16YUgCPjMufX4zLn1Zi+FIAiCsBCWEDWxWAxf/epX8dBDD+GWW25RH58/f76JqzIONsupPTB2+Km5bwiA7NJQ2TNBEARxqmKJ8NO2bdvQ0tICm82GM888E9XV1bjyyitPGadmSpEcUmrqHVvUNOVIPg1BEARBZIMlnJojR44AAL773e/ikUcewbRp0/DDH/4QF110EQ4cOICSkpIxXxcOhxEOJ8qgAwG5PDgajSIajWq2PrYvLfeZTG2hXPlztDuESCRykhtzvHsQAFBT6NZtDbyg97kmZOg8GwOdZ2Og82wcep3rVPcnSJIkafrOaXDXXXfhwQcfnHCbvXv3Ytu2bbj++uvx1FNP4Qtf+AIAWbDU1tbie9/7Hr74xS+O+drvfve7uO+++056/Nlnn0V+vnVcjagIfP1dOyQI+P6SGLwnpM08s9+G7b02XDM1jotrTPs4CYIgCEIXhoaG8NnPfhYDAwPw+/3jbmeqU3PnnXfipptumnCbGTNmoK2tDcDoHBq3240ZM2bg+PHj47727rvvxpo1a9R/BwIB1NXVYeXKlROelHSJRqNoaGjAZZddBqdTn0TdH+57E20DI5h15vk4q75o1HNPHH4bwCBWLV+Ci0/L7SZ1Rpxrgs6zUdB5NgY6z8ah17lmkZbJMFXUlJeXo7x88pvw2WefDbfbjf379+OCCy4AIJ+4xsZGTJ06ddzXud1uuN0nN21zOp26XNh67RcAppcVoG1gBE39YSydmXiPWFxEY4+cKDy3uuiU+YPV81wTCeg8GwOdZ2Og82wcWp/rVPdliURhv9+P//iP/8C9996L9evXY//+/fjSl74EALj22mtNXp0xTCsrAAA0dodGPd7UN4xIXITbYcOUHOhRQxAEQRCZYolEYQB46KGH4HA4cMMNN2B4eBhLly7F66+/juLiU6Mx2wxF1BzqHBz1OPv3jHIv7DYq5yYIgiBOXSwjapxOJx5++GE8/PDDZi/FFOZWyTlAe9pGxxWZqJlV4TV8TQRBEATBE5YIPxHAghpZ1BzvHUJgJFHatq9dFjmzSdQQBEEQpzgkaixCcYFLbcK3pzXh1rx/vB8AsLiuyIRVEQRBEAQ/kKixEPMVt2a3Imq6B8M43itXPp1BooYgCII4xSFRYyHOqC0EALx7pAcAsF1xaWZVeFGYR2WKBEEQxKkNiRoLsWJOBQDgX4e6EY7F8Y4ibs4kl4YgCIIgSNRYiQU1fpR53QhF4njvaC8a9nYAAC6eW2HyygiCIAjCfEjUWAibTcAlioC54Rfv4VjPELxuB1bMye3RCARBEASRCiRqLMbNF0xD8pDuzy6tR4HbMu2GCIIgCEI3SNRYjLlVfvzg44tQW5yHqxZV4/ZLZ5u9JIIgCILgAvqJb0E+dU49PnVOvdnLIAiCIAiuIKeGIAiCIIicgEQNQRAEQRA5AYkagiAIgiByAhI1BEEQBEHkBCRqCIIgCILICUjUEARBEASRE5CoIQiCIAgiJyBRQxAEQRBETkCihiAIgiCInIBEDUEQBEEQOQGJGoIgCIIgcgISNQRBEARB5AQkagiCIAiCyAlI1BAEQRAEkRM4zF6AkUiSBAAIBAKa7jcajWJoaAiBQABOp1PTfROjoXNtDHSejYHOszHQeTYOvc41u2+z+/h4nFKiJhgMAgDq6upMXglBEARBEOkSDAZRWFg47vOCNJnsySFEUURrayt8Ph8EQdBsv4FAAHV1dWhqaoLf79dsv8TJ0Lk2BjrPxkDn2RjoPBuHXudakiQEg0HU1NTAZhs/c+aUcmpsNhtqa2t127/f76c/GIOgc20MdJ6Ngc6zMdB5Ng49zvVEDg2DEoUJgiAIgsgJSNQQBEEQBJETkKjRALfbjXvvvRdut9vspeQ8dK6Ngc6zMdB5NgY6z8Zh9rk+pRKFCYIgCILIXcipIQiCIAgiJyBRQxAEQRBETkCihiAIgiCInIBEDUEQBEEQOQGJGg144oknMG3aNHg8HixduhTvvfee2UvKKdauXYtzzjkHPp8PFRUVuOaaa7B//36zl5Xz/OAHP4AgCLj99tvNXkpO0tLSgs997nMoLS1FXl4eFi1ahC1btpi9rJwiHo/jnnvuwfTp05GXl4eZM2fi/vvvn3R+EDExb775Jj7ykY+gpqYGgiDgz3/+86jnJUnCd77zHVRXVyMvLw+XXnopDh48aMjaSNRkyXPPPYc1a9bg3nvvxbZt23DGGWfg8ssvR2dnp9lLyxk2bNiA1atX45133kFDQwOi0ShWrlyJUChk9tJyls2bN+Opp57C6aefbvZScpK+vj4sW7YMTqcTf//737Fnzx788Ic/RHFxsdlLyykefPBBPPnkk/jJT36CvXv34sEHH8R///d/4/HHHzd7aZYmFArhjDPOwBNPPDHm8//93/+Nxx57DD/72c/w7rvvoqCgAJdffjlGRkb0X5xEZMW5554rrV69Wv13PB6XampqpLVr15q4qtyms7NTAiBt2LDB7KXkJMFgUJo9e7bU0NAgrVixQvrqV79q9pJyjv/6r/+SLrjgArOXkfNcddVV0uc///lRj3384x+Xrr/+epNWlHsAkF588UX136IoSlVVVdJDDz2kPtbf3y+53W7p97//ve7rIacmCyKRCLZu3YpLL71Ufcxms+HSSy/Fpk2bTFxZbjMwMAAAKCkpMXklucnq1atx1VVXjbquCW156aWXsGTJElx77bWoqKjAmWeeiZ///OdmLyvnOP/88/Haa6/hwIEDAIAdO3bgrbfewpVXXmnyynKXo0ePor29fdT3R2FhIZYuXWrIffGUGmipNd3d3YjH46isrBz1eGVlJfbt22fSqnIbURRx++23Y9myZVi4cKHZy8k5/vCHP2Dbtm3YvHmz2UvJaY4cOYInn3wSa9aswTe/+U1s3rwZX/nKV+ByuXDjjTeavbyc4a677kIgEMDcuXNht9sRj8fx/e9/H9dff73ZS8tZ2tvbAWDM+yJ7Tk9I1BCWYvXq1di1axfeeusts5eSczQ1NeGrX/0qGhoa4PF4zF5OTiOKIpYsWYIHHngAAHDmmWdi165d+NnPfkaiRkP++Mc/4ne/+x2effZZLFiwANu3b8ftt9+OmpoaOs85CoWfsqCsrAx2ux0dHR2jHu/o6EBVVZVJq8pdbrvtNvztb3/DG2+8gdraWrOXk3Ns3boVnZ2dOOuss+BwOOBwOLBhwwY89thjcDgciMfjZi8xZ6iursb8+fNHPTZv3jwcP37cpBXlJl//+tdx11134dOf/jQWLVqEG264AXfccQfWrl1r9tJyFnbvM+u+SKImC1wuF84++2y89tpr6mOiKOK1117DeeedZ+LKcgtJknDbbbfhxRdfxOuvv47p06ebvaSc5JJLLsHOnTuxfft29b8lS5bg+uuvx/bt22G3281eYs6wbNmyk9oSHDhwAFOnTjVpRbnJ0NAQbLbRtzm73Q5RFE1aUe4zffp0VFVVjbovBgIBvPvuu4bcFyn8lCVr1qzBjTfeiCVLluDcc8/Fo48+ilAohJtvvtnspeUMq1evxrPPPou//OUv8Pl8aly2sLAQeXl5Jq8ud/D5fCflKRUUFKC0tJTylzTmjjvuwPnnn48HHngA1113Hd577z08/fTTePrpp81eWk7xkY98BN///vdRX1+PBQsW4P3338cjjzyCz3/+82YvzdIMDg7i0KFD6r+PHj2K7du3o6SkBPX19bj99tvxve99D7Nnz8b06dNxzz33oKamBtdcc43+i9O9vuoU4PHHH5fq6+sll8slnXvuudI777xj9pJyCgBj/vfMM8+YvbSch0q69eOvf/2rtHDhQsntdktz586Vnn76abOXlHMEAgHpq1/9qlRfXy95PB5pxowZ0re+9S0pHA6bvTRL88Ybb4z5nXzjjTdKkiSXdd9zzz1SZWWl5Ha7pUsuuUTav3+/IWsTJIlaKxIEQRAEYX0op4YgCIIgiJyARA1BEARBEDkBiRqCIAiCIHICEjUEQRAEQeQEJGoIgiAIgsgJSNQQBEEQBJETkKghCIIgCCInIFFDEARBEEROQKKGIAjLc9FFF+H22283exkEQZgMiRqCIAiCIHICGpNAEISluemmm/DrX/961GNHjx7FtGnTzFkQQRCmQaKGIAhLMzAwgCuvvBILFy7E//t//w8AUF5eDrvdbvLKCIIwGofZCyAIgsiGwsJCuFwu5Ofno6qqyuzlEARhIpRTQxAEQRBETkCihiAIgiCInIBEDUEQlsflciEej5u9DIIgTIZEDUEQlmfatGl499130djYiO7uboiiaPaSCIIwARI1BEFYnq997Wuw2+2YP38+ysvLcfz4cbOXRBCECVBJN0EQBEEQOQE5NQRBEARB5AQkagiCIAiCyAlI1BAEQRAEkROQqCEIgiAIIicgUUMQBEEQRE5AooYgCIIgiJyARA1BEARBEDkBiRqCIAiCIHICEjUEQRAEQeQEJGoIgiAIgsgJSNQQBEEQBJETkKghCIIgCCIn+P8BHXn8DZHo8H8AAAAASUVORK5CYII=\n"
                },
                "metadata": {}
              }
            ]
          }
        },
        "fe3f276663324cc9830c5c93b37d5830": {
          "model_module": "@jupyter-widgets/base",
          "model_name": "LayoutModel",
          "model_module_version": "1.2.0",
          "state": {
            "_model_module": "@jupyter-widgets/base",
            "_model_module_version": "1.2.0",
            "_model_name": "LayoutModel",
            "_view_count": null,
            "_view_module": "@jupyter-widgets/base",
            "_view_module_version": "1.2.0",
            "_view_name": "LayoutView",
            "align_content": null,
            "align_items": null,
            "align_self": null,
            "border": null,
            "bottom": null,
            "display": null,
            "flex": null,
            "flex_flow": null,
            "grid_area": null,
            "grid_auto_columns": null,
            "grid_auto_flow": null,
            "grid_auto_rows": null,
            "grid_column": null,
            "grid_gap": null,
            "grid_row": null,
            "grid_template_areas": null,
            "grid_template_columns": null,
            "grid_template_rows": null,
            "height": null,
            "justify_content": null,
            "justify_items": null,
            "left": null,
            "margin": null,
            "max_height": null,
            "max_width": null,
            "min_height": null,
            "min_width": null,
            "object_fit": null,
            "object_position": null,
            "order": null,
            "overflow": null,
            "overflow_x": null,
            "overflow_y": null,
            "padding": null,
            "right": null,
            "top": null,
            "visibility": null,
            "width": null
          }
        },
        "82a1a24e7ea94c62981a3ea11ce8cfa3": {
          "model_module": "@jupyter-widgets/controls",
          "model_name": "FloatSliderModel",
          "model_module_version": "1.5.0",
          "state": {
            "_dom_classes": [],
            "_model_module": "@jupyter-widgets/controls",
            "_model_module_version": "1.5.0",
            "_model_name": "FloatSliderModel",
            "_view_count": null,
            "_view_module": "@jupyter-widgets/controls",
            "_view_module_version": "1.5.0",
            "_view_name": "FloatSliderView",
            "continuous_update": true,
            "description": "ω₀b:",
            "description_tooltip": null,
            "disabled": false,
            "layout": "IPY_MODEL_bdaac518fc0047c0b9724fffa7c77dd5",
            "max": 10,
            "min": 0.1,
            "orientation": "horizontal",
            "readout": true,
            "readout_format": ".2f",
            "step": 0.1,
            "style": "IPY_MODEL_89485b46dbc94c21bc08225918d56ce3",
            "value": 5
          }
        },
        "bdaac518fc0047c0b9724fffa7c77dd5": {
          "model_module": "@jupyter-widgets/base",
          "model_name": "LayoutModel",
          "model_module_version": "1.2.0",
          "state": {
            "_model_module": "@jupyter-widgets/base",
            "_model_module_version": "1.2.0",
            "_model_name": "LayoutModel",
            "_view_count": null,
            "_view_module": "@jupyter-widgets/base",
            "_view_module_version": "1.2.0",
            "_view_name": "LayoutView",
            "align_content": null,
            "align_items": null,
            "align_self": null,
            "border": null,
            "bottom": null,
            "display": null,
            "flex": null,
            "flex_flow": null,
            "grid_area": null,
            "grid_auto_columns": null,
            "grid_auto_flow": null,
            "grid_auto_rows": null,
            "grid_column": null,
            "grid_gap": null,
            "grid_row": null,
            "grid_template_areas": null,
            "grid_template_columns": null,
            "grid_template_rows": null,
            "height": null,
            "justify_content": null,
            "justify_items": null,
            "left": null,
            "margin": null,
            "max_height": null,
            "max_width": null,
            "min_height": null,
            "min_width": null,
            "object_fit": null,
            "object_position": null,
            "order": null,
            "overflow": null,
            "overflow_x": null,
            "overflow_y": null,
            "padding": null,
            "right": null,
            "top": null,
            "visibility": null,
            "width": null
          }
        },
        "89485b46dbc94c21bc08225918d56ce3": {
          "model_module": "@jupyter-widgets/controls",
          "model_name": "SliderStyleModel",
          "model_module_version": "1.5.0",
          "state": {
            "_model_module": "@jupyter-widgets/controls",
            "_model_module_version": "1.5.0",
            "_model_name": "SliderStyleModel",
            "_view_count": null,
            "_view_module": "@jupyter-widgets/base",
            "_view_module_version": "1.2.0",
            "_view_name": "StyleView",
            "description_width": "",
            "handle_color": null
          }
        },
        "c269d263b10d4e829f835cbb2c6173e7": {
          "model_module": "@jupyter-widgets/controls",
          "model_name": "FloatSliderModel",
          "model_module_version": "1.5.0",
          "state": {
            "_dom_classes": [],
            "_model_module": "@jupyter-widgets/controls",
            "_model_module_version": "1.5.0",
            "_model_name": "FloatSliderModel",
            "_view_count": null,
            "_view_module": "@jupyter-widgets/controls",
            "_view_module_version": "1.5.0",
            "_view_name": "FloatSliderView",
            "continuous_update": true,
            "description": "kb:",
            "description_tooltip": null,
            "disabled": false,
            "layout": "IPY_MODEL_8fbc6b5e069c475fbb4da42c4aa3f90f",
            "max": 1,
            "min": 0.01,
            "orientation": "horizontal",
            "readout": true,
            "readout_format": ".2f",
            "step": 0.01,
            "style": "IPY_MODEL_beaa61ec99e742c89d7741d84e896d89",
            "value": 0.1
          }
        },
        "8fbc6b5e069c475fbb4da42c4aa3f90f": {
          "model_module": "@jupyter-widgets/base",
          "model_name": "LayoutModel",
          "model_module_version": "1.2.0",
          "state": {
            "_model_module": "@jupyter-widgets/base",
            "_model_module_version": "1.2.0",
            "_model_name": "LayoutModel",
            "_view_count": null,
            "_view_module": "@jupyter-widgets/base",
            "_view_module_version": "1.2.0",
            "_view_name": "LayoutView",
            "align_content": null,
            "align_items": null,
            "align_self": null,
            "border": null,
            "bottom": null,
            "display": null,
            "flex": null,
            "flex_flow": null,
            "grid_area": null,
            "grid_auto_columns": null,
            "grid_auto_flow": null,
            "grid_auto_rows": null,
            "grid_column": null,
            "grid_gap": null,
            "grid_row": null,
            "grid_template_areas": null,
            "grid_template_columns": null,
            "grid_template_rows": null,
            "height": null,
            "justify_content": null,
            "justify_items": null,
            "left": null,
            "margin": null,
            "max_height": null,
            "max_width": null,
            "min_height": null,
            "min_width": null,
            "object_fit": null,
            "object_position": null,
            "order": null,
            "overflow": null,
            "overflow_x": null,
            "overflow_y": null,
            "padding": null,
            "right": null,
            "top": null,
            "visibility": null,
            "width": null
          }
        },
        "beaa61ec99e742c89d7741d84e896d89": {
          "model_module": "@jupyter-widgets/controls",
          "model_name": "SliderStyleModel",
          "model_module_version": "1.5.0",
          "state": {
            "_model_module": "@jupyter-widgets/controls",
            "_model_module_version": "1.5.0",
            "_model_name": "SliderStyleModel",
            "_view_count": null,
            "_view_module": "@jupyter-widgets/base",
            "_view_module_version": "1.2.0",
            "_view_name": "StyleView",
            "description_width": "",
            "handle_color": null
          }
        },
        "dd789f49e6ef46b281ff906ca71d8363": {
          "model_module": "@jupyter-widgets/output",
          "model_name": "OutputModel",
          "model_module_version": "1.0.0",
          "state": {
            "_dom_classes": [],
            "_model_module": "@jupyter-widgets/output",
            "_model_module_version": "1.0.0",
            "_model_name": "OutputModel",
            "_view_count": null,
            "_view_module": "@jupyter-widgets/output",
            "_view_module_version": "1.0.0",
            "_view_name": "OutputView",
            "layout": "IPY_MODEL_a7c511123e2e488ba2b7c74b8a0beeba",
            "msg_id": "",
            "outputs": [
              {
                "output_type": "display_data",
                "data": {
                  "text/plain": "<Figure size 640x480 with 1 Axes>",
                  "image/png": "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\n"
                },
                "metadata": {}
              }
            ]
          }
        },
        "a7c511123e2e488ba2b7c74b8a0beeba": {
          "model_module": "@jupyter-widgets/base",
          "model_name": "LayoutModel",
          "model_module_version": "1.2.0",
          "state": {
            "_model_module": "@jupyter-widgets/base",
            "_model_module_version": "1.2.0",
            "_model_name": "LayoutModel",
            "_view_count": null,
            "_view_module": "@jupyter-widgets/base",
            "_view_module_version": "1.2.0",
            "_view_name": "LayoutView",
            "align_content": null,
            "align_items": null,
            "align_self": null,
            "border": null,
            "bottom": null,
            "display": null,
            "flex": null,
            "flex_flow": null,
            "grid_area": null,
            "grid_auto_columns": null,
            "grid_auto_flow": null,
            "grid_auto_rows": null,
            "grid_column": null,
            "grid_gap": null,
            "grid_row": null,
            "grid_template_areas": null,
            "grid_template_columns": null,
            "grid_template_rows": null,
            "height": null,
            "justify_content": null,
            "justify_items": null,
            "left": null,
            "margin": null,
            "max_height": null,
            "max_width": null,
            "min_height": null,
            "min_width": null,
            "object_fit": null,
            "object_position": null,
            "order": null,
            "overflow": null,
            "overflow_x": null,
            "overflow_y": null,
            "padding": null,
            "right": null,
            "top": null,
            "visibility": null,
            "width": null
          }
        }
      }
    }
  },
  "cells": [
    {
      "cell_type": "markdown",
      "metadata": {
        "id": "view-in-github",
        "colab_type": "text"
      },
      "source": [
        "<a href=\"https://colab.research.google.com/github/TomokiArima/Simulation2024_Homework/blob/main/%E3%82%B7%E3%83%9F%E3%83%A5%E5%B7%A5_%E8%AA%B2%E9%A1%8C.ipynb\" target=\"_parent\"><img src=\"https://colab.research.google.com/assets/colab-badge.svg\" alt=\"Open In Colab\"/></a>"
      ]
    },
    {
      "cell_type": "code",
      "execution_count": 18,
      "metadata": {
        "id": "-ur3G2vHqpHK",
        "colab": {
          "base_uri": "https://localhost:8080/",
          "height": 1000,
          "referenced_widgets": [
            "45325bf18a04406fb08c335daabd7a41",
            "95c815c08638450e9ec25fa9e56fcb44",
            "7e8aacd5ccdd4a33b416b6d5fc942123",
            "9afc2354f9d44c9a92b999e01a093a51",
            "75cdee28b5a548bbb86978be18cd7594",
            "517d120af5544638a5b9c69236d76cfc",
            "5bf5d786d7ac4ce799e01c364d805116",
            "fe3f276663324cc9830c5c93b37d5830",
            "82a1a24e7ea94c62981a3ea11ce8cfa3",
            "bdaac518fc0047c0b9724fffa7c77dd5",
            "89485b46dbc94c21bc08225918d56ce3",
            "c269d263b10d4e829f835cbb2c6173e7",
            "8fbc6b5e069c475fbb4da42c4aa3f90f",
            "beaa61ec99e742c89d7741d84e896d89",
            "dd789f49e6ef46b281ff906ca71d8363",
            "a7c511123e2e488ba2b7c74b8a0beeba"
          ]
        },
        "outputId": "f609d090-5590-4ae4-b6dc-65d5e02d8b2c"
      },
      "outputs": [
        {
          "output_type": "display_data",
          "data": {
            "text/plain": [
              "FloatSlider(value=5.0, description='ω₀a:', max=10.0, min=0.1)"
            ],
            "application/vnd.jupyter.widget-view+json": {
              "version_major": 2,
              "version_minor": 0,
              "model_id": "45325bf18a04406fb08c335daabd7a41"
            }
          },
          "metadata": {}
        },
        {
          "output_type": "display_data",
          "data": {
            "text/plain": [
              "FloatSlider(value=0.1, description='ka:', max=1.0, min=0.01, step=0.01)"
            ],
            "application/vnd.jupyter.widget-view+json": {
              "version_major": 2,
              "version_minor": 0,
              "model_id": "9afc2354f9d44c9a92b999e01a093a51"
            }
          },
          "metadata": {}
        },
        {
          "output_type": "display_data",
          "data": {
            "text/plain": [
              "Output()"
            ],
            "application/vnd.jupyter.widget-view+json": {
              "version_major": 2,
              "version_minor": 0,
              "model_id": "5bf5d786d7ac4ce799e01c364d805116"
            }
          },
          "metadata": {}
        },
        {
          "output_type": "display_data",
          "data": {
            "text/plain": [
              "FloatSlider(value=5.0, description='ω₀b:', max=10.0, min=0.1)"
            ],
            "application/vnd.jupyter.widget-view+json": {
              "version_major": 2,
              "version_minor": 0,
              "model_id": "82a1a24e7ea94c62981a3ea11ce8cfa3"
            }
          },
          "metadata": {}
        },
        {
          "output_type": "display_data",
          "data": {
            "text/plain": [
              "FloatSlider(value=0.1, description='kb:', max=1.0, min=0.01, step=0.01)"
            ],
            "application/vnd.jupyter.widget-view+json": {
              "version_major": 2,
              "version_minor": 0,
              "model_id": "c269d263b10d4e829f835cbb2c6173e7"
            }
          },
          "metadata": {}
        },
        {
          "output_type": "display_data",
          "data": {
            "text/plain": [
              "Output()"
            ],
            "application/vnd.jupyter.widget-view+json": {
              "version_major": 2,
              "version_minor": 0,
              "model_id": "dd789f49e6ef46b281ff906ca71d8363"
            }
          },
          "metadata": {}
        }
      ],
      "source": [
        "import matplotlib.pyplot as plt\n",
        "import numpy as np\n",
        "import math\n",
        "import ipywidgets as widgets\n",
        "from IPython.display import display,clear_output\n",
        "\n",
        "#減衰の式\n",
        "def DampedOscillation (w0,k,x0,wd, t):\n",
        "  x = [] #結果を格納するリストを初期化\n",
        "  for ti in t: #tの各要素に対してループ、tiはi番目の配列の中身\n",
        "    xi = x0 * (math.exp(-k * ti)) *(math.cos(wd * ti) + ((k/wd) * math.sin(wd * ti)))\n",
        "    x.append(xi) # 結果をリストに追加\n",
        "  return np.array(x) #リストをNumPy配列に変換して返す\n",
        "\n",
        "\n",
        "#条件\n",
        "t = np.arange(0, 10, 0.01)  #時間範囲\n",
        "x0=7  #初期変位x0\n",
        "Va = None\n",
        "Vb = None\n",
        "\n",
        "#スライダーの設定\n",
        "w0a_slider = widgets.FloatSlider(value=5, min=0.1, max=10, step=0.1, description='ω₀a:')  #w0：固有角振動数　(value=初期値、min,max=スライダー範囲、step=刻み幅、description=スライダータイトル)\n",
        "ka_slider = widgets.FloatSlider(value=0.1, min=0.01, max=1, step=0.01, description='ka:') #k：減衰係数\n",
        "w0b_slider = widgets.FloatSlider(value=5, min=0.1, max=10, step=0.1, description='ω₀b:')  #w0：固有角振動数　(value=初期値、min,max=スライダー範囲、step=刻み幅、description=スライダータイトル)\n",
        "kb_slider = widgets.FloatSlider(value=0.1, min=0.01, max=1, step=0.01, description='kb:')\n",
        "\n",
        "#グラフを出力する所を作成\n",
        "output_a = widgets.Output()\n",
        "output_b = widgets.Output()\n",
        "\n",
        "#関数：スライダーの値が変更されたときの更新処理(a)\n",
        "def update_plot_a(change):\n",
        "  global Va  #Vをグローバル変数として扱う\n",
        "  with output_a:  #グラフを出力する所のoutputに対する処理という指定\n",
        "    clear_output(True)   #以前の出力を削除する\n",
        "    #スライダーの値をw0,kに代入する\n",
        "    w0a = w0a_slider.value  #\".value\"でスライダーの値を取得する\n",
        "    ka = ka_slider.value\n",
        "\n",
        "    try:\n",
        "      wda = math.sqrt((w0a**2) - (ka**2))  #wd：角振動数(減衰有)\n",
        "      Va = DampedOscillation(w0a,ka,x0,wda,t) #V：変位　減衰の式(DampedOscillation)に各値を代入して計算\n",
        "\n",
        "      plt.plot(t, Va)\n",
        "      plt.xlabel('t')\n",
        "      plt.ylabel('Va')\n",
        "      plt.title(f'w0a = {w0a:.2f}, ka = {ka:.2f}, x₀a = {x0:.2f}')\n",
        "      plt.grid(True) # グリッド表示\n",
        "      plt.show()\n",
        "\n",
        "    except ValueError:\n",
        "            print(\"Error: wd=√(ω₀a² - ka²)が負になった可能性\")\n",
        "\n",
        "#関数：スライダーの値が変更されたときの更新処理(b)\n",
        "def update_plot_b(change):\n",
        "  global Vb  #Vをグローバル変数として扱う\n",
        "  with output_b:  #グラフを出力する所のoutputに対する処理という指定\n",
        "    clear_output(True)   #以前の出力を削除する\n",
        "    #スライダーの値をw0,kに代入する\n",
        "    w0b = w0b_slider.value  #\".value\"でスライダーの値を取得する\n",
        "    kb = kb_slider.value\n",
        "\n",
        "    try:\n",
        "      wdb = math.sqrt((w0b**2) - (kb**2))  #wd：角振動数(減衰有)\n",
        "      Vb = DampedOscillation(w0b,kb,x0,wdb,t) #V：変位　減衰の式(DampedOscillation)に各値を代入して計算\n",
        "\n",
        "      plt.plot(t, Vb)\n",
        "      plt.xlabel('t')\n",
        "      plt.ylabel('Vb')\n",
        "      plt.title(f'w0b = {w0b:.2f}, kb = {kb:.2f}, x₀b = {x0:.2f}')\n",
        "      plt.grid(True) # グリッド表示\n",
        "      plt.show()\n",
        "\n",
        "    except ValueError:\n",
        "            print(\"Error: wd=√(ω₀b² - kb²)が負になった可能性\")\n",
        "\n",
        "#スライダーの値の変化を検知する\n",
        "w0a_slider.observe(update_plot_a, names='value')  #names='value'でスライダーの値を検知する指定。　検知された際に呼び出す関数はupdate_plot_aもしくは_b\n",
        "ka_slider.observe(update_plot_a, names='value')\n",
        "w0b_slider.observe(update_plot_b, names='value')\n",
        "kb_slider.observe(update_plot_b, names='value')\n",
        "\n",
        "\n",
        "display(w0a_slider, ka_slider, output_a) #スライダーと出力エリアをNotebook上に表示\n",
        "display(w0b_slider, kb_slider, output_b)\n",
        "\n",
        "update_plot_a(None)\n",
        "update_plot_b(None)\n",
        "\n"
      ]
    }
  ]
}